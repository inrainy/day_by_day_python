{
  "nbformat": 4,
  "nbformat_minor": 0,
  "metadata": {
    "colab": {
      "name": "6.29.algorithm.ipynb",
      "provenance": []
    },
    "kernelspec": {
      "name": "python3",
      "display_name": "Python 3"
    },
    "language_info": {
      "name": "python"
    }
  },
  "cells": [
    {
      "cell_type": "code",
      "metadata": {
        "colab": {
          "base_uri": "https://localhost:8080/"
        },
        "id": "GK5EbmUKoMMA",
        "outputId": "831a1779-2aba-4baf-96d8-de1138eb31df"
      },
      "source": [
        "def fine_int_sum(N):\n",
        "  sum = 0\n",
        "  sum_list = []\n",
        "\n",
        "  for i in range(1,N):\n",
        "    sum += N*i + i\n",
        "    sum_list.append(N*i + i)\n",
        "  \n",
        "  print(sum_list)\n",
        "  \n",
        "  return sum\n",
        "  \n",
        "\n",
        "N = int(input(\"자연수 N을 입력하시오\"))\n",
        "print(\"N값 = {} 일 때, 답은 \".format(N), fine_int_sum(N))"
      ],
      "execution_count": null,
      "outputs": [
        {
          "output_type": "stream",
          "text": [
            "자연수 N을 입력하시오100\n",
            "[101, 202, 303, 404, 505, 606, 707, 808, 909, 1010, 1111, 1212, 1313, 1414, 1515, 1616, 1717, 1818, 1919, 2020, 2121, 2222, 2323, 2424, 2525, 2626, 2727, 2828, 2929, 3030, 3131, 3232, 3333, 3434, 3535, 3636, 3737, 3838, 3939, 4040, 4141, 4242, 4343, 4444, 4545, 4646, 4747, 4848, 4949, 5050, 5151, 5252, 5353, 5454, 5555, 5656, 5757, 5858, 5959, 6060, 6161, 6262, 6363, 6464, 6565, 6666, 6767, 6868, 6969, 7070, 7171, 7272, 7373, 7474, 7575, 7676, 7777, 7878, 7979, 8080, 8181, 8282, 8383, 8484, 8585, 8686, 8787, 8888, 8989, 9090, 9191, 9292, 9393, 9494, 9595, 9696, 9797, 9898, 9999]\n",
            "N값 = 100 일 때, 답은  499950\n"
          ],
          "name": "stdout"
        }
      ]
    }
  ]
}