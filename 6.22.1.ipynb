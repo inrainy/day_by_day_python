{
 "cells": [
  {
   "cell_type": "code",
   "execution_count": 20,
   "id": "20a8f3c9-8610-4277-a27a-ff32782bb9d7",
   "metadata": {},
   "outputs": [],
   "source": [
    "class Email:\n",
    "    sender = \"\"\n",
    "    \n",
    "    def send_mail(self, recv, subject, contents):\n",
    "        #self는 허울뿐인 기능임. 아무 기능도 하지 않음\n",
    "        #send_mail()괄호 안에 들어가는 것들이 매개변수\n",
    "        #받는 사람, 제목, 내용\n",
    "        print(\"보낸이 : \" + self.sender)\n",
    "        print(\"받는이 : \" + recv)\n",
    "        print(\"제 목 : \" + subject)\n",
    "        print('='*50)\n",
    "        print(\"내 용 : \" + contents)\n",
    "        print('='*50)\n",
    "        print('위 내용을 이행하지 않을 시 본 사는 책임을 지지 않습니다.')"
   ]
  },
  {
   "cell_type": "code",
   "execution_count": 21,
   "id": "4aca361a-9945-4877-8eea-3cb10d285398",
   "metadata": {},
   "outputs": [],
   "source": [
    "e = Email()"
   ]
  },
  {
   "cell_type": "code",
   "execution_count": 22,
   "id": "a231b5d4-fceb-4809-b4d3-f73423e5e794",
   "metadata": {},
   "outputs": [],
   "source": [
    "import numpy as np"
   ]
  },
  {
   "cell_type": "code",
   "execution_count": 23,
   "id": "8f4feeb6-12a0-4098-8d6b-7122962cfa5f",
   "metadata": {},
   "outputs": [
    {
     "name": "stdout",
     "output_type": "stream",
     "text": [
      "보낸이 : ai_bot_Bul@Bul.com\n",
      "받는이 : ai_bot@gmail.com\n",
      "제 목 : 귀하의 경고장\n",
      "==================================================\n",
      "내 용 : 귀하는.....\n",
      "==================================================\n",
      "위 내용을 이행하지 않을 시 본 사는 책임을 지지 않습니다.\n"
     ]
    }
   ],
   "source": [
    "e.sender = 'ai_bot_Bul@Bul.com'\n",
    "e.send_mail('ai_bot@gmail.com', '귀하의 경고장', '귀하는.....')"
   ]
  },
  {
   "cell_type": "code",
   "execution_count": 24,
   "id": "c14b97f4-dacb-43af-8a1b-40db88655c14",
   "metadata": {},
   "outputs": [
    {
     "name": "stdout",
     "output_type": "stream",
     "text": [
      "보낸이 : ai_bot_Bul@Bul.com\n",
      "받는이 : ai_bot1@gmail.com\n",
      "제 목 : 귀하의 경고장\n",
      "==================================================\n",
      "내 용 : 귀하는.....\n",
      "==================================================\n",
      "위 내용을 이행하지 않을 시 본 사는 책임을 지지 않습니다.\n",
      "보낸이 : ai_bot_Bul@Bul.com\n",
      "받는이 : ai_bot2@gmail.com\n",
      "제 목 : 귀하의 경고장\n",
      "==================================================\n",
      "내 용 : 귀하는.....\n",
      "==================================================\n",
      "위 내용을 이행하지 않을 시 본 사는 책임을 지지 않습니다.\n",
      "보낸이 : ai_bot_Bul@Bul.com\n",
      "받는이 : ai_bot3@gmail.com\n",
      "제 목 : 귀하의 경고장\n",
      "==================================================\n",
      "내 용 : 귀하는.....\n",
      "==================================================\n",
      "위 내용을 이행하지 않을 시 본 사는 책임을 지지 않습니다.\n"
     ]
    }
   ],
   "source": [
    "recv_list = ['ai_bot1@gmail.com', \n",
    "             'ai_bot2@gmail.com', \n",
    "             'ai_bot3@gmail.com']\n",
    "for recv in recv_list:\n",
    "    e.send_mail(recv, '귀하의 경고장', '귀하는.....')"
   ]
  },
  {
   "cell_type": "code",
   "execution_count": 27,
   "id": "ddbf531e-df91-4953-9457-367aa2ce65ac",
   "metadata": {},
   "outputs": [
    {
     "name": "stdout",
     "output_type": "stream",
     "text": [
      "보낸이 : ai_bot_Bul@Bul.com\n",
      "받는이 : ai_bot@gmail.com\n",
      "제 목 : 귀하의 경고장\n",
      "==================================================\n",
      "내 용 : 귀하는.....\n",
      "==================================================\n",
      "위 내용을 이행하지 않을 시 본 사는 책임을 지지 않습니다.\n",
      "보낸이 : ai_bot_Bul@Bul.com\n",
      "받는이 : ai_bot1@gmail.com\n",
      "제 목 : 귀하의 경고장\n",
      "==================================================\n",
      "내 용 : 귀하는.....\n",
      "==================================================\n",
      "위 내용을 이행하지 않을 시 본 사는 책임을 지지 않습니다.\n",
      "보낸이 : ai_bot_Bul@Bul.com\n",
      "받는이 : ai_bot2@gmail.com\n",
      "제 목 : 귀하의 경고장\n",
      "==================================================\n",
      "내 용 : 귀하는.....\n",
      "==================================================\n",
      "위 내용을 이행하지 않을 시 본 사는 책임을 지지 않습니다.\n",
      "보낸이 : ai_bot_Bul@Bul.com\n",
      "받는이 : ai_bot3@gmail.com\n",
      "제 목 : 귀하의 경고장\n",
      "==================================================\n",
      "내 용 : 귀하는.....\n",
      "==================================================\n",
      "위 내용을 이행하지 않을 시 본 사는 책임을 지지 않습니다.\n"
     ]
    }
   ],
   "source": [
    "class Email:\n",
    "    sender = \"\"\n",
    "    \n",
    "    def send_mail(self, recv, subject, contents):\n",
    "        #self는 허울뿐인 기능임. 아무 기능도 하지 않음\n",
    "        #send_mail()괄호 안에 들어가는 것들이 매개변수\n",
    "        #받는 사람, 제목, 내용\n",
    "        print(\"보낸이 : \" + self.sender)\n",
    "        print(\"받는이 : \" + recv)\n",
    "        print(\"제 목 : \" + subject)\n",
    "        print('='*50)\n",
    "        print(\"내 용 : \" + contents)\n",
    "        print('='*50)\n",
    "        print('위 내용을 이행하지 않을 시 본 사는 책임을 지지 않습니다.')\n",
    "        \n",
    "e = Email()\n",
    "e.sender = 'ai_bot_Bul@Bul.com'\n",
    "e.send_mail('ai_bot@gmail.com', '귀하의 경고장', '귀하는.....')\n",
    "\n",
    "recv_list = ['ai_bot1@gmail.com', \n",
    "             'ai_bot2@gmail.com', \n",
    "             'ai_bot3@gmail.com']\n",
    "for recv in recv_list:\n",
    "    e.send_mail(recv, '귀하의 경고장', '귀하는.....')"
   ]
  },
  {
   "cell_type": "code",
   "execution_count": 3,
   "id": "ee6c6e21-98b5-48c6-9314-5cfd6710f679",
   "metadata": {},
   "outputs": [
    {
     "ename": "Exception",
     "evalue": "File `'run_class.ipynb.py'` not found.",
     "output_type": "error",
     "traceback": [
      "\u001b[1;31m---------------------------------------------------------------------------\u001b[0m",
      "\u001b[1;31mOSError\u001b[0m                                   Traceback (most recent call last)",
      "\u001b[1;32m~\\Anaconda3\\envs\\AI_STUDY\\lib\\site-packages\\IPython\\core\\magics\\execution.py\u001b[0m in \u001b[0;36mrun\u001b[1;34m(self, parameter_s, runner, file_finder)\u001b[0m\n\u001b[0;32m    702\u001b[0m             \u001b[0mfpath\u001b[0m \u001b[1;33m=\u001b[0m \u001b[0marg_lst\u001b[0m\u001b[1;33m[\u001b[0m\u001b[1;36m0\u001b[0m\u001b[1;33m]\u001b[0m\u001b[1;33m\u001b[0m\u001b[1;33m\u001b[0m\u001b[0m\n\u001b[1;32m--> 703\u001b[1;33m             \u001b[0mfilename\u001b[0m \u001b[1;33m=\u001b[0m \u001b[0mfile_finder\u001b[0m\u001b[1;33m(\u001b[0m\u001b[0mfpath\u001b[0m\u001b[1;33m)\u001b[0m\u001b[1;33m\u001b[0m\u001b[1;33m\u001b[0m\u001b[0m\n\u001b[0m\u001b[0;32m    704\u001b[0m         \u001b[1;32mexcept\u001b[0m \u001b[0mIndexError\u001b[0m\u001b[1;33m:\u001b[0m\u001b[1;33m\u001b[0m\u001b[1;33m\u001b[0m\u001b[0m\n",
      "\u001b[1;32m~\\Anaconda3\\envs\\AI_STUDY\\lib\\site-packages\\IPython\\utils\\path.py\u001b[0m in \u001b[0;36mget_py_filename\u001b[1;34m(name, force_win32)\u001b[0m\n\u001b[0;32m    108\u001b[0m     \u001b[1;32melse\u001b[0m\u001b[1;33m:\u001b[0m\u001b[1;33m\u001b[0m\u001b[1;33m\u001b[0m\u001b[0m\n\u001b[1;32m--> 109\u001b[1;33m         \u001b[1;32mraise\u001b[0m \u001b[0mIOError\u001b[0m\u001b[1;33m(\u001b[0m\u001b[1;34m'File `%r` not found.'\u001b[0m \u001b[1;33m%\u001b[0m \u001b[0mname\u001b[0m\u001b[1;33m)\u001b[0m\u001b[1;33m\u001b[0m\u001b[1;33m\u001b[0m\u001b[0m\n\u001b[0m\u001b[0;32m    110\u001b[0m \u001b[1;33m\u001b[0m\u001b[0m\n",
      "\u001b[1;31mOSError\u001b[0m: File `'run_class.ipynb.py'` not found.",
      "\nDuring handling of the above exception, another exception occurred:\n",
      "\u001b[1;31mException\u001b[0m                                 Traceback (most recent call last)",
      "\u001b[1;32m<ipython-input-3-4f474222fad5>\u001b[0m in \u001b[0;36m<module>\u001b[1;34m\u001b[0m\n\u001b[1;32m----> 1\u001b[1;33m \u001b[0mget_ipython\u001b[0m\u001b[1;33m(\u001b[0m\u001b[1;33m)\u001b[0m\u001b[1;33m.\u001b[0m\u001b[0mrun_line_magic\u001b[0m\u001b[1;33m(\u001b[0m\u001b[1;34m'run'\u001b[0m\u001b[1;33m,\u001b[0m \u001b[1;34m'run_class.ipynb'\u001b[0m\u001b[1;33m)\u001b[0m\u001b[1;33m\u001b[0m\u001b[1;33m\u001b[0m\u001b[0m\n\u001b[0m",
      "\u001b[1;32m~\\Anaconda3\\envs\\AI_STUDY\\lib\\site-packages\\IPython\\core\\interactiveshell.py\u001b[0m in \u001b[0;36mrun_line_magic\u001b[1;34m(self, magic_name, line, _stack_depth)\u001b[0m\n\u001b[0;32m   2342\u001b[0m                 \u001b[0mkwargs\u001b[0m\u001b[1;33m[\u001b[0m\u001b[1;34m'local_ns'\u001b[0m\u001b[1;33m]\u001b[0m \u001b[1;33m=\u001b[0m \u001b[0mself\u001b[0m\u001b[1;33m.\u001b[0m\u001b[0mget_local_scope\u001b[0m\u001b[1;33m(\u001b[0m\u001b[0mstack_depth\u001b[0m\u001b[1;33m)\u001b[0m\u001b[1;33m\u001b[0m\u001b[1;33m\u001b[0m\u001b[0m\n\u001b[0;32m   2343\u001b[0m             \u001b[1;32mwith\u001b[0m \u001b[0mself\u001b[0m\u001b[1;33m.\u001b[0m\u001b[0mbuiltin_trap\u001b[0m\u001b[1;33m:\u001b[0m\u001b[1;33m\u001b[0m\u001b[1;33m\u001b[0m\u001b[0m\n\u001b[1;32m-> 2344\u001b[1;33m                 \u001b[0mresult\u001b[0m \u001b[1;33m=\u001b[0m \u001b[0mfn\u001b[0m\u001b[1;33m(\u001b[0m\u001b[1;33m*\u001b[0m\u001b[0margs\u001b[0m\u001b[1;33m,\u001b[0m \u001b[1;33m**\u001b[0m\u001b[0mkwargs\u001b[0m\u001b[1;33m)\u001b[0m\u001b[1;33m\u001b[0m\u001b[1;33m\u001b[0m\u001b[0m\n\u001b[0m\u001b[0;32m   2345\u001b[0m             \u001b[1;32mreturn\u001b[0m \u001b[0mresult\u001b[0m\u001b[1;33m\u001b[0m\u001b[1;33m\u001b[0m\u001b[0m\n\u001b[0;32m   2346\u001b[0m \u001b[1;33m\u001b[0m\u001b[0m\n",
      "\u001b[1;32m~\\Anaconda3\\envs\\AI_STUDY\\lib\\site-packages\\decorator.py\u001b[0m in \u001b[0;36mfun\u001b[1;34m(*args, **kw)\u001b[0m\n\u001b[0;32m    230\u001b[0m             \u001b[1;32mif\u001b[0m \u001b[1;32mnot\u001b[0m \u001b[0mkwsyntax\u001b[0m\u001b[1;33m:\u001b[0m\u001b[1;33m\u001b[0m\u001b[1;33m\u001b[0m\u001b[0m\n\u001b[0;32m    231\u001b[0m                 \u001b[0margs\u001b[0m\u001b[1;33m,\u001b[0m \u001b[0mkw\u001b[0m \u001b[1;33m=\u001b[0m \u001b[0mfix\u001b[0m\u001b[1;33m(\u001b[0m\u001b[0margs\u001b[0m\u001b[1;33m,\u001b[0m \u001b[0mkw\u001b[0m\u001b[1;33m,\u001b[0m \u001b[0msig\u001b[0m\u001b[1;33m)\u001b[0m\u001b[1;33m\u001b[0m\u001b[1;33m\u001b[0m\u001b[0m\n\u001b[1;32m--> 232\u001b[1;33m             \u001b[1;32mreturn\u001b[0m \u001b[0mcaller\u001b[0m\u001b[1;33m(\u001b[0m\u001b[0mfunc\u001b[0m\u001b[1;33m,\u001b[0m \u001b[1;33m*\u001b[0m\u001b[1;33m(\u001b[0m\u001b[0mextras\u001b[0m \u001b[1;33m+\u001b[0m \u001b[0margs\u001b[0m\u001b[1;33m)\u001b[0m\u001b[1;33m,\u001b[0m \u001b[1;33m**\u001b[0m\u001b[0mkw\u001b[0m\u001b[1;33m)\u001b[0m\u001b[1;33m\u001b[0m\u001b[1;33m\u001b[0m\u001b[0m\n\u001b[0m\u001b[0;32m    233\u001b[0m     \u001b[0mfun\u001b[0m\u001b[1;33m.\u001b[0m\u001b[0m__name__\u001b[0m \u001b[1;33m=\u001b[0m \u001b[0mfunc\u001b[0m\u001b[1;33m.\u001b[0m\u001b[0m__name__\u001b[0m\u001b[1;33m\u001b[0m\u001b[1;33m\u001b[0m\u001b[0m\n\u001b[0;32m    234\u001b[0m     \u001b[0mfun\u001b[0m\u001b[1;33m.\u001b[0m\u001b[0m__doc__\u001b[0m \u001b[1;33m=\u001b[0m \u001b[0mfunc\u001b[0m\u001b[1;33m.\u001b[0m\u001b[0m__doc__\u001b[0m\u001b[1;33m\u001b[0m\u001b[1;33m\u001b[0m\u001b[0m\n",
      "\u001b[1;32m~\\Anaconda3\\envs\\AI_STUDY\\lib\\site-packages\\IPython\\core\\magic.py\u001b[0m in \u001b[0;36m<lambda>\u001b[1;34m(f, *a, **k)\u001b[0m\n\u001b[0;32m    185\u001b[0m     \u001b[1;31m# but it's overkill for just that one bit of state.\u001b[0m\u001b[1;33m\u001b[0m\u001b[1;33m\u001b[0m\u001b[1;33m\u001b[0m\u001b[0m\n\u001b[0;32m    186\u001b[0m     \u001b[1;32mdef\u001b[0m \u001b[0mmagic_deco\u001b[0m\u001b[1;33m(\u001b[0m\u001b[0marg\u001b[0m\u001b[1;33m)\u001b[0m\u001b[1;33m:\u001b[0m\u001b[1;33m\u001b[0m\u001b[1;33m\u001b[0m\u001b[0m\n\u001b[1;32m--> 187\u001b[1;33m         \u001b[0mcall\u001b[0m \u001b[1;33m=\u001b[0m \u001b[1;32mlambda\u001b[0m \u001b[0mf\u001b[0m\u001b[1;33m,\u001b[0m \u001b[1;33m*\u001b[0m\u001b[0ma\u001b[0m\u001b[1;33m,\u001b[0m \u001b[1;33m**\u001b[0m\u001b[0mk\u001b[0m\u001b[1;33m:\u001b[0m \u001b[0mf\u001b[0m\u001b[1;33m(\u001b[0m\u001b[1;33m*\u001b[0m\u001b[0ma\u001b[0m\u001b[1;33m,\u001b[0m \u001b[1;33m**\u001b[0m\u001b[0mk\u001b[0m\u001b[1;33m)\u001b[0m\u001b[1;33m\u001b[0m\u001b[1;33m\u001b[0m\u001b[0m\n\u001b[0m\u001b[0;32m    188\u001b[0m \u001b[1;33m\u001b[0m\u001b[0m\n\u001b[0;32m    189\u001b[0m         \u001b[1;32mif\u001b[0m \u001b[0mcallable\u001b[0m\u001b[1;33m(\u001b[0m\u001b[0marg\u001b[0m\u001b[1;33m)\u001b[0m\u001b[1;33m:\u001b[0m\u001b[1;33m\u001b[0m\u001b[1;33m\u001b[0m\u001b[0m\n",
      "\u001b[1;32m~\\Anaconda3\\envs\\AI_STUDY\\lib\\site-packages\\IPython\\core\\magics\\execution.py\u001b[0m in \u001b[0;36mrun\u001b[1;34m(self, parameter_s, runner, file_finder)\u001b[0m\n\u001b[0;32m    712\u001b[0m             \u001b[1;32mif\u001b[0m \u001b[0mos\u001b[0m\u001b[1;33m.\u001b[0m\u001b[0mname\u001b[0m \u001b[1;33m==\u001b[0m \u001b[1;34m'nt'\u001b[0m \u001b[1;32mand\u001b[0m \u001b[0mre\u001b[0m\u001b[1;33m.\u001b[0m\u001b[0mmatch\u001b[0m\u001b[1;33m(\u001b[0m\u001b[1;34mr\"^'.*'$\"\u001b[0m\u001b[1;33m,\u001b[0m\u001b[0mfpath\u001b[0m\u001b[1;33m)\u001b[0m\u001b[1;33m:\u001b[0m\u001b[1;33m\u001b[0m\u001b[1;33m\u001b[0m\u001b[0m\n\u001b[0;32m    713\u001b[0m                 \u001b[0mwarn\u001b[0m\u001b[1;33m(\u001b[0m\u001b[1;34m'For Windows, use double quotes to wrap a filename: %run \"mypath\\\\myfile.py\"'\u001b[0m\u001b[1;33m)\u001b[0m\u001b[1;33m\u001b[0m\u001b[1;33m\u001b[0m\u001b[0m\n\u001b[1;32m--> 714\u001b[1;33m             \u001b[1;32mraise\u001b[0m \u001b[0mException\u001b[0m\u001b[1;33m(\u001b[0m\u001b[0mmsg\u001b[0m\u001b[1;33m)\u001b[0m\u001b[1;33m\u001b[0m\u001b[1;33m\u001b[0m\u001b[0m\n\u001b[0m\u001b[0;32m    715\u001b[0m         \u001b[1;32mexcept\u001b[0m \u001b[0mTypeError\u001b[0m\u001b[1;33m:\u001b[0m\u001b[1;33m\u001b[0m\u001b[1;33m\u001b[0m\u001b[0m\n\u001b[0;32m    716\u001b[0m             \u001b[1;32mif\u001b[0m \u001b[0mfpath\u001b[0m \u001b[1;32min\u001b[0m \u001b[0msys\u001b[0m\u001b[1;33m.\u001b[0m\u001b[0mmeta_path\u001b[0m\u001b[1;33m:\u001b[0m\u001b[1;33m\u001b[0m\u001b[1;33m\u001b[0m\u001b[0m\n",
      "\u001b[1;31mException\u001b[0m: File `'run_class.ipynb.py'` not found."
     ]
    }
   ],
   "source": [
    "%run run_class.ipynb"
   ]
  },
  {
   "cell_type": "code",
   "execution_count": null,
   "id": "330a4b4f-0ae4-4d92-81b9-9b1cce72d0d6",
   "metadata": {},
   "outputs": [],
   "source": [
    "class test():\n",
    "    #class test: 도 가능함, 괄호를 써주는 경우는 상속의 문제로 괄호를 쓰면 상속이 되고,쓰지 않는 경우는 상속이 안됨\n",
    "    1+1"
   ]
  }
 ],
 "metadata": {
  "kernelspec": {
   "display_name": "Python 3",
   "language": "python",
   "name": "python3"
  },
  "language_info": {
   "codemirror_mode": {
    "name": "ipython",
    "version": 3
   },
   "file_extension": ".py",
   "mimetype": "text/x-python",
   "name": "python",
   "nbconvert_exporter": "python",
   "pygments_lexer": "ipython3",
   "version": "3.8.10"
  }
 },
 "nbformat": 4,
 "nbformat_minor": 5
}
