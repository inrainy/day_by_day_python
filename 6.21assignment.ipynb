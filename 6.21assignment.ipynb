{
 "cells": [
  {
   "cell_type": "code",
   "execution_count": 1,
   "id": "5df57302-f4c3-4585-a1b3-013ae2211f93",
   "metadata": {},
   "outputs": [],
   "source": [
    "#함수 안에 함수 3가지 만들어 보기 _ 1\n",
    "\n",
    "#나는 게임을 좋아하니까, 각 게임의 빈도를 랜덤으로 예측해볼까\n",
    "\n",
    "#주말에는 친구가 히어로즈 오브 더 스톰과 스타크래프트를 한다.\n",
    "\n",
    "#나는 평일에 휴대폰 block scapes 와 리그오브레전드를 한다.\n",
    "\n",
    "#주말에 나는 친구와 함께 히오스와 스타를 한다.\n",
    "\n",
    "##친구는 피시방에 가면 히오스를 한다\n",
    "\n",
    "##친구와 집에 있으면 스타를 한다\n",
    "\n",
    "##나는 피시방도 집도 상관없이 게임을 한다\n",
    "\n",
    "###만들고 싶은 함수는, input을 통해 주말과 평일을 나누고 (주말을 sat, sun)\n",
    "\n",
    "###주말이라면 집인지 피시방인지를 input함수를 통해서 (home, house, pc)\n",
    "\n",
    "###평일이라면 휴대폰이 있는지 없는지\n",
    "\n",
    "###무슨게임 할 지 정해주는 프로그램을 짜보자"
   ]
  },
  {
   "cell_type": "code",
   "execution_count": 1,
   "id": "8a5d957f-6dde-4304-8a0f-ba161a3a8d31",
   "metadata": {},
   "outputs": [],
   "source": [
    "def play():\n",
    "    print('<Start connecting to the server...>')"
   ]
  },
  {
   "cell_type": "code",
   "execution_count": 2,
   "id": "653b561a-beb5-477f-a79c-53cc1437724e",
   "metadata": {},
   "outputs": [
    {
     "name": "stdout",
     "output_type": "stream",
     "text": [
      "<Start connecting to the server...>\n"
     ]
    }
   ],
   "source": [
    "play()"
   ]
  },
  {
   "cell_type": "code",
   "execution_count": 3,
   "id": "cd865766-3505-4858-9f8f-aff266e6c24d",
   "metadata": {},
   "outputs": [],
   "source": [
    "def week():\n",
    "    day = input('what day today?')\n",
    "    weekend = ['sat', 'sun']\n",
    "    if day in weekend:\n",
    "        space()\n",
    "    else:\n",
    "        phone()\n",
    "        \n",
    "            #weekday = ('mon', 'tue', 'wed', 'thu', 'fri')"
   ]
  },
  {
   "cell_type": "code",
   "execution_count": 4,
   "id": "c5859dc1-2fe6-4d8f-879e-76ae5df1e4c9",
   "metadata": {},
   "outputs": [],
   "source": [
    "#수연이랑 게임할거임\n",
    "def space():\n",
    "    room = input('Where do you do it?')\n",
    "    spaces = ('home', 'pc')\n",
    "    if room == spaces[0]:\n",
    "        print(\"<Let's Play 'heores of the strom' at home>\")\n",
    "    elif:\n",
    "        print(\"<Play 'starcraft' at home>\")"
   ]
  },
  {
   "cell_type": "code",
   "execution_count": 5,
   "id": "7a5971a3-b371-4cd2-9157-c67ba7d63a20",
   "metadata": {},
   "outputs": [],
   "source": [
    "#혼자 할거임\n",
    "def phone():\n",
    "    bring = input('do you have a cell phone?')\n",
    "    answer = ('yes', 'no')\n",
    "    if bring == answer[0]:\n",
    "        print(\"<Play 'block scapes' at home>\")\n",
    "    else:\n",
    "        print(\"let's go pc for playing 'league of leagend'\")"
   ]
  },
  {
   "cell_type": "code",
   "execution_count": 6,
   "id": "c9d03be5-ed20-4d9e-9f3e-1388bb54a97c",
   "metadata": {},
   "outputs": [],
   "source": [
    "my_secret_hobby = []\n",
    "\n",
    "def log():\n",
    "    play()\n",
    "    login = input('<Please enter your ID>:')\n",
    "    password = input('<Please enter your password>:')\n",
    "    if login == '수연':\n",
    "        my_secret_hobby.append(password)\n",
    "        week()\n",
    "    else:\n",
    "        phone()"
   ]
  },
  {
   "cell_type": "code",
   "execution_count": null,
   "id": "9310f69c-61f7-4494-bfe6-f356acbec009",
   "metadata": {},
   "outputs": [],
   "source": []
  },
  {
   "cell_type": "code",
   "execution_count": null,
   "id": "68708def-d0e4-48d6-9988-66243c245650",
   "metadata": {},
   "outputs": [
    {
     "name": "stdout",
     "output_type": "stream",
     "text": [
      "<Start connecting to the server...>\n"
     ]
    },
    {
     "name": "stdin",
     "output_type": "stream",
     "text": [
      "<Please enter your ID>: 수연\n"
     ]
    }
   ],
   "source": [
    "log()"
   ]
  },
  {
   "cell_type": "code",
   "execution_count": null,
   "id": "f4a5b9b1-0322-494d-81f3-3c7564661a4d",
   "metadata": {},
   "outputs": [],
   "source": []
  },
  {
   "cell_type": "code",
   "execution_count": null,
   "id": "a826ecdf-da3d-4ec7-869f-072e6978cc7c",
   "metadata": {},
   "outputs": [],
   "source": []
  },
  {
   "cell_type": "code",
   "execution_count": null,
   "id": "47975296-448c-4506-bb47-2f42935a7d8e",
   "metadata": {},
   "outputs": [],
   "source": []
  },
  {
   "cell_type": "code",
   "execution_count": null,
   "id": "06beeaa8-d144-497e-a314-172ad4f0b4d5",
   "metadata": {},
   "outputs": [],
   "source": []
  },
  {
   "cell_type": "code",
   "execution_count": null,
   "id": "0ddbc256-30ed-4718-89b9-b2486e85d044",
   "metadata": {},
   "outputs": [],
   "source": []
  },
  {
   "cell_type": "code",
   "execution_count": null,
   "id": "618af9bd-3e19-4380-88c7-305ba54e47bb",
   "metadata": {},
   "outputs": [],
   "source": []
  },
  {
   "cell_type": "code",
   "execution_count": null,
   "id": "1a897917-f227-444e-b2e3-f0fcee979ee7",
   "metadata": {},
   "outputs": [],
   "source": []
  },
  {
   "cell_type": "code",
   "execution_count": null,
   "id": "15e94ad8-3b2d-46fe-9486-6869c615c045",
   "metadata": {},
   "outputs": [],
   "source": []
  },
  {
   "cell_type": "code",
   "execution_count": null,
   "id": "0deb39db-0abf-400d-a84b-cc4806df1e76",
   "metadata": {},
   "outputs": [],
   "source": []
  },
  {
   "cell_type": "code",
   "execution_count": 19,
   "id": "da08e216-5636-4983-b566-22a4184d148e",
   "metadata": {},
   "outputs": [
    {
     "name": "stdout",
     "output_type": "stream",
     "text": [
      "['대현사랑성경']\n"
     ]
    }
   ],
   "source": [
    "print(my_secret_hobby)"
   ]
  },
  {
   "cell_type": "code",
   "execution_count": null,
   "id": "7c3eec89-7aea-481e-a925-5ada36363312",
   "metadata": {},
   "outputs": [],
   "source": []
  }
 ],
 "metadata": {
  "kernelspec": {
   "display_name": "Python 3",
   "language": "python",
   "name": "python3"
  },
  "language_info": {
   "codemirror_mode": {
    "name": "ipython",
    "version": 3
   },
   "file_extension": ".py",
   "mimetype": "text/x-python",
   "name": "python",
   "nbconvert_exporter": "python",
   "pygments_lexer": "ipython3",
   "version": "3.8.8"
  }
 },
 "nbformat": 4,
 "nbformat_minor": 5
}
