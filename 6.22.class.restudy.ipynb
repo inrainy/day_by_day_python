{
 "cells": [
  {
   "cell_type": "code",
   "execution_count": 34,
   "id": "988eb152-76da-47d5-a99b-599e94c1e91a",
   "metadata": {},
   "outputs": [
    {
     "name": "stdout",
     "output_type": "stream",
     "text": [
      "Caitlyn Enter The Game\n",
      "hp:400, damage:55\n",
      "Caitlyn Enter The Game\n",
      "hp:400, damage:55\n",
      "Caitlyn : Attack to the right. [Damage 55]\n",
      "Jhin : Attack to the left. [Damage 70]\n"
     ]
    }
   ],
   "source": [
    "name = 'Caitlyn'\n",
    "hp = 400\n",
    "damage = 55\n",
    "print(\"{0} Enter The Game\".format(name))\n",
    "print(\"hp:{0}, damage:{1}\".format(hp,damage))\n",
    "\n",
    "J_name = 'Jhin'\n",
    "J_hp = 550\n",
    "J_damage = 70\n",
    "print(\"{0} Enter The Game\".format(name))\n",
    "print(\"hp:{0}, damage:{1}\".format(hp,damage))\n",
    "\n",
    "N_name = 'Nunu'\n",
    "N_hp = 600\n",
    "N_damage = 50\n",
    "\n",
    "def attack(name, location, damage):\n",
    "    print(\"{0} : Attack to the {1}. [Damage {2}]\".\\\n",
    "          format(name, location, damage))\n",
    "attack(name, \"right\", damage)\n",
    "attack(J_name, \"left\", J_damage)"
   ]
  },
  {
   "cell_type": "code",
   "execution_count": 35,
   "id": "e2541aae-8391-496e-bbbd-e5825c916b2a",
   "metadata": {},
   "outputs": [],
   "source": [
    "class Unit:\n",
    "    def __init__(self, name, hp, damage):\n",
    "        self.name = name\n",
    "        #인스턴스 변수, 초기화 라고 하기에는 조금 다른 듯 한데 여튼 초기화 느낌이래\n",
    "        self.hp = hp\n",
    "        self.damage = damage\n",
    "        print(\"{0} Enter The Game\".format(self.name))\n",
    "        print(\"hp:{0}, damage:{1}\".format(self.hp, self.damage))"
   ]
  },
  {
   "cell_type": "code",
   "execution_count": 36,
   "id": "51d67d04-cf38-4fd1-8e30-e85032f2461c",
   "metadata": {},
   "outputs": [
    {
     "name": "stdout",
     "output_type": "stream",
     "text": [
      "희원 Enter The Game\n",
      "hp:500, damage:70\n",
      "수연 Enter The Game\n",
      "hp:400, damage:80\n"
     ]
    }
   ],
   "source": [
    "Unit_1 = Unit('희원', 500, 70)\n",
    "Unit_2 = Unit('수연', 400, 80)"
   ]
  },
  {
   "cell_type": "code",
   "execution_count": 37,
   "id": "5abb81bf-e565-497a-8792-1363be0cb1ae",
   "metadata": {},
   "outputs": [
    {
     "name": "stdout",
     "output_type": "stream",
     "text": [
      "희원 Enter The Game\n",
      "hp:500, damage:70\n"
     ]
    }
   ],
   "source": [
    "Unit_1 = Unit('희원', 500, 70)\n",
    "Unit_1.impassible_to_attack = True"
   ]
  },
  {
   "cell_type": "code",
   "execution_count": 38,
   "id": "bcbe57e8-fa3f-4705-8081-718587393de9",
   "metadata": {},
   "outputs": [
    {
     "name": "stdout",
     "output_type": "stream",
     "text": [
      "현재 공격 불가능 상태\n"
     ]
    }
   ],
   "source": [
    "if Unit_1.impassible_to_attack == True:\n",
    "    print('현재 공격 불가능 상태')"
   ]
  },
  {
   "cell_type": "code",
   "execution_count": 39,
   "id": "0504bad3-dd8c-4c8c-9eee-4c6383169c82",
   "metadata": {},
   "outputs": [],
   "source": [
    "#3.1.5 하고 있는 중"
   ]
  },
  {
   "cell_type": "code",
   "execution_count": 40,
   "id": "13d2e340-2851-438b-b6b7-819fb1ba8c59",
   "metadata": {},
   "outputs": [],
   "source": [
    "class Attack_Unit:\n",
    "    def __init__(self, name, hp, damage):\n",
    "        self.name = name\n",
    "        self.hp = hp\n",
    "        self.damage = damage\n",
    "    \n",
    "    def attack(self, location):\n",
    "        print('{0} :  {1} 방향으로 공격을 수행하였습니다. [데미지 : {2}]').format(self.name, location, self.damage)\n",
    "        \n",
    "    def damaged(self, damaged):\n",
    "        print('{0} : 공격을 받았습니다. 데미지 정보[{1}]'.\n",
    "              format(self.name, damage))\n",
    "        self.hp -= damage\n",
    "        print('{0} : 현재 남은 HP는 {}입니다.'.format(self.name, self.hp))\n",
    "        \n",
    "        if self.hp <=0:\n",
    "            print('{0} : 게임이 종료되었습니다.'.format(self.name))\n",
    "            print('이용해주셔서 감사합니다.')"
   ]
  },
  {
   "cell_type": "code",
   "execution_count": 41,
   "id": "eaffb56d-a166-4eb3-9c76-49e5e87caf34",
   "metadata": {},
   "outputs": [],
   "source": [
    "Unit_1 = Attack_Unit(\"회원님\", 500, 100)"
   ]
  },
  {
   "cell_type": "code",
   "execution_count": 42,
   "id": "6835e267-be0d-4841-9f5e-76e4dc1be9fa",
   "metadata": {},
   "outputs": [
    {
     "data": {
      "text/plain": [
       "<__main__.Attack_Unit at 0x29421a78be0>"
      ]
     },
     "execution_count": 42,
     "metadata": {},
     "output_type": "execute_result"
    }
   ],
   "source": [
    "Unit_1"
   ]
  },
  {
   "cell_type": "code",
   "execution_count": null,
   "id": "664f08dc-8db8-4cb4-8f90-09ff91234e8d",
   "metadata": {},
   "outputs": [],
   "source": [
    "#jhin.damaged(275) / 이쪽부터 다시 따라가면 될 듯"
   ]
  },
  {
   "cell_type": "code",
   "execution_count": null,
   "id": "dbf7a2bc-4592-453e-bac0-ee2c56f9e1ee",
   "metadata": {},
   "outputs": [],
   "source": []
  },
  {
   "cell_type": "code",
   "execution_count": null,
   "id": "a4971a14-07f3-4b72-ba04-821142cf7b53",
   "metadata": {},
   "outputs": [],
   "source": []
  },
  {
   "cell_type": "code",
   "execution_count": null,
   "id": "08d8bd85-0e9b-456e-832c-e022a65f9bc0",
   "metadata": {},
   "outputs": [],
   "source": []
  },
  {
   "cell_type": "code",
   "execution_count": null,
   "id": "536f02f8-1d92-4e3f-bbab-f40a315b8409",
   "metadata": {},
   "outputs": [],
   "source": []
  },
  {
   "cell_type": "code",
   "execution_count": null,
   "id": "59cab08b-6d0b-4122-bce5-755b1a95a7c2",
   "metadata": {},
   "outputs": [],
   "source": [
    "class Unit:\n",
    "    def __init__(self, name, hp, damage):\n",
    "        self.name = name\n",
    "        self.hp = hp\n",
    "        self.damage = damage\n",
    "        print(\"{0} Enter The Game\".format(self.name))\n",
    "        print(\"HP : {0}, Damage : {1}\".format(self.hp, self.damage))   "
   ]
  }
 ],
 "metadata": {
  "kernelspec": {
   "display_name": "Python 3",
   "language": "python",
   "name": "python3"
  },
  "language_info": {
   "codemirror_mode": {
    "name": "ipython",
    "version": 3
   },
   "file_extension": ".py",
   "mimetype": "text/x-python",
   "name": "python",
   "nbconvert_exporter": "python",
   "pygments_lexer": "ipython3",
   "version": "3.8.8"
  }
 },
 "nbformat": 4,
 "nbformat_minor": 5
}
