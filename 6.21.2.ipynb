{
 "cells": [
  {
   "cell_type": "code",
   "execution_count": 2,
   "id": "60677bcc-aab4-4e9a-a895-dbd03d7dd6e8",
   "metadata": {},
   "outputs": [
    {
     "name": "stdout",
     "output_type": "stream",
     "text": [
      "1\n"
     ]
    }
   ],
   "source": [
    "###조건문 3_1_1\n",
    "\n",
    "A = 1\n",
    "if(A == 1):\n",
    "    print(A)"
   ]
  },
  {
   "cell_type": "code",
   "execution_count": 3,
   "id": "940b2c52-6721-4939-a65f-9850d169ef53",
   "metadata": {},
   "outputs": [
    {
     "name": "stdout",
     "output_type": "stream",
     "text": [
      "a\n"
     ]
    }
   ],
   "source": [
    "if (A == 1):\n",
    "    print(\"a\")"
   ]
  },
  {
   "cell_type": "code",
   "execution_count": 7,
   "id": "301dc97a-32c9-4108-89dc-0e12c3948398",
   "metadata": {},
   "outputs": [
    {
     "name": "stdin",
     "output_type": "stream",
     "text": [
      "Now Loss :  1023\n"
     ]
    },
    {
     "name": "stdout",
     "output_type": "stream",
     "text": [
      "Model Init\n"
     ]
    }
   ],
   "source": [
    "loss = input(\"Now Loss : \")\n",
    "loss = float(loss)\n",
    "#input은 무조건 문자열메서드임 float이든 int로 꼭 바꿔주자!\n",
    "if loss <= 5:\n",
    "    print('learning Succsful.')\n",
    "elif loss <= 10:\n",
    "    print('learning Failed.')\n",
    "elif loss <= 15:\n",
    "    print('leaning Failed. Adjust learning Rate.')\n",
    "else:\n",
    "    print('Model Init')"
   ]
  },
  {
   "cell_type": "code",
   "execution_count": 8,
   "id": "9eb3f774-c3a3-4e0e-800f-426facf3642c",
   "metadata": {},
   "outputs": [
    {
     "name": "stdout",
     "output_type": "stream",
     "text": [
      "Email: AI_BOT_1@abcdef.com\n",
      "Email Address Error\n",
      "No email\n"
     ]
    }
   ],
   "source": [
    "### 3.1.7 in & not in\n",
    "\n",
    "user_1 = {'name' : 'AI_BOT_1', 'email' : 'AI_BOT_1@abcdef.com', 'age' : 1}\n",
    "user_2 = {'name' : 'AI_BOT_2', 'email' : 'AI_BOT_2abcdef.com', 'age' : 1}\n",
    "user_3 = {'name' : 'AI_BOT_3', 'age' : 1}\n",
    "if 'email' in user_1:\n",
    "    if '@' not in user_1['email']:\n",
    "        print('Email Address Error')\n",
    "    else:\n",
    "        print('Email: ' + user_1['email'])\n",
    "else:\n",
    "    print('No email')\n",
    "\n",
    "if 'email' in user_2:\n",
    "    if '@' not in user_2['email']:\n",
    "        print('Email Address Error')\n",
    "    else:\n",
    "        print('Email: ' + user_2['email'])\n",
    "else:\n",
    "    print('No email')\n",
    "    \n",
    "if 'email' in user_3:\n",
    "    if '@' not in user_3['email']:\n",
    "        print('Email Address Error')\n",
    "    else:\n",
    "        print('Email: ' + user_3['email'])\n",
    "else:\n",
    "    print('No email')"
   ]
  },
  {
   "cell_type": "code",
   "execution_count": 18,
   "id": "e45788bc-31d8-4fb1-b565-15b9e991cd5b",
   "metadata": {},
   "outputs": [
    {
     "name": "stdout",
     "output_type": "stream",
     "text": [
      "Email:  AI_BOT_1@abcdef.com\n",
      "Email Address Error\n",
      "No email\n"
     ]
    }
   ],
   "source": [
    "user_1 = {'name' : 'AI_BOT_1', 'email' : 'AI_BOT_1@abcdef.com', 'age' : 1}\n",
    "user_2 = {'name' : 'AI_BOT_2', 'email' : 'AI_BOT_2abcdef.com', 'age' : 1}\n",
    "user_3 = {'name' : 'AI_BOT_3', 'age' : 1}\n",
    "\n",
    "if 'email' in user_1:\n",
    "    if '@' not in user_1['email']:\n",
    "        print('Email Address Error')\n",
    "    else:\n",
    "        print('Email: ', user_1['email'])\n",
    "else:\n",
    "    print('No email')\n",
    "\n",
    "if 'email' in user_2:\n",
    "    if '@' not in user_2['email']:\n",
    "        print('Email Address Error')\n",
    "    else:\n",
    "        print('Email: ', user_2['email'])\n",
    "else:\n",
    "    print('No email')\n",
    "    \n",
    "if 'email' in user_3:\n",
    "    if '@' not in user_3['email']:\n",
    "        print('Email Address Error')\n",
    "    else:\n",
    "        print('Email: ', user_3['email'])\n",
    "else:\n",
    "    print('No email')"
   ]
  },
  {
   "cell_type": "code",
   "execution_count": 26,
   "id": "00690dc7-dd9d-4209-8a06-17437bf84f87",
   "metadata": {},
   "outputs": [
    {
     "name": "stdout",
     "output_type": "stream",
     "text": [
      "oh baby\n",
      "so young\n",
      "how old are you?\n"
     ]
    }
   ],
   "source": [
    "user_1 = {'name' : 'AI_BOT_1', 'email' : 'AI_BOT_1@abcdef.com', 'age' : 5}\n",
    "user_2 = {'name' : 'AI_BOT_2', 'email' : 'AI_BOT_2@abcdef.com', 'age' : 23}\n",
    "user_3 = {'name' : 'AI_BOT_3', 'email' : 'AI_BOT_3@abcdef.com'}\n",
    "\n",
    "if 'age' in user_1:\n",
    "    if user_1['age'] > 10:\n",
    "        print('so young')\n",
    "    else:\n",
    "        print('oh baby')\n",
    "else:\n",
    "    print('how old are you?')\n",
    "    \n",
    "if 'age' in user_2:\n",
    "    if user_2['age'] > 10:\n",
    "        print('so young')\n",
    "    else:\n",
    "        print('oh baby')\n",
    "else:\n",
    "    print('how old are you?')\n",
    "    \n",
    "if 'age' in user_3:\n",
    "    if user_3['age'] > 10:\n",
    "        print('so young')\n",
    "    else:\n",
    "        print('oh baby')\n",
    "else:\n",
    "    print('how old are you?')\n",
    "    \n"
   ]
  },
  {
   "cell_type": "code",
   "execution_count": null,
   "id": "74f0d131-e079-454c-9839-7e346d2566a7",
   "metadata": {},
   "outputs": [],
   "source": [
    "#======================================풀어보자!\n",
    "user_1 = {'name' : 'AI_BOT_1', 'email' : 'AI_BOT_1@abcdef.com', 'age' : 5}\n",
    "user_2 = {'name' : 'AI_BOT_', 'email' : 'AI_BOT_2@abcdef.com', 'age' : 23}\n",
    "user_3 = {'email' : 'AI_BOT_3@abcdef.com', 'age' : 42}\n",
    "\n",
    "if 'name' in user_1:\n",
    "    if"
   ]
  },
  {
   "cell_type": "code",
   "execution_count": 29,
   "id": "0151bf26-4efd-4101-bc3a-5d0f66109ee8",
   "metadata": {},
   "outputs": [
    {
     "name": "stdout",
     "output_type": "stream",
     "text": [
      "data : \n",
      " [0. 0. 0. 0. 0. 0.]\n"
     ]
    }
   ],
   "source": [
    "###one hot verxtor 구문으로 성별,유충을 숫자로 바꿔줄 수 있음\n",
    "###0,1,2로 바꿨을 때 숫자는 크기를 가지고 있기 때문에, 1과 2는 2배의 차이가 나고 0과 1은 차이라고 할 수 는 없으나 차이가 있듯\n",
    "###0,1,2로 바꿧을때의 리스크가 존재하고 연산과정에서 문제가 발생할 수 있음.\n",
    "###one hot(1이란 값의 불을 켜주겠다, 핫스팟 처럼), vector 이 m, f, i 니까\n",
    "###m 은 1, 0, 0\n",
    "###f 는 0, 1, 0\n",
    "###i 는 0, 0, 1\n",
    "\n",
    "import numpy as np\n",
    "\n",
    "#rows = ['M',0.455,0.365,0.095]\n",
    "#rows = ['F',0.455,0.365,0.095]\n",
    "rows = ['I',0.455,0.365,0.095]\n",
    "\n",
    "data = np.zeros(6)\n",
    "#zeros 는 버퍼 / 임시공간 이러한 공간을 만들어 주는 것임\n",
    "print('data : \\n', data)"
   ]
  },
  {
   "cell_type": "code",
   "execution_count": 30,
   "id": "c0040012-81f3-4c7c-87a1-5a63b7af2f04",
   "metadata": {},
   "outputs": [
    {
     "name": "stdout",
     "output_type": "stream",
     "text": [
      "[0. 0. 1. 0. 0. 0.]\n"
     ]
    }
   ],
   "source": [
    "if rows[0] == 'M':\n",
    "    data[0] = 1\n",
    "elif rows[0] == 'F': \n",
    "    data[1] = 1\n",
    "elif rows[0] == 'I': \n",
    "    data[2] = 1     \n",
    "\n",
    "print(data)"
   ]
  },
  {
   "cell_type": "code",
   "execution_count": 31,
   "id": "5efb5052-baa3-4973-a9a3-6f1e26617424",
   "metadata": {},
   "outputs": [
    {
     "name": "stdout",
     "output_type": "stream",
     "text": [
      "[0.    0.    1.    0.455 0.365 0.095]\n"
     ]
    }
   ],
   "source": [
    "data[3:] = rows[1:]\n",
    "print(data)"
   ]
  },
  {
   "cell_type": "code",
   "execution_count": 39,
   "id": "1d4c5614-c8a6-499f-9d88-e1f7d97f8e37",
   "metadata": {},
   "outputs": [
    {
     "name": "stdout",
     "output_type": "stream",
     "text": [
      "data_1 \n",
      " [0. 0. 0. 0. 0. 0.]\n",
      "data_2 \n",
      " [0. 0. 0. 0. 0. 0.]\n",
      "data_3 \n",
      " [0. 0. 0. 0. 0. 0.]\n",
      "==============================\n",
      "data_1 \n",
      " [1. 0. 0. 0. 0. 0.]\n",
      "data_2 \n",
      " [0. 1. 0. 0. 0. 0.]\n",
      "data_3 \n",
      " [0. 0. 1. 0. 0. 0.]\n",
      "==============================\n",
      "[1.    0.    0.    0.455 0.365 0.095]\n",
      "[0.    1.    0.    0.455 0.365 0.095]\n",
      "[0.    0.    1.    0.455 0.365 0.095]\n"
     ]
    }
   ],
   "source": [
    "import numpy as np\n",
    "\n",
    "rows_1 = ['M',0.455,0.365,0.095]\n",
    "rows_2 = ['F',0.455,0.365,0.095]\n",
    "rows_3 = ['I',0.455,0.365,0.095]\n",
    "\n",
    "data_1 = np.zeros(6)\n",
    "data_2 = np.zeros(6)\n",
    "data_3 = np.zeros(6)\n",
    "print('data_1 \\n', data_1)\n",
    "print('data_2 \\n', data_2)\n",
    "print('data_3 \\n', data_3)\n",
    "print('='*30)\n",
    "if rows_1[0] == 'M':\n",
    "    data_1[0] = 1\n",
    "elif rows_1[0] == 'F':\n",
    "    data_1[1] = 1\n",
    "elif rows_1[0] == 'I':\n",
    "    data_1[2] = 1\n",
    "\n",
    "print('data_1 \\n', data_1)\n",
    "\n",
    "if rows_2[0] == 'M':\n",
    "    data_2[0] = 1\n",
    "elif rows_2[0] == 'F':\n",
    "    data_2[1] = 1\n",
    "elif rows_2[0] == 'I':\n",
    "    data_2[2] = 1\n",
    "\n",
    "print('data_2 \\n', data_2)\n",
    "\n",
    "\n",
    "if rows_3[0] == 'M':\n",
    "    data_3[0] = 1\n",
    "elif rows_3[0] == 'F':\n",
    "    data_3[1] = 1\n",
    "elif rows_3[0] == 'I':\n",
    "    data_3[2] = 1\n",
    "\n",
    "print('data_3 \\n', data_3)\n",
    "\n",
    "print('='*30)\n",
    "\n",
    "data_1[3:] = rows_1 [1:]\n",
    "print(data_1)\n",
    "data_2[3:] = rows_2 [1:]\n",
    "print(data_2)\n",
    "data_3[3:] = rows_3 [1:]\n",
    "print(data_3)"
   ]
  },
  {
   "cell_type": "code",
   "execution_count": null,
   "id": "4c22a1e6-e56d-41f5-a4eb-92bfd46f394b",
   "metadata": {},
   "outputs": [],
   "source": [
    "\n",
    "ID = input(\"Enter your ID\")\n",
    "age = input(\"Enter your Age as a Number.\")\n",
    "\n",
    "user = {'ID' : ID, 'age' : age}\n",
    "\n",
    "if user['age'].isdigit() == True:\n",
    "    user['age'] = int(user['age'])\n",
    "    \n",
    "    if user['age'] <= 15:\n",
    "        print(\"Manager System : Sorry {}. \".format(user['ID']) + \"You can't Enter.\")\n",
    "        teenager.append(user['ID'])\n",
    "    else:\n",
    "        print('{}, Have A Good Time.'.format(user['ID']))\n",
    "else:\n",
    "    print('Please, Enter your Age as Number.')\n"
   ]
  },
  {
   "cell_type": "code",
   "execution_count": null,
   "id": "964db9bf-7c36-491b-8d02-4004b9317dc3",
   "metadata": {},
   "outputs": [],
   "source": [
    "##연습\n",
    "\n",
    "teen = []\n",
    "\n",
    "ID = input('Enter Your ID')\n",
    "AGE = input.int('Enter Your AGE')\n",
    "\n",
    "USER = {'ID' : ID, 'AGE' : AGE}\n",
    "\n",
    "#if USER['age'].isdigit() == True:\n",
    "#    user['age'] = int\n",
    "\n",
    "if USER['age'] <= 15:\n",
    "    print(\"SORRY. YOU CAN'T SEE\")\n",
    "else:\n",
    "    print(\"HAVE A GOOD TIME\")\n"
   ]
  },
  {
   "cell_type": "code",
   "execution_count": 1,
   "id": "37c9703c-cb25-457c-b6e3-32ae96443312",
   "metadata": {},
   "outputs": [
    {
     "name": "stdin",
     "output_type": "stream",
     "text": [
      "write your ID like\n",
      "write your age 27\n"
     ]
    },
    {
     "name": "stdout",
     "output_type": "stream",
     "text": [
      "like. good watching\n"
     ]
    }
   ],
   "source": [
    "teenager = []\n",
    "\n",
    "ID = input('write your ID')\n",
    "age = input('write your age')\n",
    "\n",
    "user = {'ID': ID, 'age' : age}\n",
    "\n",
    "if user['age'].isdigit() == True:\n",
    "    user['age'] = int(user['age'])\n",
    "    \n",
    "    if user['age'] <= 15:\n",
    "        print(\"no {} you can't enter\".format(user['ID']))\n",
    "        teenager.append(user['ID'])\n",
    "    else:\n",
    "        print(\"{}. good watching\".format(user['ID']))\n",
    "else:\n",
    "    print('plz, write your age in number')"
   ]
  },
  {
   "cell_type": "code",
   "execution_count": null,
   "id": "cbc77a6a-7813-4d1a-a934-06931ee3180c",
   "metadata": {},
   "outputs": [],
   "source": [
    "#넷플릭스 teenager one more time!! 해보기!"
   ]
  }
 ],
 "metadata": {
  "kernelspec": {
   "display_name": "Python 3",
   "language": "python",
   "name": "python3"
  },
  "language_info": {
   "codemirror_mode": {
    "name": "ipython",
    "version": 3
   },
   "file_extension": ".py",
   "mimetype": "text/x-python",
   "name": "python",
   "nbconvert_exporter": "python",
   "pygments_lexer": "ipython3",
   "version": "3.8.10"
  }
 },
 "nbformat": 4,
 "nbformat_minor": 5
}
