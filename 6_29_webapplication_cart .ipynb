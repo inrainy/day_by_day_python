{
  "nbformat": 4,
  "nbformat_minor": 0,
  "metadata": {
    "colab": {
      "name": "6.29.webapplication.cart.ipynb",
      "provenance": [],
      "collapsed_sections": []
    },
    "kernelspec": {
      "name": "python3",
      "display_name": "Python 3"
    },
    "language_info": {
      "name": "python"
    }
  },
  "cells": [
    {
      "cell_type": "code",
      "metadata": {
        "colab": {
          "base_uri": "https://localhost:8080/"
        },
        "id": "dT12S73zwjp5",
        "outputId": "fdb6ad5e-31e4-4df8-b51b-9f1c93f27b2e"
      },
      "source": [
        "customer = '안성경'\n",
        "cart = []\n",
        "total_price = 0\n",
        "cart.append(('사과'\n",
        ", 300))\n",
        "total_price += 300\n",
        "cart.append(('바나나'\n",
        ", 680))\n",
        "total_price += 680\n",
        "cart.append(('블루베리'\n",
        ", 1910))\n",
        "total_price += 1910\n",
        "print(f\"{customer}님, 총 금액 {total_price} 주문 완료되었습니다.\")\n",
        "total_price = 0\n",
        "cart.clear()"
      ],
      "execution_count": 3,
      "outputs": [
        {
          "output_type": "stream",
          "text": [
            "안성경님, 총 금액 2890 주문 완료되었습니다.\n"
          ],
          "name": "stdout"
        }
      ]
    },
    {
      "cell_type": "code",
      "metadata": {
        "id": "tbanJZpmwqVR"
      },
      "source": [
        "class Cart:\n",
        "  def __init__(self, user):\n",
        "    self.user = user\n",
        "    self.total_price = 0\n",
        "    self.cart_list = []\n",
        "  def add_item(self, item):\n",
        "    self.cart_list.append(item)\n",
        "    self.total_price += item.price\n",
        "  def checkout(self):\n",
        "    print(f'{self.user}님, 총 금액 {self.total_price} 주문 완료되었습니다.')\n",
        "    self.cart_list.clear()\n",
        "    self.total_price = 0\n"
      ],
      "execution_count": 8,
      "outputs": []
    },
    {
      "cell_type": "code",
      "metadata": {
        "id": "_jD0zAZ0w3kf"
      },
      "source": [
        "class Item:\n",
        "  def __init__(self, name, price):\n",
        "    self.name = name\n",
        "    self.price = price"
      ],
      "execution_count": 11,
      "outputs": []
    },
    {
      "cell_type": "code",
      "metadata": {
        "colab": {
          "base_uri": "https://localhost:8080/"
        },
        "id": "Ezrjx_jMxXIo",
        "outputId": "b193c4ae-570f-404f-ee3f-bfde6120e309"
      },
      "source": [
        "cart = Cart('안성경')\n",
        "cart.add_item(Item('사과'\n",
        ", 300))\n",
        "cart.add_item(Item('바나나'\n",
        ", 680))\n",
        "cart.add_item(Item('블루베리'\n",
        ", 1910))\n",
        "cart.checkout()"
      ],
      "execution_count": 12,
      "outputs": [
        {
          "output_type": "stream",
          "text": [
            "박형석님, 총 금액 2890 주문 완료되었습니다.\n"
          ],
          "name": "stdout"
        }
      ]
    },
    {
      "cell_type": "code",
      "metadata": {
        "colab": {
          "base_uri": "https://localhost:8080/",
          "height": 134
        },
        "id": "6hJNWKfcxdbX",
        "outputId": "58edace4-a406-4015-a6c5-608933b37d5e"
      },
      "source": [
        "#error\n",
        "\n",
        "from classes import Cart, Item\n",
        "\n",
        "  cart = Cart('안성경')\n",
        "  cart.add_item(Item('사과', 300))\n",
        "  cart.add_item(Item('바나나', 680))\n",
        "  cart.add_item(Item('블루베리', 1910))\n",
        "  cart.checkout()"
      ],
      "execution_count": 15,
      "outputs": [
        {
          "output_type": "error",
          "ename": "IndentationError",
          "evalue": "ignored",
          "traceback": [
            "\u001b[0;36m  File \u001b[0;32m\"<ipython-input-15-151bdefdf9b5>\"\u001b[0;36m, line \u001b[0;32m3\u001b[0m\n\u001b[0;31m    cart = Cart('안성경')\u001b[0m\n\u001b[0m    ^\u001b[0m\n\u001b[0;31mIndentationError\u001b[0m\u001b[0;31m:\u001b[0m unexpected indent\n"
          ]
        }
      ]
    },
    {
      "cell_type": "code",
      "metadata": {
        "id": "9jnO0UwpxrJ3"
      },
      "source": [
        ""
      ],
      "execution_count": null,
      "outputs": []
    },
    {
      "cell_type": "code",
      "metadata": {
        "id": "tY5plHKdxz_G"
      },
      "source": [
        ""
      ],
      "execution_count": null,
      "outputs": []
    }
  ]
}