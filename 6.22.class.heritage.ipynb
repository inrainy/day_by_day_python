{
 "cells": [
  {
   "cell_type": "code",
   "execution_count": 54,
   "id": "aa0a8753-0630-40c9-9588-07e9992765b7",
   "metadata": {},
   "outputs": [],
   "source": [
    "class Unit:\n",
    "    def __init__(self, name, hp):\n",
    "        self.name = name\n",
    "        self.hp = hp"
   ]
  },
  {
   "cell_type": "code",
   "execution_count": 75,
   "id": "9d351515-337b-4902-a72e-b7cfae084e0a",
   "metadata": {},
   "outputs": [],
   "source": [
    "#다중상속\n",
    "class AttackUnit(Unit):\n",
    "    def __init__(self, name, hp, damage):\n",
    "        Unit.__init__(self, name, hp)\n",
    "        self.damage = damage\n",
    "        \n",
    "    def attack(self, location):\n",
    "        print('{0} :  {1} 방향으로 공격을 수행하였습니다. [데미지 : {2}]'.format(self.name, location, self.damage))\n",
    "        \n",
    "    def damaged(self, damage):\n",
    "        print('{0} : 공격을 받았습니다. 데미지 정보[{1}]'.format(self.name, damage))\n",
    "        self.hp -= damage\n",
    "        print('{} : 현재 남은 HP는 {}입니다.'.format(self.name, self.hp))\n",
    "        \n",
    "        if self.hp <=0:\n",
    "            print('{0} : 게임이 종료되었습니다.'.format(self.name))\n",
    "            print('이용해주셔서 감사합니다.')"
   ]
  },
  {
   "cell_type": "code",
   "execution_count": 92,
   "id": "33b968c1-ef45-49ae-88f4-7addc79e0897",
   "metadata": {},
   "outputs": [],
   "source": [
    "Unit_3 = AttackUnit(\"솔아\", 300, 20)"
   ]
  },
  {
   "cell_type": "code",
   "execution_count": 93,
   "id": "0e6d34bb-f3a5-4163-b38d-9493e766892b",
   "metadata": {},
   "outputs": [
    {
     "name": "stdout",
     "output_type": "stream",
     "text": [
      "솔아 :  3시 방향으로 공격을 수행하였습니다. [데미지 : 20]\n",
      "솔아 : 공격을 받았습니다. 데미지 정보[100]\n",
      "솔아 : 현재 남은 HP는 200입니다.\n"
     ]
    }
   ],
   "source": [
    "Unit_3.attack(\"3시\")\n",
    "Unit_3.damaged(100)"
   ]
  },
  {
   "cell_type": "code",
   "execution_count": 58,
   "id": "c305a8a7-2422-4923-a3f3-241af0e5c802",
   "metadata": {},
   "outputs": [],
   "source": [
    "#"
   ]
  },
  {
   "cell_type": "code",
   "execution_count": 59,
   "id": "17413ec0-0e70-417c-86d9-8262da24f156",
   "metadata": {},
   "outputs": [],
   "source": [
    "#"
   ]
  },
  {
   "cell_type": "code",
   "execution_count": 60,
   "id": "7fec2a80-4e88-4a6a-9f54-31fad67adff1",
   "metadata": {},
   "outputs": [],
   "source": [
    "#"
   ]
  },
  {
   "cell_type": "code",
   "execution_count": 78,
   "id": "27d9a76d-f7ba-4f3f-a228-ca5d12bfd7b6",
   "metadata": {},
   "outputs": [],
   "source": [
    "class Jungle:\n",
    "    def __init__(self, dash_speed):\n",
    "        self.dash_speed = dash_speed\n",
    "    def dash(self, name, location):\n",
    "        print(\"{0} : 회피기능을 실행하였다. [location - {1}] [speed - {2}]\".\n",
    "             format(name, location, self.dash_speed))"
   ]
  },
  {
   "cell_type": "code",
   "execution_count": 79,
   "id": "58e16ef6-296f-4646-96e0-1e19f1030799",
   "metadata": {},
   "outputs": [],
   "source": [
    "NPC_1 = Jungle(10)"
   ]
  },
  {
   "cell_type": "code",
   "execution_count": 81,
   "id": "304be40b-2128-40ae-9e92-00a486c32c10",
   "metadata": {},
   "outputs": [
    {
     "name": "stdout",
     "output_type": "stream",
     "text": [
      "멋사 : 회피기능을 실행하였다. [location - 아래] [speed - 10]\n"
     ]
    }
   ],
   "source": [
    "NPC_1 = NPC_1.dash(\"멋사\", \"아래\")"
   ]
  },
  {
   "cell_type": "code",
   "execution_count": 83,
   "id": "74cb23b5-9d27-4765-beae-27becf2864ba",
   "metadata": {},
   "outputs": [],
   "source": [
    "class JungleAttackUnit(AttackUnit, Jungle):\n",
    "    def __init__(self, name, hp, damage, dash_speed):\n",
    "        AttackUnit.__init__(self, name, hp, damage)\n",
    "        Jungle.__init__(self, dash_speed)"
   ]
  },
  {
   "cell_type": "code",
   "execution_count": 88,
   "id": "fcdcf796-d249-4bce-8646-7f4add3e94ca",
   "metadata": {},
   "outputs": [],
   "source": [
    "NPC_2 = JungleAttackUnit(\"npc_2\", 5000, 1000, 10)"
   ]
  },
  {
   "cell_type": "code",
   "execution_count": 89,
   "id": "89c27493-f480-4ba5-8809-ea1b6351d5bf",
   "metadata": {},
   "outputs": [
    {
     "name": "stdout",
     "output_type": "stream",
     "text": [
      "npc_2 : 회피기능을 실행하였다. [location - down] [speed - 10]\n"
     ]
    }
   ],
   "source": [
    "NPC_2.dash(NPC_1.name, \"down\")"
   ]
  },
  {
   "cell_type": "code",
   "execution_count": 90,
   "id": "5ede378f-0169-476b-9d62-9557b0c1b546",
   "metadata": {},
   "outputs": [
    {
     "name": "stdout",
     "output_type": "stream",
     "text": [
      "npc_2 :  Right 방향으로 공격을 수행하였습니다. [데미지 : 1000]\n"
     ]
    }
   ],
   "source": [
    "NPC_2.attack(\"Right\")"
   ]
  },
  {
   "cell_type": "code",
   "execution_count": 91,
   "id": "0984e232-9cf2-410b-8df1-342a7b1ef80a",
   "metadata": {},
   "outputs": [
    {
     "name": "stdout",
     "output_type": "stream",
     "text": [
      "npc_2 : 공격을 받았습니다. 데미지 정보[2000]\n",
      "npc_2 : 현재 남은 HP는 3000입니다.\n",
      "npc_2 : 공격을 받았습니다. 데미지 정보[2000]\n",
      "npc_2 : 현재 남은 HP는 1000입니다.\n",
      "npc_2 : 공격을 받았습니다. 데미지 정보[2000]\n",
      "npc_2 : 현재 남은 HP는 -1000입니다.\n",
      "npc_2 : 게임이 종료되었습니다.\n",
      "이용해주셔서 감사합니다.\n"
     ]
    }
   ],
   "source": [
    "NPC_2.damaged(2000)\n",
    "NPC_2.damaged(2000)\n",
    "NPC_2.damaged(2000)"
   ]
  },
  {
   "cell_type": "code",
   "execution_count": null,
   "id": "d9ac27cb-2225-44a7-87db-87dbf8b63e29",
   "metadata": {},
   "outputs": [],
   "source": []
  },
  {
   "cell_type": "code",
   "execution_count": null,
   "id": "b8fe4339-cad7-4d2e-bb44-ef094024be07",
   "metadata": {},
   "outputs": [],
   "source": []
  },
  {
   "cell_type": "code",
   "execution_count": null,
   "id": "3e18c805-7c71-4ab3-b82b-3def0d10ee28",
   "metadata": {},
   "outputs": [],
   "source": []
  }
 ],
 "metadata": {
  "kernelspec": {
   "display_name": "Python 3",
   "language": "python",
   "name": "python3"
  },
  "language_info": {
   "codemirror_mode": {
    "name": "ipython",
    "version": 3
   },
   "file_extension": ".py",
   "mimetype": "text/x-python",
   "name": "python",
   "nbconvert_exporter": "python",
   "pygments_lexer": "ipython3",
   "version": "3.8.8"
  }
 },
 "nbformat": 4,
 "nbformat_minor": 5
}
