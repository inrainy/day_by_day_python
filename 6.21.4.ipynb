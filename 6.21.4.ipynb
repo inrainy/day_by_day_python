{
 "cells": [
  {
   "cell_type": "code",
   "execution_count": null,
   "id": "5775714d-caea-4d16-b28b-6ecdd06787e4",
   "metadata": {},
   "outputs": [],
   "source": [
    "#함수\n",
    "#def = define\n",
    "#return 을 사용하는 경우 res를 밖으로 빼줄 수 있음 (물론 print 만 사용할 수도 있음) ->연산결과를 또 사용할 수 있음\n",
    "#1,2확인"
   ]
  },
  {
   "cell_type": "code",
   "execution_count": 24,
   "id": "dd617c80-73a0-4438-a956-8fb4a33e87cc",
   "metadata": {},
   "outputs": [],
   "source": [
    "import numpy as np"
   ]
  },
  {
   "cell_type": "code",
   "execution_count": 3,
   "id": "7d50bf1f-40d3-489a-baff-a7a367de1584",
   "metadata": {},
   "outputs": [
    {
     "name": "stdout",
     "output_type": "stream",
     "text": [
      "30\n"
     ]
    }
   ],
   "source": [
    "#1\n",
    "\n",
    "def my_sum(a,b):\n",
    "    res = a+b\n",
    "    return res\n",
    "\n",
    "res = my_sum(10,20)\n",
    "print(res)"
   ]
  },
  {
   "cell_type": "code",
   "execution_count": 4,
   "id": "f6a27206-5781-463d-9948-461f34d80ca7",
   "metadata": {},
   "outputs": [
    {
     "name": "stdout",
     "output_type": "stream",
     "text": [
      "30\n",
      "None\n"
     ]
    }
   ],
   "source": [
    "#2\n",
    "\n",
    "def my_sum(a,b):\n",
    "    res = a+b\n",
    "    print(res)\n",
    "\n",
    "res = my_sum(10,20)\n",
    "print(res)"
   ]
  },
  {
   "cell_type": "code",
   "execution_count": 2,
   "id": "b4415350-383b-4742-8513-6bb9da51231a",
   "metadata": {},
   "outputs": [
    {
     "name": "stdout",
     "output_type": "stream",
     "text": [
      "30\n",
      "30\n"
     ]
    }
   ],
   "source": [
    "def sum(a,b):\n",
    "    res = a+b\n",
    "    print(res)\n",
    "    return res\n",
    "res = sum(10,20)\n",
    "print(res)"
   ]
  },
  {
   "cell_type": "code",
   "execution_count": 8,
   "id": "6b192082-b534-4567-93d8-0de04af114d8",
   "metadata": {},
   "outputs": [
    {
     "name": "stdout",
     "output_type": "stream",
     "text": [
      "징크스 소환사의 협곡에 오신 것을 환영합니다.\n",
      "hp : 768, damage : 80\n"
     ]
    }
   ],
   "source": [
    "#리그오브레전드 시나리오\n",
    "name = '징크스'\n",
    "hp = 768\n",
    "damage = 80\n",
    "\n",
    "print(\"{0} 소환사의 협곡에 오신 것을 환영합니다.\".format(name))\n",
    "print(\"hp : {0}, damage : {1}\".format(hp, damage))"
   ]
  },
  {
   "cell_type": "code",
   "execution_count": 9,
   "id": "72472434-f464-4f6a-935d-f2db72b60ce3",
   "metadata": {},
   "outputs": [
    {
     "name": "stdout",
     "output_type": "stream",
     "text": [
      "스웨인 소환사의 협곡에 오신 것을 환영합니다.\n",
      "hp : 860, damage : 55\n"
     ]
    }
   ],
   "source": [
    "name_s = '스웨인'\n",
    "hp_s = 860\n",
    "damage_s = 55\n",
    "\n",
    "print(\"{0} 소환사의 협곡에 오신 것을 환영합니다.\".format(name_s))\n",
    "print(\"hp : {0}, damage : {1}\".format(hp_s, damage_s))"
   ]
  },
  {
   "cell_type": "code",
   "execution_count": 10,
   "id": "7eeea4d6-9ad4-4ab8-8546-13ddec054cec",
   "metadata": {},
   "outputs": [],
   "source": [
    "def attack(name, location, damage):\n",
    "    print(\"{0} : 공격을 {1} 뱡향으로 실행하였습니다. [Damage : {2}]\".\\\n",
    "          format(name, location, damage))\n"
   ]
  },
  {
   "cell_type": "code",
   "execution_count": 12,
   "id": "dad1076e-9a2c-4088-9f03-70d5c9099532",
   "metadata": {},
   "outputs": [
    {
     "name": "stdout",
     "output_type": "stream",
     "text": [
      "징크스 : 공격을 왼쪽 뱡향으로 실행하였습니다. [Damage : 80]\n",
      "스웨인 : 공격을 왼쪽 뱡향으로 실행하였습니다. [Damage : 55]\n"
     ]
    }
   ],
   "source": [
    "attack(name, \"왼쪽\", damage)\n",
    "attack(name_s, \"왼쪽\", damage_s)"
   ]
  },
  {
   "cell_type": "code",
   "execution_count": 13,
   "id": "be50231e-d627-47ab-85ae-dc29390703c6",
   "metadata": {},
   "outputs": [],
   "source": [
    "def game_system():\n",
    "    print(\"<Game System>\")"
   ]
  },
  {
   "cell_type": "code",
   "execution_count": 14,
   "id": "7dc3db24-777d-4e7f-ba98-16f49d7c684b",
   "metadata": {},
   "outputs": [],
   "source": [
    "def attack(name, location, damage):\n",
    "    game_system()\n",
    "    print(\"{0} : 공격을 {1} 뱡향으로 실행하였습니다. [Damage : {2}]\".\\\n",
    "          format(name, location, damage))"
   ]
  },
  {
   "cell_type": "code",
   "execution_count": 15,
   "id": "d52021e1-ffe7-4066-b5bb-586b35ee4333",
   "metadata": {},
   "outputs": [
    {
     "name": "stdout",
     "output_type": "stream",
     "text": [
      "<Game System>\n",
      "징크스 : 공격을 왼쪽 뱡향으로 실행하였습니다. [Damage : 80]\n",
      "<Game System>\n",
      "스웨인 : 공격을 왼쪽 뱡향으로 실행하였습니다. [Damage : 55]\n"
     ]
    }
   ],
   "source": [
    "attack(name, \"왼쪽\", damage)\n",
    "attack(name_s, \"왼쪽\", damage_s)"
   ]
  },
  {
   "cell_type": "code",
   "execution_count": 21,
   "id": "d4e375d3-0003-48e0-99b7-f101a13bb9fc",
   "metadata": {},
   "outputs": [],
   "source": [
    "def main_exec():\n",
    "    import_data() #데이터를 불러오는 기능\n",
    "    model_init() #가중치나 편향값을 초기화\n",
    "    train_and_test() #학습과 테스트를 수행하는 함수"
   ]
  },
  {
   "cell_type": "code",
   "execution_count": null,
   "id": "0aec6c79-cbad-45a0-b896-6bb1e650c203",
   "metadata": {},
   "outputs": [],
   "source": [
    "y_hat = theta_0 + theta_1*x"
   ]
  },
  {
   "cell_type": "code",
   "execution_count": 25,
   "id": "4e5d3d1d-aec9-432e-baf9-36972360ad99",
   "metadata": {},
   "outputs": [
    {
     "data": {
      "text/plain": [
       "((-0.2799141997510614, [10, 1]), array([0.87482365]))"
      ]
     },
     "execution_count": 25,
     "metadata": {},
     "output_type": "execute_result"
    }
   ],
   "source": [
    "#이 함수는 파라미터(가중치[세타1], 편향[세타0])을 초기화 시켜주는 함수입니다.\n",
    "RND_mean = 0\n",
    "RND_std = 1 #RND는 랜덤함수의 약자임\n",
    "\n",
    "input_cnt = 10 #독립변수의 수\n",
    "output_cnt = 1 #종속변수의 수(변하지 않음)\n",
    "\n",
    "def model_init():\n",
    "    global weight, bias #전역변수, 다른 함수에서는 이 이름을 사용할 수 없음.\n",
    "    weight = np.random.normal(RND_mean, RND_std), [input_cnt, output_cnt]  #weight이나 bias에는 무작위 값을 넣는다\n",
    "    bias = np.random.normal(RND_mean, RND_std, [output_cnt])\n",
    "    return weight, bias\n",
    "model_init()"
   ]
  },
  {
   "cell_type": "code",
   "execution_count": 26,
   "id": "e6999570-c1fe-4294-a593-1d958b5d30ca",
   "metadata": {},
   "outputs": [
    {
     "data": {
      "text/plain": [
       "(-0.2799141997510614, [10, 1])"
      ]
     },
     "execution_count": 26,
     "metadata": {},
     "output_type": "execute_result"
    }
   ],
   "source": [
    "weight"
   ]
  },
  {
   "cell_type": "code",
   "execution_count": 27,
   "id": "73261aa6-0a72-4344-9f22-c21f820aa78f",
   "metadata": {},
   "outputs": [
    {
     "data": {
      "text/plain": [
       "array([0.87482365])"
      ]
     },
     "execution_count": 27,
     "metadata": {},
     "output_type": "execute_result"
    }
   ],
   "source": [
    "bias"
   ]
  },
  {
   "cell_type": "code",
   "execution_count": 28,
   "id": "767eee23-911c-4441-a8ff-969d80118ebe",
   "metadata": {},
   "outputs": [],
   "source": [
    "def main_exec():\n",
    "   # import_data() #데이터를 불러오는 기능\n",
    "    model_init() #가중치나 편향값을 초기화\n",
    "   # train_and_test() #학습과 테스트를 수행하는 함수"
   ]
  },
  {
   "cell_type": "code",
   "execution_count": 29,
   "id": "25138842-59bc-44ac-8c75-e5162cfb6417",
   "metadata": {},
   "outputs": [],
   "source": [
    "main_exec()"
   ]
  },
  {
   "cell_type": "code",
   "execution_count": 30,
   "id": "d1b4cee7-ade6-48b4-bc20-df152dc9c0f1",
   "metadata": {},
   "outputs": [
    {
     "data": {
      "text/plain": [
       "(0.580203562246681, [10, 1])"
      ]
     },
     "execution_count": 30,
     "metadata": {},
     "output_type": "execute_result"
    }
   ],
   "source": [
    "weight"
   ]
  },
  {
   "cell_type": "code",
   "execution_count": 118,
   "id": "69aab67d-0c51-4775-95df-f0d52a8f9678",
   "metadata": {},
   "outputs": [
    {
     "name": "stdout",
     "output_type": "stream",
     "text": [
      "[[ 0.      1.      0.      0.455   0.365   0.095   0.514   0.2245  0.101\n",
      "   0.15   15.    ]\n",
      " [ 0.      1.      0.      0.35    0.265   0.09    0.2255  0.0995  0.0485\n",
      "   0.07    7.    ]\n",
      " [ 0.      0.      1.      0.53    0.42    0.135   0.677   0.2565  0.1415\n",
      "   0.21    9.    ]\n",
      " [ 0.      1.      0.      0.44    0.365   0.125   0.516   0.2155  0.114\n",
      "   0.155  10.    ]\n",
      " [ 1.      0.      0.      0.33    0.255   0.08    0.205   0.0895  0.0395\n",
      "   0.055   7.    ]]\n"
     ]
    }
   ],
   "source": [
    "#import_data 함수를 만들어보기 / 이 함수는 데이터를 불러오고, 원 핫 벡터 처리를 수행한다.\n",
    "\n",
    "import csv\n",
    "import numpy as np\n",
    "\n",
    "with open('abalone_mini.csv') as csvfile:\n",
    "    csvreader = csv.reader(csvfile)\n",
    "    #print(csvreader)\n",
    "    rows = []\n",
    "    for row in csvreader:\n",
    "        rows.append(row)\n",
    "\n",
    "#print(rows)\n",
    "\n",
    "data = np.zeros([5,11])\n",
    "#print(data)\n",
    "\n",
    "for row in enumerate(rows):\n",
    "    if row[0] == 'I' :data [n,0] = 1\n",
    "\n",
    "\n",
    "\n",
    "data = np.zeros([5,11])\n",
    "#print(data)\n",
    "\n",
    "#for row in rows:\n",
    "    #print(row)\n",
    "#for row in enumerate(rows):\n",
    "    #print(row)\n",
    "    #enumerate는 인덱스 번호가 같이 와 있음\n",
    "for n,row in enumerate(rows):    \n",
    "    if row[0] == 'I' : data [n,0] = 1\n",
    "    if row[0] == 'M' : data [n,1] = 1\n",
    "    if row[0] == 'F' : data [n,2] = 1\n",
    "        \n",
    "    data[n, 3:] = row[1:]\n",
    "    \n",
    "print(data)\n"
   ]
  },
  {
   "cell_type": "code",
   "execution_count": 136,
   "id": "f2bea163-f8ba-4caa-8cf0-42ec102d7833",
   "metadata": {
    "tags": []
   },
   "outputs": [],
   "source": [
    "def import_data():\n",
    "    import csv\n",
    "    import numpy as np\n",
    "    \n",
    "    with open('abalone_mini.csv') as csvfile:\n",
    "        csvreader = csv.reader(csvfile)\n",
    "        #print(csvreader)\n",
    "        rows = []\n",
    "        for row in csvreader:\n",
    "            rows.append(row)\n",
    "            \n",
    "    data = np.zeros([5,11])\n",
    "    \n",
    "    for n, row in enumerate(rows):\n",
    "        if row[0] == 'I' :data [n,0] = 1\n",
    "        if row[0] == 'M' : data [n,1] = 1\n",
    "        if row[0] == 'F' : data [n,2] = 1\n",
    "        \n",
    "        data[n, 3:] = row[1:]\n",
    "        \n",
    "    return import_data\n",
    "\n",
    "def model_init():\n",
    "    global weight, bias #전역변수, 다른 함수에서는 이 이름을 사용할 수 없음.\n",
    "    weight = np.random.normal(RND_mean, RND_std), [input_cnt, output_cnt]  #weight이나 bias에는 무작위 값을 넣는다\n",
    "    bias = np.random.normal(RND_mean, RND_std, [output_cnt])\n",
    "    return weight, bias\n",
    "\n",
    "def main_exec():\n",
    "    import_data() #데이터를 불러오는 기능\n",
    "    model_init() #가중치나 편향값을 초기화\n",
    "   # train_and_test() #학습과 테스트를 수행하는 함수\n",
    "\n",
    "main_exec()"
   ]
  },
  {
   "cell_type": "code",
   "execution_count": 137,
   "id": "59925b52-2d7e-4aec-aa07-6bec533217a4",
   "metadata": {},
   "outputs": [],
   "source": [
    "import csv\n",
    "import numpy as np\n",
    "    \n",
    "def import_data():\n",
    "    global data\n",
    "    with open('abalone_mini.csv') as csvfile:\n",
    "        csvreader = csv.reader(csvfile)\n",
    "        #print(csvreader)\n",
    "        rows = []\n",
    "        for row in csvreader:\n",
    "            rows.append(row)\n",
    "            \n",
    "    data = np.zeros([5,11])\n",
    "    \n",
    "    for n,row in enumerate(rows): #enunmerate를 사용할때는 변수를 2개 사용해야함\n",
    "        if row[0] == 'I' :data [n,0] = 1\n",
    "        elif row[0] == 'M' : data [n,1] = 1\n",
    "        elif row[0] == 'F' : data [n,2] = 1\n",
    "        \n",
    "        data[n, 3:] = row[1:]"
   ]
  },
  {
   "cell_type": "code",
   "execution_count": 138,
   "id": "efcca8a2-9ca7-435f-8d7c-f2e059447f4e",
   "metadata": {},
   "outputs": [],
   "source": [
    "import_data()"
   ]
  },
  {
   "cell_type": "code",
   "execution_count": 139,
   "id": "cec60cea-eccf-466a-946d-320eed2b8625",
   "metadata": {},
   "outputs": [
    {
     "data": {
      "text/plain": [
       "array([[ 0.    ,  1.    ,  0.    ,  0.455 ,  0.365 ,  0.095 ,  0.514 ,\n",
       "         0.2245,  0.101 ,  0.15  , 15.    ],\n",
       "       [ 0.    ,  1.    ,  0.    ,  0.35  ,  0.265 ,  0.09  ,  0.2255,\n",
       "         0.0995,  0.0485,  0.07  ,  7.    ],\n",
       "       [ 0.    ,  0.    ,  1.    ,  0.53  ,  0.42  ,  0.135 ,  0.677 ,\n",
       "         0.2565,  0.1415,  0.21  ,  9.    ],\n",
       "       [ 0.    ,  1.    ,  0.    ,  0.44  ,  0.365 ,  0.125 ,  0.516 ,\n",
       "         0.2155,  0.114 ,  0.155 , 10.    ],\n",
       "       [ 1.    ,  0.    ,  0.    ,  0.33  ,  0.255 ,  0.08  ,  0.205 ,\n",
       "         0.0895,  0.0395,  0.055 ,  7.    ]])"
      ]
     },
     "execution_count": 139,
     "metadata": {},
     "output_type": "execute_result"
    }
   ],
   "source": [
    "data"
   ]
  },
  {
   "cell_type": "code",
   "execution_count": 140,
   "id": "1e79124e-aed2-42de-973a-7b916db1df5e",
   "metadata": {},
   "outputs": [],
   "source": [
    "def model_init():\n",
    "    global weight, bias #전역변수, 다른 함수에서는 이 이름을 사용할 수 없음.\n",
    "    weight = np.random.normal(RND_mean, RND_std, [input_cnt, output_cnt])  #weight이나 bias에는 무작위 값을 넣는다\n",
    "    bias = np.random.normal(RND_mean, RND_std, [output_cnt])\n",
    "    return weight, bias\n"
   ]
  },
  {
   "cell_type": "code",
   "execution_count": 141,
   "id": "3bbf8b4d-0ec9-43ed-90ef-21962cb01de4",
   "metadata": {},
   "outputs": [
    {
     "data": {
      "text/plain": [
       "(array([[-1.16130302],\n",
       "        [ 1.57084236],\n",
       "        [ 1.47372493],\n",
       "        [-0.65384562],\n",
       "        [ 0.09745833],\n",
       "        [ 1.81478277],\n",
       "        [-0.67030949],\n",
       "        [-0.5916598 ],\n",
       "        [ 0.06705058],\n",
       "        [ 1.66715103]]),\n",
       " array([1.27565237]))"
      ]
     },
     "execution_count": 141,
     "metadata": {},
     "output_type": "execute_result"
    }
   ],
   "source": [
    "model_init()"
   ]
  },
  {
   "cell_type": "code",
   "execution_count": 142,
   "id": "86d863d8-8b89-4046-8834-580c2b09d989",
   "metadata": {},
   "outputs": [],
   "source": [
    "def main_exec():\n",
    "    import_data() #데이터를 불러오는 기능\n",
    "    model_init() #가중치나 편향값을 초기화\n",
    "   # train_and_test() #학습과 테스트를 수행하는 함수"
   ]
  },
  {
   "cell_type": "code",
   "execution_count": 143,
   "id": "69f93fae-4783-411b-8214-42a6d9e8f2a5",
   "metadata": {},
   "outputs": [],
   "source": [
    "main_exec()"
   ]
  },
  {
   "cell_type": "code",
   "execution_count": 144,
   "id": "aa8a069e-e167-4d03-a31d-bfb534f9f0de",
   "metadata": {},
   "outputs": [
    {
     "data": {
      "text/plain": [
       "array([[ 0.36916275],\n",
       "       [ 0.61891571],\n",
       "       [-1.18930382],\n",
       "       [-0.57523968],\n",
       "       [-0.19792859],\n",
       "       [ 0.82867192],\n",
       "       [-0.47753564],\n",
       "       [ 0.51216108],\n",
       "       [ 1.456605  ],\n",
       "       [ 0.98748334]])"
      ]
     },
     "execution_count": 144,
     "metadata": {},
     "output_type": "execute_result"
    }
   ],
   "source": [
    "weight"
   ]
  },
  {
   "cell_type": "code",
   "execution_count": 145,
   "id": "3db079b7-07fc-4a32-bc05-8fba358c1ff3",
   "metadata": {},
   "outputs": [
    {
     "data": {
      "text/plain": [
       "array([[ 0.    ,  1.    ,  0.    ,  0.455 ,  0.365 ,  0.095 ,  0.514 ,\n",
       "         0.2245,  0.101 ,  0.15  , 15.    ],\n",
       "       [ 0.    ,  1.    ,  0.    ,  0.35  ,  0.265 ,  0.09  ,  0.2255,\n",
       "         0.0995,  0.0485,  0.07  ,  7.    ],\n",
       "       [ 0.    ,  0.    ,  1.    ,  0.53  ,  0.42  ,  0.135 ,  0.677 ,\n",
       "         0.2565,  0.1415,  0.21  ,  9.    ],\n",
       "       [ 0.    ,  1.    ,  0.    ,  0.44  ,  0.365 ,  0.125 ,  0.516 ,\n",
       "         0.2155,  0.114 ,  0.155 , 10.    ],\n",
       "       [ 1.    ,  0.    ,  0.    ,  0.33  ,  0.255 ,  0.08  ,  0.205 ,\n",
       "         0.0895,  0.0395,  0.055 ,  7.    ]])"
      ]
     },
     "execution_count": 145,
     "metadata": {},
     "output_type": "execute_result"
    }
   ],
   "source": [
    "data"
   ]
  },
  {
   "cell_type": "code",
   "execution_count": 146,
   "id": "2c825fea-72ea-4009-a3c2-14368cb0bec4",
   "metadata": {},
   "outputs": [],
   "source": [
    "def load_dataset():\n",
    "    global data\n",
    "    with open('abalone_mini.csv') as csvfile:\n",
    "        csvreader = csv.reader(csvfile)\n",
    "        #print(csvreader)\n",
    "        rows = []\n",
    "        for row in csvreader:\n",
    "            rows.append(row)\n",
    "            \n",
    "    data = np.zeros([5,11])\n",
    "    \n",
    "    for n,row in enumerate(rows): #enunmerate를 사용할때는 변수를 2개 사용해야함???\n",
    "        if row[0] == 'I' :data [n,0] = 1\n",
    "        elif row[0] == 'M' : data [n,1] = 1\n",
    "        elif row[0] == 'F' : data [n,2] = 1\n",
    "        \n",
    "        data[n, 3:] = row[1:]"
   ]
  },
  {
   "cell_type": "code",
   "execution_count": 147,
   "id": "ffcb5e81-6331-4e16-a8a0-7bf270d3eb0f",
   "metadata": {},
   "outputs": [
    {
     "data": {
      "text/plain": [
       "array([[ 0.    ,  1.    ,  0.    ,  0.455 ,  0.365 ,  0.095 ,  0.514 ,\n",
       "         0.2245,  0.101 ,  0.15  , 15.    ],\n",
       "       [ 0.    ,  1.    ,  0.    ,  0.35  ,  0.265 ,  0.09  ,  0.2255,\n",
       "         0.0995,  0.0485,  0.07  ,  7.    ],\n",
       "       [ 0.    ,  0.    ,  1.    ,  0.53  ,  0.42  ,  0.135 ,  0.677 ,\n",
       "         0.2565,  0.1415,  0.21  ,  9.    ],\n",
       "       [ 0.    ,  1.    ,  0.    ,  0.44  ,  0.365 ,  0.125 ,  0.516 ,\n",
       "         0.2155,  0.114 ,  0.155 , 10.    ],\n",
       "       [ 1.    ,  0.    ,  0.    ,  0.33  ,  0.255 ,  0.08  ,  0.205 ,\n",
       "         0.0895,  0.0395,  0.055 ,  7.    ]])"
      ]
     },
     "execution_count": 147,
     "metadata": {},
     "output_type": "execute_result"
    }
   ],
   "source": [
    "import numpy as np\n",
    "import csv\n",
    "load_dataset()\n",
    "data"
   ]
  },
  {
   "cell_type": "code",
   "execution_count": 148,
   "id": "cd7b96e0-79b6-4171-8573-d91fee3d161c",
   "metadata": {},
   "outputs": [],
   "source": [
    "#역전파!\n",
    "def forward_neuralnet(x):\n",
    "    y = np.matmul(x,weight) + bias #행열곱하는거라고 들어버렷다... 뭐가 맞는 걸까\n",
    "    #x는 어디서 가져올까? 위에서 전역변수! 를 만들었기 때문에 y를 만들어 볼 수 있음\n",
    "    return y"
   ]
  },
  {
   "cell_type": "code",
   "execution_count": 149,
   "id": "1e4d9c2d-4455-4fa9-bdfa-0bb19ec47224",
   "metadata": {},
   "outputs": [
    {
     "data": {
      "text/plain": [
       "array([[ 0.2779756 ],\n",
       "       [ 0.27230374],\n",
       "       [-1.49433375],\n",
       "       [ 0.32977312],\n",
       "       [ 0.00449431]])"
      ]
     },
     "execution_count": 149,
     "metadata": {},
     "output_type": "execute_result"
    }
   ],
   "source": [
    "forward_neuralnet(data[:,:-1])"
   ]
  },
  {
   "cell_type": "code",
   "execution_count": 150,
   "id": "433c9b12-8770-41a3-9955-5804b2020f19",
   "metadata": {},
   "outputs": [
    {
     "data": {
      "text/plain": [
       "array([[0.    , 1.    , 0.    , 0.455 , 0.365 , 0.095 , 0.514 , 0.2245,\n",
       "        0.101 , 0.15  ],\n",
       "       [0.    , 1.    , 0.    , 0.35  , 0.265 , 0.09  , 0.2255, 0.0995,\n",
       "        0.0485, 0.07  ],\n",
       "       [0.    , 0.    , 1.    , 0.53  , 0.42  , 0.135 , 0.677 , 0.2565,\n",
       "        0.1415, 0.21  ],\n",
       "       [0.    , 1.    , 0.    , 0.44  , 0.365 , 0.125 , 0.516 , 0.2155,\n",
       "        0.114 , 0.155 ],\n",
       "       [1.    , 0.    , 0.    , 0.33  , 0.255 , 0.08  , 0.205 , 0.0895,\n",
       "        0.0395, 0.055 ]])"
      ]
     },
     "execution_count": 150,
     "metadata": {},
     "output_type": "execute_result"
    }
   ],
   "source": [
    "data[:, :-1]"
   ]
  },
  {
   "cell_type": "code",
   "execution_count": 151,
   "id": "121c0f4d-1554-4916-87a1-3fdd3b4dc9d4",
   "metadata": {},
   "outputs": [],
   "source": [
    "def forward_postproc(output, y):\n",
    "    print(\"output : \", output)\n",
    "    print(\"y : \", y)\n",
    "    diff = output - y #output인 예측값과 실제 종속변수y값을 뺀 값 diff\n",
    "    print(\"diff : \", diff)\n",
    "    square = np.square(diff) #square 제곱하는 거\n",
    "    print(\"square : \", square)\n",
    "    loss = np.mean(square) #mean 평균 구하는 거\n",
    "    print(\"loss : \", loss)\n",
    "    \n",
    "    return loss"
   ]
  },
  {
   "cell_type": "code",
   "execution_count": 152,
   "id": "f79a3e87-89a2-4175-b40d-2acab28f856a",
   "metadata": {},
   "outputs": [
    {
     "name": "stdout",
     "output_type": "stream",
     "text": [
      "output :  [[ 0.2779756 ]\n",
      " [ 0.27230374]\n",
      " [-1.49433375]\n",
      " [ 0.32977312]\n",
      " [ 0.00449431]]\n",
      "y :  [[15.]\n",
      " [ 7.]\n",
      " [ 9.]\n",
      " [10.]\n",
      " [ 7.]]\n",
      "diff :  [[-14.7220244 ]\n",
      " [ -6.72769626]\n",
      " [-10.49433375]\n",
      " [ -9.67022688]\n",
      " [ -6.99550569]]\n",
      "square :  [[216.73800233]\n",
      " [ 45.26189703]\n",
      " [110.13104083]\n",
      " [ 93.51328797]\n",
      " [ 48.93709979]]\n",
      "loss :  102.91626558953696\n"
     ]
    },
    {
     "data": {
      "text/plain": [
       "102.91626558953696"
      ]
     },
     "execution_count": 152,
     "metadata": {},
     "output_type": "execute_result"
    }
   ],
   "source": [
    "forward_postproc(forward_neuralnet(data[:,:-1]), data[:, -1:])"
   ]
  },
  {
   "cell_type": "code",
   "execution_count": 153,
   "id": "616ca9f9-9b60-428a-be23-1f1b35b3fdc7",
   "metadata": {},
   "outputs": [],
   "source": [
    "def run_train(x,y):\n",
    "    output = forward_neuralnet(x)\n",
    "    cost = forward_postproc(output, y)\n",
    "    \n",
    "    return output, cost\n"
   ]
  },
  {
   "cell_type": "code",
   "execution_count": 154,
   "id": "7ed051dc-1424-4dcf-bad0-dd441c2d78cd",
   "metadata": {},
   "outputs": [
    {
     "name": "stdout",
     "output_type": "stream",
     "text": [
      "output :  [[ 0.2779756 ]\n",
      " [ 0.27230374]\n",
      " [-1.49433375]\n",
      " [ 0.32977312]\n",
      " [ 0.00449431]]\n",
      "y :  [[15.]\n",
      " [ 7.]\n",
      " [ 9.]\n",
      " [10.]\n",
      " [ 7.]]\n",
      "diff :  [[-14.7220244 ]\n",
      " [ -6.72769626]\n",
      " [-10.49433375]\n",
      " [ -9.67022688]\n",
      " [ -6.99550569]]\n",
      "square :  [[216.73800233]\n",
      " [ 45.26189703]\n",
      " [110.13104083]\n",
      " [ 93.51328797]\n",
      " [ 48.93709979]]\n",
      "loss :  102.91626558953696\n"
     ]
    },
    {
     "data": {
      "text/plain": [
       "(array([[ 0.2779756 ],\n",
       "        [ 0.27230374],\n",
       "        [-1.49433375],\n",
       "        [ 0.32977312],\n",
       "        [ 0.00449431]]),\n",
       " 102.91626558953696)"
      ]
     },
     "execution_count": 154,
     "metadata": {},
     "output_type": "execute_result"
    }
   ],
   "source": [
    "run_train(data[:,:-1], data[:,-1:])"
   ]
  },
  {
   "cell_type": "code",
   "execution_count": null,
   "id": "d39e5c99-d317-4e27-9e20-64a7a8713ef9",
   "metadata": {},
   "outputs": [],
   "source": []
  }
 ],
 "metadata": {
  "kernelspec": {
   "display_name": "Python 3",
   "language": "python",
   "name": "python3"
  },
  "language_info": {
   "codemirror_mode": {
    "name": "ipython",
    "version": 3
   },
   "file_extension": ".py",
   "mimetype": "text/x-python",
   "name": "python",
   "nbconvert_exporter": "python",
   "pygments_lexer": "ipython3",
   "version": "3.8.10"
  }
 },
 "nbformat": 4,
 "nbformat_minor": 5
}
