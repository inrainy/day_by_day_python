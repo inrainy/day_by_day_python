{
  "nbformat": 4,
  "nbformat_minor": 0,
  "metadata": {
    "colab": {
      "name": "6.29.deeplearning_vote.ipynb",
      "provenance": []
    },
    "kernelspec": {
      "name": "python3",
      "display_name": "Python 3"
    },
    "language_info": {
      "name": "python"
    }
  },
  "cells": [
    {
      "cell_type": "code",
      "metadata": {
        "id": "43mvh8Z8chHR",
        "colab": {
          "base_uri": "https://localhost:8080/"
        },
        "outputId": "dec0eb4d-24f0-43fc-ac4d-cc1ea0f6d52b"
      },
      "source": [
        "import pandas as pd\n",
        "vote = pd.read_excel('/content/광주 인공지능 사관학교 개발자 ONE DAY(응답).xlsx')\n",
        "print(vote)"
      ],
      "execution_count": null,
      "outputs": [
        {
          "output_type": "stream",
          "text": [
            "                     타임스탬프 내일의 나에게 도움이 될 것 같은 프로그램에 대하여 투표하여 주세요.                                                                      \n",
            "0  2021-06-25 09:49:33.540                                           백짓장/운동하조                                                          \n",
            "1  2021-06-25 09:49:35.483                                               친해져조                                                          \n",
            "2  2021-06-25 09:49:51.748                                           백짓장/운동하조                                                          \n",
            "3  2021-06-25 10:13:04.903                       1. '백짓장도 맞들면 낫조'팀/2. '풍요롭조'팀                                                          \n",
            "4  2021-06-25 10:17:51.572                                          친해져죠 백짓장조                                                          \n",
            "5  2021-06-25 10:19:08.380                                          백짓장조 욜로하조                                                          \n",
            "6  2021-06-25 10:19:37.174                                       백짓장조 / 친해져조                                                           \n",
            "7  2021-06-25 10:19:54.564                                  1. 친해져조 / 2. 풍요롭조                                                          \n",
            "8  2021-06-25 10:22:32.326                                       운동하죠 /  친해져조                                                          \n",
            "9  2021-06-25 10:26:16.964                                1.풍요롭조 팀 / 2.욜로하조 팀                                                          \n",
            "10 2021-06-25 10:26:22.198                                  1. 욜로하조팀/2. 운동하조팀                                                          \n",
            "11 2021-06-25 10:26:58.128                                        친해져조 / 욜로하조                                                          \n",
            "12 2021-06-25 10:27:25.562                           1. 욜로하조 / 2. 백짓장도 맞들면 낫조                                                          \n",
            "13 2021-06-25 10:27:32.258                                  1. 친해져조 / 2. 운동하조                                                          \n",
            "14 2021-06-25 10:27:35.622                                  1. 운동하조 / 2. 욜로하조                                                          \n",
            "15 2021-06-25 10:27:36.488                                  1. 운동하조 / 2. 친해져조                                                          \n",
            "16 2021-06-25 10:27:50.162                                        운동하조 / 풍요롭조                                                          \n",
            "17 2021-06-25 10:27:54.380                                      1.백짓장조 2.운동하조                                                          \n",
            "18 2021-06-25 10:27:56.719                                  1. 친해져조 / 2. 욜로하조                                                          \n",
            "19 2021-06-25 10:28:21.660                                              C팀 E팀                                                          \n",
            "20 2021-06-25 10:28:25.970                                        운동하조 / 친해져조                                                          \n",
            "21 2021-06-25 10:28:31.281                                        친해져조 / 욜로하조                                                          \n",
            "22 2021-06-25 10:28:39.629                                        욜로하조 / 친해져조                                                          \n",
            "23 2021-06-25 10:28:55.573                                   1.풍요롭조 /  2.친해져조                                                          \n",
            "24 2021-06-25 10:29:12.217                                               욜로하조                                                          \n",
            "25 2021-06-25 10:30:12.717                                        운동하조 / 풍요롭조                                                          \n",
            "26 2021-06-25 10:30:59.094                                    A 욜로하조 / B 풍요롭조                                                          \n",
            "27 2021-06-25 10:33:51.009                                          풍요롭조/욜로하조                                                          \n"
          ],
          "name": "stdout"
        }
      ]
    },
    {
      "cell_type": "code",
      "metadata": {
        "colab": {
          "base_uri": "https://localhost:8080/"
        },
        "id": "BR6rC_z3SJ4U",
        "outputId": "eaa96e36-fa23-4eb6-9d83-48a1c534cad8"
      },
      "source": [
        "vote.info()\n",
        "vote.shape"
      ],
      "execution_count": null,
      "outputs": [
        {
          "output_type": "stream",
          "text": [
            "<class 'pandas.core.frame.DataFrame'>\n",
            "RangeIndex: 28 entries, 0 to 27\n",
            "Data columns (total 2 columns):\n",
            " #   Column                                                                                                        Non-Null Count  Dtype         \n",
            "---  ------                                                                                                        --------------  -----         \n",
            " 0   타임스탬프                                                                                                         28 non-null     datetime64[ns]\n",
            " 1   내일의 나에게 도움이 될 것 같은 프로그램에 대하여 투표하여 주세요.                                                                        28 non-null     object        \n",
            "dtypes: datetime64[ns](1), object(1)\n",
            "memory usage: 576.0+ bytes\n"
          ],
          "name": "stdout"
        },
        {
          "output_type": "execute_result",
          "data": {
            "text/plain": [
              "(28, 2)"
            ]
          },
          "metadata": {
            "tags": []
          },
          "execution_count": 4
        }
      ]
    },
    {
      "cell_type": "code",
      "metadata": {
        "colab": {
          "base_uri": "https://localhost:8080/",
          "height": 580
        },
        "id": "xxP3eZEZSQqB",
        "outputId": "49baaf92-4b53-4d10-c09d-bee285e2f572"
      },
      "source": [
        "poong_vote = 0\n",
        "woon_vote = []\n",
        "chin_vote = []\n",
        "youl_vote = []\n",
        "back_vote = []\n",
        "\n",
        "for i in range(vote[1]):\n",
        "  if vote == '풍' or 'b' or 'B' or '풍요':\n",
        "    poong_vote += 1\n",
        "    print(len(poong_vote))"
      ],
      "execution_count": null,
      "outputs": [
        {
          "output_type": "error",
          "ename": "KeyError",
          "evalue": "ignored",
          "traceback": [
            "\u001b[0;31m---------------------------------------------------------------------------\u001b[0m",
            "\u001b[0;31mKeyError\u001b[0m                                  Traceback (most recent call last)",
            "\u001b[0;32m/usr/local/lib/python3.7/dist-packages/pandas/core/indexes/base.py\u001b[0m in \u001b[0;36mget_loc\u001b[0;34m(self, key, method, tolerance)\u001b[0m\n\u001b[1;32m   2897\u001b[0m             \u001b[0;32mtry\u001b[0m\u001b[0;34m:\u001b[0m\u001b[0;34m\u001b[0m\u001b[0;34m\u001b[0m\u001b[0m\n\u001b[0;32m-> 2898\u001b[0;31m                 \u001b[0;32mreturn\u001b[0m \u001b[0mself\u001b[0m\u001b[0;34m.\u001b[0m\u001b[0m_engine\u001b[0m\u001b[0;34m.\u001b[0m\u001b[0mget_loc\u001b[0m\u001b[0;34m(\u001b[0m\u001b[0mcasted_key\u001b[0m\u001b[0;34m)\u001b[0m\u001b[0;34m\u001b[0m\u001b[0;34m\u001b[0m\u001b[0m\n\u001b[0m\u001b[1;32m   2899\u001b[0m             \u001b[0;32mexcept\u001b[0m \u001b[0mKeyError\u001b[0m \u001b[0;32mas\u001b[0m \u001b[0merr\u001b[0m\u001b[0;34m:\u001b[0m\u001b[0;34m\u001b[0m\u001b[0;34m\u001b[0m\u001b[0m\n",
            "\u001b[0;32mpandas/_libs/index.pyx\u001b[0m in \u001b[0;36mpandas._libs.index.IndexEngine.get_loc\u001b[0;34m()\u001b[0m\n",
            "\u001b[0;32mpandas/_libs/index.pyx\u001b[0m in \u001b[0;36mpandas._libs.index.IndexEngine.get_loc\u001b[0;34m()\u001b[0m\n",
            "\u001b[0;32mpandas/_libs/hashtable_class_helper.pxi\u001b[0m in \u001b[0;36mpandas._libs.hashtable.PyObjectHashTable.get_item\u001b[0;34m()\u001b[0m\n",
            "\u001b[0;32mpandas/_libs/hashtable_class_helper.pxi\u001b[0m in \u001b[0;36mpandas._libs.hashtable.PyObjectHashTable.get_item\u001b[0;34m()\u001b[0m\n",
            "\u001b[0;31mKeyError\u001b[0m: 1",
            "\nThe above exception was the direct cause of the following exception:\n",
            "\u001b[0;31mKeyError\u001b[0m                                  Traceback (most recent call last)",
            "\u001b[0;32m<ipython-input-10-c6174c7c7993>\u001b[0m in \u001b[0;36m<module>\u001b[0;34m()\u001b[0m\n\u001b[1;32m      5\u001b[0m \u001b[0mback_vote\u001b[0m \u001b[0;34m=\u001b[0m \u001b[0;34m[\u001b[0m\u001b[0;34m]\u001b[0m\u001b[0;34m\u001b[0m\u001b[0;34m\u001b[0m\u001b[0m\n\u001b[1;32m      6\u001b[0m \u001b[0;34m\u001b[0m\u001b[0m\n\u001b[0;32m----> 7\u001b[0;31m \u001b[0;32mfor\u001b[0m \u001b[0mi\u001b[0m \u001b[0;32min\u001b[0m \u001b[0mrange\u001b[0m\u001b[0;34m(\u001b[0m\u001b[0mvote\u001b[0m\u001b[0;34m[\u001b[0m\u001b[0;36m1\u001b[0m\u001b[0;34m]\u001b[0m\u001b[0;34m)\u001b[0m\u001b[0;34m:\u001b[0m\u001b[0;34m\u001b[0m\u001b[0;34m\u001b[0m\u001b[0m\n\u001b[0m\u001b[1;32m      8\u001b[0m   \u001b[0;32mif\u001b[0m \u001b[0mvote\u001b[0m \u001b[0;34m==\u001b[0m \u001b[0;34m'풍'\u001b[0m \u001b[0;32mor\u001b[0m \u001b[0;34m'b'\u001b[0m \u001b[0;32mor\u001b[0m \u001b[0;34m'B'\u001b[0m \u001b[0;32mor\u001b[0m \u001b[0;34m'풍요'\u001b[0m\u001b[0;34m:\u001b[0m\u001b[0;34m\u001b[0m\u001b[0;34m\u001b[0m\u001b[0m\n\u001b[1;32m      9\u001b[0m     \u001b[0mpoong_vote\u001b[0m\u001b[0;34m.\u001b[0m\u001b[0mappend\u001b[0m\u001b[0;34m(\u001b[0m\u001b[0mvote\u001b[0m\u001b[0;34m)\u001b[0m\u001b[0;34m\u001b[0m\u001b[0;34m\u001b[0m\u001b[0m\n",
            "\u001b[0;32m/usr/local/lib/python3.7/dist-packages/pandas/core/frame.py\u001b[0m in \u001b[0;36m__getitem__\u001b[0;34m(self, key)\u001b[0m\n\u001b[1;32m   2904\u001b[0m             \u001b[0;32mif\u001b[0m \u001b[0mself\u001b[0m\u001b[0;34m.\u001b[0m\u001b[0mcolumns\u001b[0m\u001b[0;34m.\u001b[0m\u001b[0mnlevels\u001b[0m \u001b[0;34m>\u001b[0m \u001b[0;36m1\u001b[0m\u001b[0;34m:\u001b[0m\u001b[0;34m\u001b[0m\u001b[0;34m\u001b[0m\u001b[0m\n\u001b[1;32m   2905\u001b[0m                 \u001b[0;32mreturn\u001b[0m \u001b[0mself\u001b[0m\u001b[0;34m.\u001b[0m\u001b[0m_getitem_multilevel\u001b[0m\u001b[0;34m(\u001b[0m\u001b[0mkey\u001b[0m\u001b[0;34m)\u001b[0m\u001b[0;34m\u001b[0m\u001b[0;34m\u001b[0m\u001b[0m\n\u001b[0;32m-> 2906\u001b[0;31m             \u001b[0mindexer\u001b[0m \u001b[0;34m=\u001b[0m \u001b[0mself\u001b[0m\u001b[0;34m.\u001b[0m\u001b[0mcolumns\u001b[0m\u001b[0;34m.\u001b[0m\u001b[0mget_loc\u001b[0m\u001b[0;34m(\u001b[0m\u001b[0mkey\u001b[0m\u001b[0;34m)\u001b[0m\u001b[0;34m\u001b[0m\u001b[0;34m\u001b[0m\u001b[0m\n\u001b[0m\u001b[1;32m   2907\u001b[0m             \u001b[0;32mif\u001b[0m \u001b[0mis_integer\u001b[0m\u001b[0;34m(\u001b[0m\u001b[0mindexer\u001b[0m\u001b[0;34m)\u001b[0m\u001b[0;34m:\u001b[0m\u001b[0;34m\u001b[0m\u001b[0;34m\u001b[0m\u001b[0m\n\u001b[1;32m   2908\u001b[0m                 \u001b[0mindexer\u001b[0m \u001b[0;34m=\u001b[0m \u001b[0;34m[\u001b[0m\u001b[0mindexer\u001b[0m\u001b[0;34m]\u001b[0m\u001b[0;34m\u001b[0m\u001b[0;34m\u001b[0m\u001b[0m\n",
            "\u001b[0;32m/usr/local/lib/python3.7/dist-packages/pandas/core/indexes/base.py\u001b[0m in \u001b[0;36mget_loc\u001b[0;34m(self, key, method, tolerance)\u001b[0m\n\u001b[1;32m   2898\u001b[0m                 \u001b[0;32mreturn\u001b[0m \u001b[0mself\u001b[0m\u001b[0;34m.\u001b[0m\u001b[0m_engine\u001b[0m\u001b[0;34m.\u001b[0m\u001b[0mget_loc\u001b[0m\u001b[0;34m(\u001b[0m\u001b[0mcasted_key\u001b[0m\u001b[0;34m)\u001b[0m\u001b[0;34m\u001b[0m\u001b[0;34m\u001b[0m\u001b[0m\n\u001b[1;32m   2899\u001b[0m             \u001b[0;32mexcept\u001b[0m \u001b[0mKeyError\u001b[0m \u001b[0;32mas\u001b[0m \u001b[0merr\u001b[0m\u001b[0;34m:\u001b[0m\u001b[0;34m\u001b[0m\u001b[0;34m\u001b[0m\u001b[0m\n\u001b[0;32m-> 2900\u001b[0;31m                 \u001b[0;32mraise\u001b[0m \u001b[0mKeyError\u001b[0m\u001b[0;34m(\u001b[0m\u001b[0mkey\u001b[0m\u001b[0;34m)\u001b[0m \u001b[0;32mfrom\u001b[0m \u001b[0merr\u001b[0m\u001b[0;34m\u001b[0m\u001b[0;34m\u001b[0m\u001b[0m\n\u001b[0m\u001b[1;32m   2901\u001b[0m \u001b[0;34m\u001b[0m\u001b[0m\n\u001b[1;32m   2902\u001b[0m         \u001b[0;32mif\u001b[0m \u001b[0mtolerance\u001b[0m \u001b[0;32mis\u001b[0m \u001b[0;32mnot\u001b[0m \u001b[0;32mNone\u001b[0m\u001b[0;34m:\u001b[0m\u001b[0;34m\u001b[0m\u001b[0;34m\u001b[0m\u001b[0m\n",
            "\u001b[0;31mKeyError\u001b[0m: 1"
          ]
        }
      ]
    },
    {
      "cell_type": "code",
      "metadata": {
        "id": "rFmDW8xrTQ-D"
      },
      "source": [
        ""
      ],
      "execution_count": null,
      "outputs": []
    },
    {
      "cell_type": "code",
      "metadata": {
        "id": "07AK5HRAZpqs"
      },
      "source": [
        ""
      ],
      "execution_count": null,
      "outputs": []
    },
    {
      "cell_type": "code",
      "metadata": {
        "id": "Uc87GV3WZpyv"
      },
      "source": [
        ""
      ],
      "execution_count": null,
      "outputs": []
    },
    {
      "cell_type": "code",
      "metadata": {
        "id": "PPoUedGQZp2D"
      },
      "source": [
        ""
      ],
      "execution_count": null,
      "outputs": []
    },
    {
      "cell_type": "code",
      "metadata": {
        "id": "cXbXuhHfZp99"
      },
      "source": [
        "#학생분 코드"
      ],
      "execution_count": null,
      "outputs": []
    },
    {
      "cell_type": "code",
      "metadata": {
        "id": "K1EcnTZ9Zudz"
      },
      "source": [
        "for row in rows:\n",
        "  in (\"백짓장\"in row) or (\"E\" in row):\n",
        "  1st[0] += 1"
      ],
      "execution_count": null,
      "outputs": []
    },
    {
      "cell_type": "code",
      "metadata": {
        "id": "yiwrgGpHnXwo"
      },
      "source": [
        "if(\"욜로\" in i) or (\"E팀\" in i):\n",
        "  count_5 += 1\n"
      ],
      "execution_count": null,
      "outputs": []
    }
  ]
}