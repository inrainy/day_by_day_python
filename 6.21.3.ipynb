{
 "cells": [
  {
   "cell_type": "code",
   "execution_count": 4,
   "id": "8bc0a9d5-bfbd-4ed1-8f72-0e9610673f15",
   "metadata": {},
   "outputs": [
    {
     "name": "stdin",
     "output_type": "stream",
     "text": [
      "write your ID madalice18\n",
      "write your age 18\n"
     ]
    },
    {
     "name": "stdout",
     "output_type": "stream",
     "text": [
      "madalice18. good watching\n"
     ]
    }
   ],
   "source": [
    "teenager = []\n",
    "\n",
    "ID = input('write your ID')\n",
    "age = input('write your age')\n",
    "\n",
    "user = {'ID': ID, 'age' : age}\n",
    "\n",
    "if user['age'].isdigit() == True:\n",
    "    user['age'] = int(user['age'])\n",
    "    \n",
    "    if user['age'] <= 15:\n",
    "        print(\"no {} you can't enter\".format(user['ID']))\n",
    "        teenager.append(user['ID'])\n",
    "    else:\n",
    "        print(\"{}. good watching\".format(user['ID']))\n",
    "else:\n",
    "    print('plz, write your age in number')"
   ]
  },
  {
   "cell_type": "code",
   "execution_count": 5,
   "id": "248cf148-de17-4121-a63e-f7c4d0cd3ab9",
   "metadata": {},
   "outputs": [
    {
     "name": "stdout",
     "output_type": "stream",
     "text": [
      "[]\n"
     ]
    }
   ],
   "source": [
    "print(teenager)"
   ]
  },
  {
   "cell_type": "code",
   "execution_count": 6,
   "id": "f989b637-c428-46e5-92ad-e9d0cd35ac7c",
   "metadata": {},
   "outputs": [
    {
     "data": {
      "text/plain": [
       "'C:\\\\Users\\\\anseonggyeong'"
      ]
     },
     "execution_count": 6,
     "metadata": {},
     "output_type": "execute_result"
    }
   ],
   "source": [
    "import os\n",
    "os.getcwd()"
   ]
  },
  {
   "cell_type": "code",
   "execution_count": 5,
   "id": "c67acf12-6c11-48d3-8605-210ba47b663e",
   "metadata": {},
   "outputs": [],
   "source": [
    "import csv\n",
    "import numpy as np\n",
    "\n",
    "with open('abalone_mini.csv') as csvfile:\n",
    "    csvreader = csv.reader(csvfile)\n",
    "    #print(csvreader)\n",
    "    rows = []\n",
    "    for row in csvreader:\n",
    "        rows.append(row)\n",
    "        \n",
    "#print(rows)\n",
    "data = np.zeros([5,11])\n",
    "#print(data)\n",
    "\n",
    "#for row in rows:\n",
    "    #print(row)\n",
    "#for row in enumerate(rows):\n",
    "    #print(row)\n",
    "    #enumerate는 인덱스 번호가 같이 와 있음\n",
    "for n,row in enumerate(rows):    \n",
    "    if row[0] == 'I' : data [n,0] = 1\n",
    "    if row[0] == 'M' : data [n,1] = 1\n",
    "    if row[0] == 'F' : data [n,2] = 1\n",
    "        \n",
    "    data[n, 3:] = row[1:]"
   ]
  },
  {
   "cell_type": "code",
   "execution_count": 6,
   "id": "0641f063-ae1f-4c05-9d1b-71522473d9b0",
   "metadata": {},
   "outputs": [
    {
     "data": {
      "text/plain": [
       "array([[ 0.    ,  1.    ,  0.    ,  0.455 ,  0.365 ,  0.095 ,  0.514 ,\n",
       "         0.2245,  0.101 ,  0.15  , 15.    ],\n",
       "       [ 0.    ,  1.    ,  0.    ,  0.35  ,  0.265 ,  0.09  ,  0.2255,\n",
       "         0.0995,  0.0485,  0.07  ,  7.    ],\n",
       "       [ 0.    ,  0.    ,  1.    ,  0.53  ,  0.42  ,  0.135 ,  0.677 ,\n",
       "         0.2565,  0.1415,  0.21  ,  9.    ],\n",
       "       [ 0.    ,  1.    ,  0.    ,  0.44  ,  0.365 ,  0.125 ,  0.516 ,\n",
       "         0.2155,  0.114 ,  0.155 , 10.    ],\n",
       "       [ 1.    ,  0.    ,  0.    ,  0.33  ,  0.255 ,  0.08  ,  0.205 ,\n",
       "         0.0895,  0.0395,  0.055 ,  7.    ]])"
      ]
     },
     "execution_count": 6,
     "metadata": {},
     "output_type": "execute_result"
    }
   ],
   "source": [
    "data"
   ]
  },
  {
   "cell_type": "code",
   "execution_count": 7,
   "id": "37b85e03-636e-4fa2-95ea-ebbfd19eb254",
   "metadata": {},
   "outputs": [
    {
     "name": "stdin",
     "output_type": "stream",
     "text": [
      "Input :  a\n"
     ]
    },
    {
     "name": "stdout",
     "output_type": "stream",
     "text": [
      "a\n"
     ]
    },
    {
     "name": "stdin",
     "output_type": "stream",
     "text": [
      "Input :  sd\n"
     ]
    },
    {
     "name": "stdout",
     "output_type": "stream",
     "text": [
      "sd\n"
     ]
    },
    {
     "name": "stdin",
     "output_type": "stream",
     "text": [
      "Input :  faf\n"
     ]
    },
    {
     "name": "stdout",
     "output_type": "stream",
     "text": [
      "faf\n"
     ]
    },
    {
     "name": "stdin",
     "output_type": "stream",
     "text": [
      "Input :  wqer\n"
     ]
    },
    {
     "name": "stdout",
     "output_type": "stream",
     "text": [
      "wqer\n"
     ]
    },
    {
     "name": "stdin",
     "output_type": "stream",
     "text": [
      "Input :  quit\n"
     ]
    },
    {
     "name": "stdout",
     "output_type": "stream",
     "text": [
      "quit\n"
     ]
    }
   ],
   "source": [
    "#while 구문\n",
    "\n",
    "user_input = ''\n",
    "while user_input != 'quit':\n",
    "    user_input = input('Input : ')\n",
    "    print(user_input)"
   ]
  },
  {
   "cell_type": "code",
   "execution_count": 3,
   "id": "c2095250-fc1a-4c02-9d36-45121bab99e1",
   "metadata": {},
   "outputs": [
    {
     "name": "stdin",
     "output_type": "stream",
     "text": [
      "write next action : holy\n"
     ]
    },
    {
     "name": "stdout",
     "output_type": "stream",
     "text": [
      "Your action1 : holy\n"
     ]
    },
    {
     "name": "stdin",
     "output_type": "stream",
     "text": [
      "write next action : shit\n"
     ]
    },
    {
     "name": "stdout",
     "output_type": "stream",
     "text": [
      "Your action2 : shit\n"
     ]
    },
    {
     "name": "stdin",
     "output_type": "stream",
     "text": [
      "write next action : quit\n"
     ]
    },
    {
     "name": "stdout",
     "output_type": "stream",
     "text": [
      "Your action3 : quit\n"
     ]
    }
   ],
   "source": [
    "action = ''\n",
    "i = 0\n",
    "while action != 'quit':\n",
    "    action = input('write next action :')\n",
    "    i += 1\n",
    "    if action not in ['GG','gg', 'ㅈㅈ']:\n",
    "        print(\"Your action{0} : {1}\".format(i,action))\n",
    "        \n",
    "    if action in ['GG', 'gg', 'ㅈㅈ'] :\n",
    "        print(\"game over\")\n",
    "        break"
   ]
  },
  {
   "cell_type": "code",
   "execution_count": null,
   "id": "ec32758f-120b-4858-9fb4-e628277bd99a",
   "metadata": {},
   "outputs": [],
   "source": []
  }
 ],
 "metadata": {
  "kernelspec": {
   "display_name": "Python 3",
   "language": "python",
   "name": "python3"
  },
  "language_info": {
   "codemirror_mode": {
    "name": "ipython",
    "version": 3
   },
   "file_extension": ".py",
   "mimetype": "text/x-python",
   "name": "python",
   "nbconvert_exporter": "python",
   "pygments_lexer": "ipython3",
   "version": "3.8.10"
  }
 },
 "nbformat": 4,
 "nbformat_minor": 5
}
