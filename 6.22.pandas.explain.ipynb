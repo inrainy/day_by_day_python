{
 "cells": [
  {
   "cell_type": "raw",
   "id": "7f863792-94a6-40c8-9ba5-6364844e3cda",
   "metadata": {},
   "source": [
    "판다스 나간다! 화이팅!!!"
   ]
  },
  {
   "cell_type": "code",
   "execution_count": null,
   "id": "08217bc0-074f-4b62-818a-a3ccf8b03952",
   "metadata": {},
   "outputs": [],
   "source": [
    "#tsv는 \\t로 구분이 되기 때문에\n",
    "#df = pd.read_csv('~~~.tsv', sep = '\\t')"
   ]
  },
  {
   "cell_type": "code",
   "execution_count": null,
   "id": "4f0294d9-aba8-468d-b309-b4e81d92c510",
   "metadata": {},
   "outputs": [],
   "source": [
    "#엑셀의 한 페이지 ,행과 열이 다수 인것을 Dataframe이라고 부르고\n",
    "#하나의 열?행? 여튼 가로로 있는 거 이걸 시리즈라고 부름"
   ]
  },
  {
   "cell_type": "code",
   "execution_count": 1,
   "id": "5f2a1169-3071-47af-a917-0b1cb26f7910",
   "metadata": {},
   "outputs": [],
   "source": [
    "#df.head(5) ->머리쪽에 쓰는거 5개!"
   ]
  },
  {
   "cell_type": "code",
   "execution_count": null,
   "id": "be83898c-c52c-48c6-9166-45c5291be03d",
   "metadata": {},
   "outputs": [],
   "source": [
    "#df.tail(3) ->꼬리쪽에 쓰는게 몇개인지"
   ]
  },
  {
   "cell_type": "code",
   "execution_count": null,
   "id": "1292a09b-9c5a-4fd0-a1f3-3136db946183",
   "metadata": {},
   "outputs": [],
   "source": [
    "#그치만 df만 쓰면 앞 뒤로 5개씩 뜬다"
   ]
  },
  {
   "cell_type": "code",
   "execution_count": null,
   "id": "6f4bf905-801c-4cae-83c9-50cce07e7db7",
   "metadata": {},
   "outputs": [],
   "source": [
    "#type(df)치면 데이터 타입나오고"
   ]
  },
  {
   "cell_type": "code",
   "execution_count": null,
   "id": "88191721-7d10-4ab5-8042-4fb5169e277e",
   "metadata": {},
   "outputs": [],
   "source": [
    "#shape 은 행과 열 총 몇개의 모양의로 되어있는지"
   ]
  },
  {
   "cell_type": "code",
   "execution_count": null,
   "id": "0d21312f-ffae-44e2-a721-229bc0e752cc",
   "metadata": {},
   "outputs": [],
   "source": [
    "#object는 문자열 str과 같은 거라고 생각하면 되는데\n",
    "#df.dtypes 를 치면 데이터 타입이 신기하게 나올것임!"
   ]
  },
  {
   "cell_type": "code",
   "execution_count": null,
   "id": "eab04aa5-60ea-40c5-8b22-5cf7605e5e0c",
   "metadata": {},
   "outputs": [],
   "source": [
    "#df.info\n",
    "#심지어 변수는 어떠한 타입이고 데이터 갯수는 몇개가 들어가있고\n",
    "#데이터의 크기는 또 얼마나 있는지 모든 정보를 알려줌\n",
    "#자주 씀"
   ]
  },
  {
   "cell_type": "code",
   "execution_count": null,
   "id": "8cdfdc8a-3883-4396-87e7-15508162e7aa",
   "metadata": {},
   "outputs": [],
   "source": [
    "#df['변수를 뽑아내고 싶니? 탭을 눌러보렴!(자료 있을 때 한정)']\n",
    "#df_country = df['country']\n",
    "#df_country 라는 시리즈가 나올거임 type해보면 됨\n",
    "\n",
    "#df_country = df['country', 'pop', 'year']\n",
    "#df_country 시리즈 여러개 뽑아 올 수 있음"
   ]
  },
  {
   "cell_type": "code",
   "execution_count": 2,
   "id": "918cf764-9e73-4589-ac48-7ecab530d091",
   "metadata": {},
   "outputs": [],
   "source": [
    "#편향된 데이터를 가지면 편향된 데이터가 나온다.\n",
    "#6:4에서 거의 5:5는 되어야 데이터가,,\n",
    "#9:1의 데이터를 비슷한 차이로 바꿔줄때 카피엔 페이스트 를 사용하는 편\n",
    "#중간중간에 가짜 큰 데이터를 넣어서 하는 방법 밖에 없음"
   ]
  },
  {
   "cell_type": "code",
   "execution_count": null,
   "id": "1fdb6758-1407-48e2-b967-d3f0f9184ab4",
   "metadata": {},
   "outputs": [],
   "source": [
    "#결측값이(행열다 있는 상태에서 딱 하나 비어있는것) 있을 때에는\n",
    "#위에 있는 값이나 아래 있는 값으로 바꾸기도 하고, 0으로도 하기도하는데\n",
    "#회기로써 예측을 하는 방법도 있다.(책엔 안나옴 페이퍼 같은데 나옴)"
   ]
  },
  {
   "cell_type": "code",
   "execution_count": null,
   "id": "47f77b2b-7ae3-486f-ac6a-5db54a331648",
   "metadata": {},
   "outputs": [],
   "source": [
    "#여튼 stars_target데이터는 문제가 잇음 <-수업에서 만듬 대충 판다스1내용"
   ]
  },
  {
   "cell_type": "code",
   "execution_count": 3,
   "id": "d2805b95-3490-42eb-a356-105cebd5937c",
   "metadata": {},
   "outputs": [],
   "source": [
    "#loc는 내가 보고 싶은 행을 보여주고\n",
    "#원하는 데이터를 뽑아줌"
   ]
  },
  {
   "cell_type": "code",
   "execution_count": null,
   "id": "e2b7dbed-9461-4661-8e5f-b089813b894f",
   "metadata": {},
   "outputs": [],
   "source": [
    "#df.loc[:,['year','pop']]\n",
    "#모든 데이터 중에서 year과 pop을 뽑아 올 수도 있음"
   ]
  },
  {
   "cell_type": "code",
   "execution_count": null,
   "id": "fb72e6cf-fccf-4b6b-89c5-737a096985ae",
   "metadata": {},
   "outputs": [],
   "source": [
    "#df.iloc[:,[2,4,-1]]\n",
    "#i와 숫자값을 통해서 찾아 올 수 있음\n",
    "#하지만 변수가 너무 많을 때 인덱스를 정확하게 파악하지 못할때에는 loc"
   ]
  }
 ],
 "metadata": {
  "kernelspec": {
   "display_name": "Python 3",
   "language": "python",
   "name": "python3"
  },
  "language_info": {
   "codemirror_mode": {
    "name": "ipython",
    "version": 3
   },
   "file_extension": ".py",
   "mimetype": "text/x-python",
   "name": "python",
   "nbconvert_exporter": "python",
   "pygments_lexer": "ipython3",
   "version": "3.8.8"
  }
 },
 "nbformat": 4,
 "nbformat_minor": 5
}
