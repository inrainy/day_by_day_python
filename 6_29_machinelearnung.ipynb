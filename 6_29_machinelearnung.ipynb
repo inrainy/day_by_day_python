{
  "nbformat": 4,
  "nbformat_minor": 0,
  "metadata": {
    "colab": {
      "name": "6.29.machinelearnung.ipynb",
      "provenance": [],
      "collapsed_sections": []
    },
    "kernelspec": {
      "name": "python3",
      "display_name": "Python 3"
    },
    "language_info": {
      "name": "python"
    }
  },
  "cells": [
    {
      "cell_type": "code",
      "metadata": {
        "colab": {
          "base_uri": "https://localhost:8080/"
        },
        "id": "Qprrubz7u1ph",
        "outputId": "5e642f5a-79dd-4a52-e7e9-ea47ae737797"
      },
      "source": [
        "#만들어본 코드'\n",
        "\n",
        "\n",
        "g1 = input()\n",
        "g2 = input()\n",
        "g3 = input()\n",
        "g4 = input()\n",
        "g5 = input()\n",
        "g6 = input()\n",
        "g7 = input()\n",
        "g8 = input()\n",
        "g9 = input()\n",
        "\n",
        "win_counter = 0\n",
        "\n",
        "if g1 == \"W\":\n",
        "  win_counter +=1\n",
        "if g2 == \"W\":\n",
        "  win_counter +=1\n",
        "if g3 == \"W\":\n",
        "  win_counter +=1\n",
        "if g4 == \"W\":\n",
        "  win_counter +=1\n",
        "if g5 == \"W\":\n",
        "  win_counter +=1\n",
        "if g6 == \"W\":\n",
        "  win_counter +=1\n",
        "if g7 == \"W\":\n",
        "  win_counter +=1\n",
        "if g8 == \"W\":\n",
        "  win_counter +=1\n",
        "if g9 == \"W\":\n",
        "  win_counter +=1\n",
        "\n",
        "\n",
        "win_counter = 0\n",
        "\n",
        "for i in range(9):\n",
        "  game = input()\n",
        "  if game == 'W':\n",
        "    win_counter+=1\n",
        "\n",
        "\n",
        "if win_counter>=8:\n",
        "  print(1)\n",
        "elif win_counter ==6 or win_counter==7:\n",
        "  print(2)\n",
        "elif win_counter ==5 or win_counter==4:\n",
        "  print(3)\n",
        "elif win_counter ==3 or win_counter==2:  \n",
        "  print(4)\n",
        "elif win_counter ==1:\n",
        "  print (5)\n",
        "else:\n",
        "  print(-1)"
      ],
      "execution_count": null,
      "outputs": [
        {
          "output_type": "stream",
          "text": [
            "1타ㅣㅁ\n",
            "2팀\n",
            "3팀\n",
            "4팀\n",
            "5팀\n",
            "6팀\n",
            "7팀\n",
            "8팀\n",
            "9팀\n",
            "6\n",
            "6\n",
            "ㅉ\n",
            "ㅁㄴㅇ\n",
            "ㅁㄴㅇ\n",
            "ㄴㅇㅎㄹ\n",
            "ㅇㅀ\n",
            "ㄴㅇㄹ\n",
            "ㅉ\n",
            "-1\n"
          ],
          "name": "stdout"
        }
      ]
    },
    {
      "cell_type": "code",
      "metadata": {
        "colab": {
          "base_uri": "https://localhost:8080/"
        },
        "id": "kO2pAecpwZBX",
        "outputId": "46bf3902-185e-45d8-891c-a30bb265238b"
      },
      "source": [
        "import random\n",
        "teams = list(range(1,10))\n",
        "random.shuffle(teams)\n",
        "half = len(teams) // 2\n",
        "teams[:half], teams[half:], teams"
      ],
      "execution_count": null,
      "outputs": [
        {
          "output_type": "execute_result",
          "data": {
            "text/plain": [
              "([7, 8, 2, 9], [5, 4, 6, 1, 3], [7, 8, 2, 9, 5, 4, 6, 1, 3])"
            ]
          },
          "metadata": {
            "tags": []
          },
          "execution_count": 7
        }
      ]
    },
    {
      "cell_type": "code",
      "metadata": {
        "colab": {
          "base_uri": "https://localhost:8080/"
        },
        "id": "ZLA22xavxqBR",
        "outputId": "5f33d590-9262-4ac0-d0ef-c7ed82fbddc3"
      },
      "source": [
        "import random\n",
        "teams = list(range(1,10))\n",
        "random.shuffle(teams)\n",
        "half = len(teams) // 2\n",
        "print('teams[:half] : ', teams[:half])\n",
        "print('teams[half:] : ', teams[half:])\n",
        "print('teams : ', teams)"
      ],
      "execution_count": null,
      "outputs": [
        {
          "output_type": "stream",
          "text": [
            "teams[:half] :  [9, 4, 5, 3]\n",
            "teams[half:] :  [2, 6, 1, 7, 8]\n",
            "teams :  [9, 4, 5, 3, 2, 6, 1, 7, 8]\n"
          ],
          "name": "stdout"
        }
      ]
    },
    {
      "cell_type": "code",
      "metadata": {
        "colab": {
          "base_uri": "https://localhost:8080/"
        },
        "id": "kvmR1PAzyDSw",
        "outputId": "fb9d26b9-10c5-44e6-b016-034ccabc5e81"
      },
      "source": [
        "list(zip(teams[:half], teams[half:]))"
      ],
      "execution_count": null,
      "outputs": [
        {
          "output_type": "execute_result",
          "data": {
            "text/plain": [
              "[(9, 2), (4, 6), (5, 1), (3, 7)]"
            ]
          },
          "metadata": {
            "tags": []
          },
          "execution_count": 12
        }
      ]
    },
    {
      "cell_type": "code",
      "metadata": {
        "id": "4ZJ1Mf_dyVlG"
      },
      "source": [
        ""
      ],
      "execution_count": null,
      "outputs": []
    }
  ]
}