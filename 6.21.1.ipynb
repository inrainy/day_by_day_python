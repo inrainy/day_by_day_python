{
 "cells": [
  {
   "cell_type": "code",
   "execution_count": 20,
   "id": "fa1987ec-34df-4eb1-90d5-ea6d0cf3b18e",
   "metadata": {},
   "outputs": [
    {
     "name": "stdout",
     "output_type": "stream",
     "text": [
      "[[ 0.12  1.02  4.1 ]\n",
      " [ 0.15  5.12 12.2 ]]\n",
      "ㅡㅡㅡㅡㅡㅡㅡㅡㅡㅡㅡㅡㅡㅡㅡㅡㅡㅡㅡㅡㅡㅡㅡㅡㅡㅡㅡㅡㅡㅡ\n",
      "input_x_shape:  (2, 3)\n",
      "theta_1_shape:  (3, 1)\n",
      "[[-1.70257403]\n",
      " [-1.06796299]\n",
      " [ 0.55744104]]\n",
      "ㅡㅡㅡㅡㅡㅡㅡㅡㅡㅡㅡㅡㅡㅡㅡㅡㅡㅡㅡㅡㅡㅡㅡㅡㅡㅡㅡㅡㅡㅡ\n",
      "[-0.26048893]\n",
      "y_hat :  [[0.73138819]\n",
      " [0.8169351 ]]\n",
      "[[5], [3]]\n"
     ]
    }
   ],
   "source": [
    "###2_1_4\n",
    "###딕셔너리 파트\n",
    "###loc 는 평균값\n",
    "###scale 는 표준편차\n",
    "###input_cnt, output_cnt 는 변수이고, 수식에 들어가는 값 (신경망)\n",
    "### 3개의 입력값을 받았을 때 1개의 값을 받는 코드를 만들어 준 것임\n",
    "\n",
    "import numpy as np\n",
    "\n",
    "input_cnt = 3\n",
    "output_cnt = 1\n",
    "\n",
    "###input_cnt, output_cnt = 3, 1 (이렇게 적기도 함)\n",
    "\n",
    "input_x = [[0.12, 1.02, 4.1],[0.15,5.12,12.2]] \n",
    "#무작위 값임 =학습 데이터라고 부를 수 있음\n",
    "#학습데이터 2개임^^ 아우 친절\n",
    "label_y = [[5],[3]]\n",
    "#종속변수 5와 3임\n",
    "input_x_shape = np.array(input_x)\n",
    "#넘파이에 맞는 매소드를 만들어줘야함\n",
    "print(input_x_shape)\n",
    "#리스트에서 어레이 함수로 바뀌었을 뿐 전혀 달라진 것이 없음\n",
    "print(\"ㅡ\"*30)\n",
    "print(\"input_x_shape: \", input_x_shape.shape)\n",
    "#shape은 모양이라는 뜻을 의미함, 몇컴마 몇이냐를 의미함\n",
    "#2개의 행과 3개의 열로 이루어져있음(2,3)\n",
    "\n",
    "theta_1 = np.random.normal(loc = 0, scale = 1, size = [input_cnt, output_cnt]) \n",
    "print(\"theta_1_shape: \", theta_1.shape)\n",
    "theta_0 = np.random.normal(loc = 0, scale = 1, size = [output_cnt])\n",
    "#신경망을 만들때 다시 한 번 구조를 알려주신다심.\n",
    "\n",
    "\n",
    "print(theta_1)\n",
    "#3개의 값이 한 열로 나옴 [3,1] 의 크기로 입력을 한 것이기 때문\n",
    "print('ㅡ'*30)\n",
    "print(theta_0)\n",
    "\n",
    "y_hat = np.matmul(input_x, theta_1) + theta_0 \n",
    "# 중요!!!!!!!!!!! matmul(중요함!) 안에 input_x 학습데이터와, theta_1 이 들어가 있음\n",
    "#y햇은 행열연산을 빠르게 진행시켜줄 수 있는 함수임\n",
    "print(\"y_hat : \", y_hat)\n",
    "#데이터를 2개 넣엇기 때문에 라벨값과 곱해진 결과 하나하나가 출력되어 2개가 나옴\n",
    "\n",
    "print(label_y)\n",
    "#랜덤으로 구한 값이라서 -1과 5 -0과 3처럼 차이가 큼, 이것을 더 정확하게 학습시키는 공부를 진행할 것임"
   ]
  },
  {
   "cell_type": "code",
   "execution_count": 21,
   "id": "93598b35-ea5e-46d2-9d43-16352353ef80",
   "metadata": {},
   "outputs": [
    {
     "name": "stdout",
     "output_type": "stream",
     "text": [
      "[0.73138819]\n",
      "[0.8169351]\n",
      "[5]\n",
      "[3]\n",
      "ㅡㅡㅡㅡㅡㅡㅡㅡㅡㅡㅡㅡㅡㅡㅡㅡㅡㅡㅡㅡㅡㅡㅡㅡㅡㅡㅡㅡㅡㅡ\n",
      "NOW PM\n",
      "theta_0 :  [-0.26048893]\n",
      "theta_1 :  [[-1.70257403]\n",
      " [-1.06796299]\n",
      " [ 0.55744104]]\n",
      "ㅡㅡㅡㅡㅡㅡㅡㅡㅡㅡㅡㅡㅡㅡㅡㅡㅡㅡㅡㅡㅡㅡㅡㅡㅡㅡㅡㅡㅡㅡ\n",
      "mse :  [11.4934096]\n"
     ]
    }
   ],
   "source": [
    "###mse\n",
    "print(y_hat[0])\n",
    "print(y_hat[1])\n",
    "print(label_y[0])\n",
    "print(label_y[1])\n",
    "print('ㅡ'*30)\n",
    "\n",
    "a = (y_hat[0]-label_y[0])**2\n",
    "b = (y_hat[1]-label_y[1])**2\n",
    "print('NOW PM')\n",
    "#세타원 세타제로를 파라미터라고 부름\n",
    "print('theta_0 : ', theta_0)\n",
    "print('theta_1 : ', theta_1)\n",
    "print('ㅡ'*30)\n",
    "###무작위 값으로 세타를 설정했기 때문에 random, 큰 값이 나올 수 밖에 없음(작은 값이 나와야 좋음)\n",
    "\n",
    "mse = (a+b)/2\n",
    "print('mse : ', mse)"
   ]
  },
  {
   "cell_type": "code",
   "execution_count": 23,
   "id": "9446d739-2964-4200-bc8d-35575c445051",
   "metadata": {},
   "outputs": [
    {
     "name": "stdout",
     "output_type": "stream",
     "text": [
      "input_x_shape:  (2, 3)\n",
      "theta_1_shape:  (3, 1)\n",
      "[[ 4.15913702]\n",
      " [12.0394752 ]]\n"
     ]
    }
   ],
   "source": [
    "import numpy as np\n",
    "\n",
    "input_cnt = 3\n",
    "output_cnt = 1\n",
    "\n",
    "input_x = [[0.12, 1.02, 4.1],[0.15,5.12,12.2]] \n",
    "label_y = [[5],[3]]\n",
    "input_x_shape = np.array(input_x)\n",
    "print(\"input_x_shape: \", input_x_shape.shape)\n",
    "\n",
    "theta_1 = np.random.normal(loc = 0, scale = 1, size = [input_cnt, output_cnt]) \n",
    "print(\"theta_1_shape: \", theta_1.shape)\n",
    "theta_0 = np.random.normal(0, 1, [output_cnt])\n",
    "\n",
    "#===========================================\n",
    "parameter = {'w' : theta_1, 'b' : theta_0}\n",
    "#weight 의 앞자 w, b는 편향 biss\n",
    "#w를 적었을 때 theta_1값이 나와라~\n",
    "y_hat = np.matmul(input_x, parameter['w']) + parameter['b'] \n",
    "#파라미터 안의 w를 부르는건데 w가 아닌 w가 가진 값 가져와!\n",
    "#이러한 방식으로 딕셔너리를 사용할 수 있음\n",
    "#===========================================\n",
    "print(y_hat)"
   ]
  },
  {
   "cell_type": "code",
   "execution_count": 24,
   "id": "0fcbb391-f843-47df-a5c2-19b1d377b5c7",
   "metadata": {},
   "outputs": [
    {
     "name": "stdout",
     "output_type": "stream",
     "text": [
      "dict_values([array([[-0.33178405],\n",
      "       [-0.28529023],\n",
      "       [ 1.11851625]]), array([-0.09596949])])\n",
      "dict_keys(['w', 'b'])\n"
     ]
    }
   ],
   "source": [
    "print(parameter.values())\n",
    "print(parameter.keys())"
   ]
  },
  {
   "cell_type": "code",
   "execution_count": 25,
   "id": "9a898fe0-bf65-4334-a9a0-5ee6bfadf97f",
   "metadata": {},
   "outputs": [
    {
     "name": "stdout",
     "output_type": "stream",
     "text": [
      "[[ 0.58519465]\n",
      " [-1.63627513]\n",
      " [ 1.72814337]\n",
      " [-0.14116499]\n",
      " [ 1.13201614]\n",
      " [-2.24740117]\n",
      " [ 1.84123701]\n",
      " [ 0.65197409]\n",
      " [ 0.01428262]\n",
      " [-1.62068896]]\n"
     ]
    }
   ],
   "source": [
    "#lossFunction 손실\n",
    "\n",
    "parameter = {'b' : 0.011}\n",
    "input_cnt = 10 #독립변수\n",
    "output_cnt = 1 #종속변수\n",
    "print(parameter.get('w',np.random.normal(loc = 0, \n",
    "                                         scale = 1, \n",
    "                                         size = [input_cnt, output_cnt])))\n",
    "\n",
    "#get함수는 내가 원하는 키값이 없을 때 사용한다는 등, 가볍게 알고 넘어가면된데"
   ]
  },
  {
   "cell_type": "code",
   "execution_count": null,
   "id": "775b1ab4-c94b-4712-b814-a986151b6d3f",
   "metadata": {},
   "outputs": [],
   "source": [
    "parameter = {'b' : 0.011, 'w' : 1.151}\n",
    "input_cnt = 10\n",
    "output_cnt = 1\n",
    "print(parameter.get('w',np.random.normal(loc = 0, \n",
    "                                         scale = 1, \n",
    "                                         size = [input_cnt, output_cnt])))"
   ]
  }
 ],
 "metadata": {
  "kernelspec": {
   "display_name": "Python 3",
   "language": "python",
   "name": "python3"
  },
  "language_info": {
   "codemirror_mode": {
    "name": "ipython",
    "version": 3
   },
   "file_extension": ".py",
   "mimetype": "text/x-python",
   "name": "python",
   "nbconvert_exporter": "python",
   "pygments_lexer": "ipython3",
   "version": "3.8.10"
  }
 },
 "nbformat": 4,
 "nbformat_minor": 5
}
