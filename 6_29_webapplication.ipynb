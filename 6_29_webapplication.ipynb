{
  "nbformat": 4,
  "nbformat_minor": 0,
  "metadata": {
    "colab": {
      "name": "6.29.webapplication.ipynb",
      "provenance": []
    },
    "kernelspec": {
      "name": "python3",
      "display_name": "Python 3"
    },
    "language_info": {
      "name": "python"
    }
  },
  "cells": [
    {
      "cell_type": "code",
      "metadata": {
        "colab": {
          "base_uri": "https://localhost:8080/"
        },
        "id": "d2_HrVAo4vfq",
        "outputId": "26dd7fde-7749-4e2d-c630-4ceddd9a86ba"
      },
      "source": [
        "#함수\n",
        "# ! 연결 순서\n",
        "#Positional Arguments\n",
        "#argument = 독립변수 s 독립변수들\n",
        "\n",
        "def checkout(name, price):\n",
        "  print(f'{name}님, 총 {price}원 주문 완료 되었습니다.')\n",
        "\n",
        "checkout('안성경', 12000)"
      ],
      "execution_count": 2,
      "outputs": [
        {
          "output_type": "stream",
          "text": [
            "안성경님, 총 12000원 주문 완료 되었습니다.\n"
          ],
          "name": "stdout"
        }
      ]
    },
    {
      "cell_type": "code",
      "metadata": {
        "colab": {
          "base_uri": "https://localhost:8080/"
        },
        "id": "oJ2TDOiV5bfl",
        "outputId": "be64a3f8-90a3-4640-8c98-59327cc03f26"
      },
      "source": [
        "#함수\n",
        "#keyword Arguments\n",
        "\n",
        "def checkout(name, price):\n",
        "  print(f'{name}님, 총 {price}원 주문 완료 되었습니다.')\n",
        "\n",
        "checkout(name = '안성경', price = 12000)"
      ],
      "execution_count": 3,
      "outputs": [
        {
          "output_type": "stream",
          "text": [
            "안성경님, 총 12000원 주문 완료 되었습니다.\n"
          ],
          "name": "stdout"
        }
      ]
    },
    {
      "cell_type": "code",
      "metadata": {
        "colab": {
          "base_uri": "https://localhost:8080/"
        },
        "id": "PRGtyxH75L-r",
        "outputId": "ec90ec39-5fd1-47da-f6ba-c3e09f98bd81"
      },
      "source": [
        "#함수\n",
        "#Positional Arguments\n",
        "#위치기반 매개변수 6개 순차적 모두 출력\n",
        "\n",
        "def checkout(name, price, additional_data, temporary_data, options, date):\n",
        "  print(name)\n",
        "  print(price)\n",
        "  print(additional_data)\n",
        "  print(temporary_data)\n",
        "  print(options)\n",
        "  print(date)\n",
        "\n",
        "checkout('안성경', 12000, '추가데이터', 10.0, ['아토1', '아토2', '아토3'], '1995,01,12')"
      ],
      "execution_count": 9,
      "outputs": [
        {
          "output_type": "stream",
          "text": [
            "안성경\n",
            "12000\n",
            "추가데이터\n",
            "10.0\n",
            "['아토1', '아토2', '아토3']\n",
            "1995,01,12\n"
          ],
          "name": "stdout"
        }
      ]
    },
    {
      "cell_type": "code",
      "metadata": {
        "colab": {
          "base_uri": "https://localhost:8080/"
        },
        "id": "BSWZ8YrL6Yq4",
        "outputId": "6ad595dd-5517-472d-e86c-03c592011a60"
      },
      "source": [
        "#함수\n",
        "#keyword Arguments\n",
        "#키워드기반 매개변수 6개 순차적 모두 출력\n",
        "\n",
        "def checkout(name, price, additional_data, temporary_data, options, date):\n",
        "  print(name)\n",
        "  print(price)\n",
        "  print(additional_data)\n",
        "  print(temporary_data)\n",
        "  print(options)\n",
        "  print(date)\n",
        "\n",
        "checkout(name = '안성경',\n",
        "         price = 12000,\n",
        "         additional_data = '추가데이터',\n",
        "         temporary_data = 10.0,\n",
        "         options = ['아토1', '아토2', '아토3'],\n",
        "         date ='1995,01,12')"
      ],
      "execution_count": 10,
      "outputs": [
        {
          "output_type": "stream",
          "text": [
            "안성경\n",
            "12000\n",
            "추가데이터\n",
            "10.0\n",
            "['아토1', '아토2', '아토3']\n",
            "1995,01,12\n"
          ],
          "name": "stdout"
        }
      ]
    },
    {
      "cell_type": "code",
      "metadata": {
        "colab": {
          "base_uri": "https://localhost:8080/",
          "height": 239
        },
        "id": "TqFUcdKk6B_J",
        "outputId": "0873bcd0-7f31-4bf3-b191-b01d04b30ebf"
      },
      "source": [
        "#optional_data\n",
        "#에러가 날것임\n",
        "\n",
        "def checkout(name, price, optional_data):\n",
        "  print(name)\n",
        "  print(price)\n",
        "  print(optional_data)\n",
        "\n",
        "checkout('안성경', 12000)\n",
        "\n",
        "#checkout() missing 1 required positional argument: 'optional_data'"
      ],
      "execution_count": 15,
      "outputs": [
        {
          "output_type": "error",
          "ename": "TypeError",
          "evalue": "ignored",
          "traceback": [
            "\u001b[0;31m---------------------------------------------------------------------------\u001b[0m",
            "\u001b[0;31mTypeError\u001b[0m                                 Traceback (most recent call last)",
            "\u001b[0;32m<ipython-input-15-71717320ea0a>\u001b[0m in \u001b[0;36m<module>\u001b[0;34m()\u001b[0m\n\u001b[1;32m      7\u001b[0m   \u001b[0mprint\u001b[0m\u001b[0;34m(\u001b[0m\u001b[0moptional_data\u001b[0m\u001b[0;34m)\u001b[0m\u001b[0;34m\u001b[0m\u001b[0;34m\u001b[0m\u001b[0m\n\u001b[1;32m      8\u001b[0m \u001b[0;34m\u001b[0m\u001b[0m\n\u001b[0;32m----> 9\u001b[0;31m \u001b[0mcheckout\u001b[0m\u001b[0;34m(\u001b[0m\u001b[0;34m'안성경'\u001b[0m\u001b[0;34m,\u001b[0m \u001b[0;36m12000\u001b[0m\u001b[0;34m)\u001b[0m\u001b[0;34m\u001b[0m\u001b[0;34m\u001b[0m\u001b[0m\n\u001b[0m\u001b[1;32m     10\u001b[0m \u001b[0;34m\u001b[0m\u001b[0m\n\u001b[1;32m     11\u001b[0m \u001b[0;31m#checkout() missing 1 required positional argument: 'optional_data'\u001b[0m\u001b[0;34m\u001b[0m\u001b[0;34m\u001b[0m\u001b[0;34m\u001b[0m\u001b[0m\n",
            "\u001b[0;31mTypeError\u001b[0m: checkout() missing 1 required positional argument: 'optional_data'"
          ]
        }
      ]
    },
    {
      "cell_type": "code",
      "metadata": {
        "colab": {
          "base_uri": "https://localhost:8080/",
          "height": 239
        },
        "id": "3njKqHkX7KFt",
        "outputId": "306b124b-0bbb-451b-fa05-6b14362dfbaa"
      },
      "source": [
        "#optional_data\n",
        "#에러가 날것임\n",
        "\n",
        "def checkout(name, price):\n",
        "  print(name)\n",
        "  print(price)\n",
        "  print(optional_data)\n",
        "\n",
        "checkout('안성경', 12000, 'optional_data')\n",
        "\n",
        "#checkout() takes 2 positional arguments but 3 were given"
      ],
      "execution_count": 16,
      "outputs": [
        {
          "output_type": "error",
          "ename": "TypeError",
          "evalue": "ignored",
          "traceback": [
            "\u001b[0;31m---------------------------------------------------------------------------\u001b[0m",
            "\u001b[0;31mTypeError\u001b[0m                                 Traceback (most recent call last)",
            "\u001b[0;32m<ipython-input-16-0fa6d89336ca>\u001b[0m in \u001b[0;36m<module>\u001b[0;34m()\u001b[0m\n\u001b[1;32m      7\u001b[0m   \u001b[0mprint\u001b[0m\u001b[0;34m(\u001b[0m\u001b[0moptional_data\u001b[0m\u001b[0;34m)\u001b[0m\u001b[0;34m\u001b[0m\u001b[0;34m\u001b[0m\u001b[0m\n\u001b[1;32m      8\u001b[0m \u001b[0;34m\u001b[0m\u001b[0m\n\u001b[0;32m----> 9\u001b[0;31m \u001b[0mcheckout\u001b[0m\u001b[0;34m(\u001b[0m\u001b[0;34m'안성경'\u001b[0m\u001b[0;34m,\u001b[0m \u001b[0;36m12000\u001b[0m\u001b[0;34m,\u001b[0m \u001b[0;34m'optional_data'\u001b[0m\u001b[0;34m)\u001b[0m\u001b[0;34m\u001b[0m\u001b[0;34m\u001b[0m\u001b[0m\n\u001b[0m\u001b[1;32m     10\u001b[0m \u001b[0;34m\u001b[0m\u001b[0m\n\u001b[1;32m     11\u001b[0m \u001b[0;31m# name 'optional_data' is not defined\u001b[0m\u001b[0;34m\u001b[0m\u001b[0;34m\u001b[0m\u001b[0;34m\u001b[0m\u001b[0m\n",
            "\u001b[0;31mTypeError\u001b[0m: checkout() takes 2 positional arguments but 3 were given"
          ]
        }
      ]
    },
    {
      "cell_type": "code",
      "metadata": {
        "colab": {
          "base_uri": "https://localhost:8080/"
        },
        "id": "iiieqPpv7jAs",
        "outputId": "b6e2e24b-c07d-4867-ca14-ba596f2bd91f"
      },
      "source": [
        "#optional_data\n",
        "#에러안남\n",
        "\n",
        "def checkout(name, price, optional_data):\n",
        "  print(name)\n",
        "  print(price)\n",
        "  print(optional_data)\n",
        "\n",
        "checkout('안성경', 12000, 'optional_data')"
      ],
      "execution_count": 17,
      "outputs": [
        {
          "output_type": "stream",
          "text": [
            "안성경\n",
            "12000\n",
            "optional_data\n"
          ],
          "name": "stdout"
        }
      ]
    },
    {
      "cell_type": "code",
      "metadata": {
        "colab": {
          "base_uri": "https://localhost:8080/"
        },
        "id": "JDQVPMkP7HWy",
        "outputId": "8c27d466-235c-48a2-8082-58831a94d599"
      },
      "source": [
        "#*args\n",
        "#*args = positional arguments + optional data\n",
        "#매개변수를 넣지 않은 경우\n",
        "\n",
        "def checkout(name, price, *args):\n",
        "  print(f'{name}님, 총 {price}원 주문 완료 되었습니다.')\n",
        "  print(args)\n",
        "  print(type(args))\n",
        "\n",
        "checkout('안성경', 12000)\n",
        "\n",
        "\n",
        "#<class 'tuple'>"
      ],
      "execution_count": 24,
      "outputs": [
        {
          "output_type": "stream",
          "text": [
            "안성경님, 총 12000원 주문 완료 되었습니다.\n",
            "()\n",
            "<class 'tuple'>\n"
          ],
          "name": "stdout"
        }
      ]
    },
    {
      "cell_type": "code",
      "metadata": {
        "colab": {
          "base_uri": "https://localhost:8080/"
        },
        "id": "jQW-ijUB74m9",
        "outputId": "131279d5-540f-4f78-dba7-e2824cd5d157"
      },
      "source": [
        "#*args\n",
        "#*args = positional arguments +optional data\n",
        "#매개변수를 넣은 경우\n",
        "\n",
        "def checkout(name, price, *args):\n",
        "  print(f'{name}님, 총 {price}원 주문 완료 되었습니다.')\n",
        "  print(args)\n",
        "  print(type(args))\n",
        "\n",
        "checkout('안성경', 12000, 'optional_data')\n",
        "\n",
        "\n",
        "#<class 'tuple'>"
      ],
      "execution_count": 25,
      "outputs": [
        {
          "output_type": "stream",
          "text": [
            "안성경님, 총 12000원 주문 완료 되었습니다.\n",
            "('optional_data',)\n",
            "<class 'tuple'>\n"
          ],
          "name": "stdout"
        }
      ]
    },
    {
      "cell_type": "code",
      "metadata": {
        "colab": {
          "base_uri": "https://localhost:8080/"
        },
        "id": "RkUqwsuV8SRR",
        "outputId": "7e104d75-a9d9-4cd8-cde5-912d91d884bb"
      },
      "source": [
        "#*args\n",
        "#*args = positional arguments + optional data\n",
        "#위치기반 매개변수 3개를 받아 순차적으로 모두 출력하는 함수\n",
        "#위치 기반 선택적 매개변수 임의의 개수를 받아 순차적으로 모두 출력\n",
        "#몇개의 선택적 매개변수를 받았는지 출력\n",
        "\n",
        "def checkout(name, price, additional_data, *args):\n",
        "  print(name)\n",
        "  print(price)\n",
        "  print(additional_data)\n",
        "  print('='*30)\n",
        "  for arg in args:\n",
        "    print(arg)\n",
        "  print(f'입력된 선택적 매개변수의 개수 : {len(args)}')\n",
        "\n",
        "checkout('안성경',\n",
        "         12000,\n",
        "         '추가데이터',\n",
        "         10.0,\n",
        "         ['아토1', '아토2', '아토3'],\n",
        "         '1995,01,12')\n",
        "\n",
        "\n",
        "#입력된 선택적 매개변수의 개수 : 3"
      ],
      "execution_count": 26,
      "outputs": [
        {
          "output_type": "stream",
          "text": [
            "안성경\n",
            "12000\n",
            "추가데이터\n",
            "==============================\n",
            "10.0\n",
            "['아토1', '아토2', '아토3']\n",
            "1995,01,12\n",
            "입력된 선택적 매개변수의 개수 : 3\n"
          ],
          "name": "stdout"
        }
      ]
    },
    {
      "cell_type": "code",
      "metadata": {
        "colab": {
          "base_uri": "https://localhost:8080/"
        },
        "id": "WPVIngcB9Mgb",
        "outputId": "b173efb9-3cf7-49fd-ef38-45af438a1beb"
      },
      "source": [
        "#**kwargs\n",
        "#**kwargs = keyward arguments + optional data\n",
        "#매개변수를 넣지 않은 경우\n",
        "\n",
        "def checkout(name, price, **kwargs):\n",
        "  print(f'{name}님, 총 {price}원 주문 완료 되었습니다.')\n",
        "  print(kwargs)\n",
        "  print(type(kwargs))\n",
        "\n",
        "checkout(name='안성경', price=12000)\n",
        "\n",
        "#<class 'dict'>"
      ],
      "execution_count": 29,
      "outputs": [
        {
          "output_type": "stream",
          "text": [
            "안성경님, 총 12000원 주문 완료 되었습니다.\n",
            "{}\n",
            "<class 'dict'>\n"
          ],
          "name": "stdout"
        }
      ]
    },
    {
      "cell_type": "code",
      "metadata": {
        "colab": {
          "base_uri": "https://localhost:8080/"
        },
        "id": "NkZT1TIP9CT7",
        "outputId": "901b999f-f994-4074-d0ab-38d42e76293a"
      },
      "source": [
        "#**kwargs\n",
        "#**kwargs = keyward arguments + optional data\n",
        "#매개변수를 넣은 경우\n",
        "\n",
        "def checkout(name, price, **kwargs):\n",
        "  print(f'{name}님, 총 {price}원 주문 완료 되었습니다.')\n",
        "  print(kwargs)\n",
        "  print(type(kwargs))\n",
        "\n",
        "checkout(name = '안성경', price = 12000, optional_data = 'optional_data')\n",
        "\n",
        "\n",
        "#<class 'dict'>"
      ],
      "execution_count": 30,
      "outputs": [
        {
          "output_type": "stream",
          "text": [
            "안성경님, 총 12000원 주문 완료 되었습니다.\n",
            "{'optional_data': 'optional_data'}\n",
            "<class 'dict'>\n"
          ],
          "name": "stdout"
        }
      ]
    },
    {
      "cell_type": "code",
      "metadata": {
        "colab": {
          "base_uri": "https://localhost:8080/"
        },
        "id": "RpNXwLxk-LU3",
        "outputId": "8d49ce6b-a197-4415-d9ee-5c363997b1c7"
      },
      "source": [
        "#**kwargs\n",
        "#**kwargs = keyword arguments + optional data\n",
        "#키워드 기반 매개변수 3개를 받아 순차적으로 모두 출력하는 함수\n",
        "#키워드 기반 선택적 매개변수 임의의 개수를 받아 key/value 순차적으로 모두 출력\n",
        "#몇개의 선택적 매개변수를 받았는지 출력\n",
        "\n",
        "def checkout(name, price, temp_data, **kwargs):\n",
        "  print(name)\n",
        "  print(price)\n",
        "  print(temp_data)\n",
        "  print('='*30)\n",
        "  for key, value in kwargs.items():\n",
        "      print(f'key: {key} / value : {value}')\n",
        "  print(f'{len(kwargs)}개의 선택적 키워드 매개변수를 받았습니다.')\n",
        "  print('kwargs.items() : ', kwargs.items())\n",
        "\n",
        "checkout(name = '안성경',\n",
        "         price = 12000,\n",
        "         temp_data = '추가데이터',\n",
        "         additional_data = 10.0,\n",
        "         options = ['아토1', '아토2', '아토3'],\n",
        "         data = '1995,01,12')\n",
        "\n",
        "\n",
        "#3개의 선택적 키워드 매개변수를 받았습니다."
      ],
      "execution_count": 43,
      "outputs": [
        {
          "output_type": "stream",
          "text": [
            "안성경\n",
            "12000\n",
            "추가데이터\n",
            "==============================\n",
            "key: additional_data / value : 10.0\n",
            "key: options / value : ['아토1', '아토2', '아토3']\n",
            "key: data / value : 1995,01,12\n",
            "3개의 선택적 키워드 매개변수를 받았습니다.\n",
            "kwargs.items() :  dict_items([('additional_data', 10.0), ('options', ['아토1', '아토2', '아토3']), ('data', '1995,01,12')])\n"
          ],
          "name": "stdout"
        }
      ]
    },
    {
      "cell_type": "code",
      "metadata": {
        "colab": {
          "base_uri": "https://localhost:8080/"
        },
        "id": "NsJ0sjNV-717",
        "outputId": "e194fd82-f7e3-497a-f55c-728de8cdb120"
      },
      "source": [
        "#위치기반 + 키워드 기반\n",
        "#모두 출력\n",
        "\n",
        "#에러가 날것임\n",
        "\n",
        "def checkout(name, price, temp_data,\n",
        "             kwarg_input_1,\n",
        "             kwarg_input_2,\n",
        "             kwarg_input_3,\n",
        "             *args,\n",
        "             **kwargs):\n",
        "  print(name)\n",
        "  print(price)\n",
        "  print(temp_data)\n",
        "  print(kwarg_input_1)\n",
        "  print(kwarg_input_2)\n",
        "  print(kwarg_input_3)\n",
        "\n",
        "  for arg in args:\n",
        "    print(arg)\n",
        "  for key, value in kwargs.items():\n",
        "    print(f'key : {key} / value : {value}')\n",
        "\n",
        "  \n",
        "checkout('안성경',\n",
        "         12000,\n",
        "         '임시 데이터',\n",
        "         kwarg_input_1 = '키워드기반 매개변수1',\n",
        "         kwarg_input_2 = '키워드기반 매개변수2',\n",
        "         kwarg_input_3 = '키워드기반 매개변수3',\n",
        "         additional_data = '추가 데이터',\n",
        "         temporary_data = 10.0,\n",
        "         options = ['아토1', '아토2', '아토3'],\n",
        "         data = '1995/01/12')"
      ],
      "execution_count": 48,
      "outputs": [
        {
          "output_type": "stream",
          "text": [
            "안성경\n",
            "12000\n",
            "임시 데이터\n",
            "키워드기반 매개변수1\n",
            "키워드기반 매개변수2\n",
            "키워드기반 매개변수3\n",
            "key : additional_data / value : 추가 데이터\n",
            "key : temporary_data / value : 10.0\n",
            "key : options / value : ['아토1', '아토2', '아토3']\n",
            "key : data / value : 1995/01/12\n"
          ],
          "name": "stdout"
        }
      ]
    },
    {
      "cell_type": "code",
      "metadata": {
        "colab": {
          "base_uri": "https://localhost:8080/",
          "height": 204
        },
        "id": "etb3bScdBimI",
        "outputId": "0adeff2e-4d7c-4809-f844-d91a49936897"
      },
      "source": [
        "#위치기반 + 키워드 기반\n",
        "#모두 출력\n",
        "\n",
        "#에러가 날것임\n",
        "\n",
        "def checkout(name, price, temp_data,\n",
        "             kwarg_input_1,\n",
        "             kwarg_input_2,\n",
        "             kwarg_input_3,\n",
        "             *args,\n",
        "             **kwargs):\n",
        "  print(name)\n",
        "  print(price)\n",
        "  print(temp_data)\n",
        "  print(kwarg_input_1)\n",
        "  print(kwarg_input_2)\n",
        "  print(kwarg_input_3)\n",
        "\n",
        "  for arg in args:\n",
        "    print(arg)\n",
        "  for key, value in kwargs.item():\n",
        "    print(f'key : {key} / value : {value}')\n",
        "\n",
        "  \n",
        "checkout('안성경',\n",
        "         12000,\n",
        "         '임시 데이터',\n",
        "         '위치기반 선택적 매개변수1',\n",
        "         '위치기반 선택적 매개변수2',\n",
        "         '위치기반 선택적 매개변수3',\n",
        "         kwarg_input_1 = '키워드기반 매개변수1',\n",
        "         kwarg_input_2 = '키워드기반 매개변수2',\n",
        "         kwarg_input_3 = '키워드기반 매개변수3',\n",
        "         additional_data = '추가 데이터',\n",
        "         temporary_data = 10.0,\n",
        "         options = ['아토1', '아토2', '아토3'],\n",
        "         data = '1995/01/12')"
      ],
      "execution_count": 53,
      "outputs": [
        {
          "output_type": "error",
          "ename": "TypeError",
          "evalue": "ignored",
          "traceback": [
            "\u001b[0;31m---------------------------------------------------------------------------\u001b[0m",
            "\u001b[0;31mTypeError\u001b[0m                                 Traceback (most recent call last)",
            "\u001b[0;32m<ipython-input-53-17effae25467>\u001b[0m in \u001b[0;36m<module>\u001b[0;34m()\u001b[0m\n\u001b[1;32m     35\u001b[0m          \u001b[0mtemporary_data\u001b[0m \u001b[0;34m=\u001b[0m \u001b[0;36m10.0\u001b[0m\u001b[0;34m,\u001b[0m\u001b[0;34m\u001b[0m\u001b[0;34m\u001b[0m\u001b[0m\n\u001b[1;32m     36\u001b[0m          \u001b[0moptions\u001b[0m \u001b[0;34m=\u001b[0m \u001b[0;34m[\u001b[0m\u001b[0;34m'아토1'\u001b[0m\u001b[0;34m,\u001b[0m \u001b[0;34m'아토2'\u001b[0m\u001b[0;34m,\u001b[0m \u001b[0;34m'아토3'\u001b[0m\u001b[0;34m]\u001b[0m\u001b[0;34m,\u001b[0m\u001b[0;34m\u001b[0m\u001b[0;34m\u001b[0m\u001b[0m\n\u001b[0;32m---> 37\u001b[0;31m          data = '1995/01/12')\n\u001b[0m",
            "\u001b[0;31mTypeError\u001b[0m: checkout() got multiple values for argument 'kwarg_input_1'"
          ]
        }
      ]
    },
    {
      "cell_type": "code",
      "metadata": {
        "colab": {
          "base_uri": "https://localhost:8080/"
        },
        "id": "PlMWLUf4BVZa",
        "outputId": "f3b64dc5-5747-4722-b2c5-2509db3a15e1"
      },
      "source": [
        "def checkout(*args, **kwargs):\n",
        "  for arg in args:\n",
        "    print(arg)\n",
        "  for key, value in kwargs.items():\n",
        "    print(f'key: {key} / value: {value}')\n",
        "\n",
        "\n",
        "checkout('안성경',\n",
        "         12000,\n",
        "         '임시 데이터',\n",
        "         kwarg_input_1 = '키워드기반 매개변수1',\n",
        "         kwarg_input_2 = '키워드기반 매개변수2',\n",
        "         kwarg_input_3 = '키워드기반 매개변수3',\n",
        "         additional_data = '추가 데이터',\n",
        "         temporary_data = 10.0,\n",
        "         options = ['아토1', '아토2', '아토3'],\n",
        "         data = '1995/01/12')"
      ],
      "execution_count": 55,
      "outputs": [
        {
          "output_type": "stream",
          "text": [
            "안성경\n",
            "12000\n",
            "임시 데이터\n",
            "key: kwarg_input_1 / value: 키워드기반 매개변수1\n",
            "key: kwarg_input_2 / value: 키워드기반 매개변수2\n",
            "key: kwarg_input_3 / value: 키워드기반 매개변수3\n",
            "key: additional_data / value: 추가 데이터\n",
            "key: temporary_data / value: 10.0\n",
            "key: options / value: ['아토1', '아토2', '아토3']\n",
            "key: data / value: 1995/01/12\n"
          ],
          "name": "stdout"
        }
      ]
    },
    {
      "cell_type": "code",
      "metadata": {
        "id": "QQ4-hwhmcCm9"
      },
      "source": [
        ""
      ],
      "execution_count": null,
      "outputs": []
    }
  ]
}