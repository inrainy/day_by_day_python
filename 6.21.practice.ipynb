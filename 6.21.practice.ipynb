{
 "cells": [
  {
   "cell_type": "code",
   "execution_count": null,
   "id": "9776792b-d72d-4323-8eb0-a4d17b8ee3fa",
   "metadata": {},
   "outputs": [],
   "source": [
    "#함수 안에 함수 3가지 만들어 보기 _ 1\n",
    "\n",
    "#나는 게임을 좋아하니까, 각 게임의 빈도를 랜덤으로 예측해볼까\n",
    "\n",
    "#주말에는 친구가 히어로즈 오브 더 스톰과 스타크래프트를 한다.\n",
    "\n",
    "#나는 평일에 휴대폰 block scapes 와 리그오브레전드를 한다.\n",
    "\n",
    "#주말에 나는 친구와 함께 히오스와 스타를 한다.\n",
    "\n",
    "##친구는 피시방에 가면 히오스를 한다\n",
    "\n",
    "##친구와 집에 있으면 스타를 한다\n",
    "\n",
    "##나는 피시방도 집도 상관없이 게임을 한다\n",
    "\n",
    "###만들고 싶은 함수는, input을 통해 주말과 평일을 나누고 (주말을 sat, sun)\n",
    "\n",
    "###주말이라면 집인지 피시방인지를 input함수를 통해서 (home, house, pc)\n",
    "\n",
    "###평일이라면 휴대폰이 있는지 없는지\n",
    "\n",
    "###무슨게임 할 지 정해주는 프로그램을 짜보자"
   ]
  },
  {
   "cell_type": "code",
   "execution_count": 1,
   "id": "f9e6ef69-e1db-486c-9f3d-5f7de77a1527",
   "metadata": {},
   "outputs": [],
   "source": [
    "def play():\n",
    "    print('<Start connecting to the server...>')"
   ]
  },
  {
   "cell_type": "code",
   "execution_count": 2,
   "id": "fdcb6f02-3d9c-4c46-8811-063fefeeb333",
   "metadata": {},
   "outputs": [
    {
     "name": "stdout",
     "output_type": "stream",
     "text": [
      "<서버 접속을 시작합니다.>\n"
     ]
    }
   ],
   "source": [
    "play()"
   ]
  },
  {
   "cell_type": "code",
   "execution_count": 3,
   "id": "57fa60ce-9af3-4a3e-96a9-3804ee15427e",
   "metadata": {},
   "outputs": [],
   "source": [
    "my_secret_hobby = []\n",
    "\n",
    "def log():\n",
    "    play()\n",
    "    login = input('<Please enter your ID>:')\n",
    "    password = input('<Please enter your password>:')\n",
    "    if login == '수연':\n",
    "        my_secret_hobby.append(password)\n",
    "        print(input('what day today?'))\n",
    "    else:\n",
    "        print(input('Where do you do it?'))"
   ]
  },
  {
   "cell_type": "code",
   "execution_count": 5,
   "id": "7d8c9466-9345-4998-9175-54244e12ca17",
   "metadata": {},
   "outputs": [
    {
     "name": "stdout",
     "output_type": "stream",
     "text": [
      "<서버 접속을 시작합니다.>\n"
     ]
    },
    {
     "name": "stdin",
     "output_type": "stream",
     "text": [
      "<닉네임을 입력하세요>: 수연\n",
      "<비밀번호를 입력하세요>: 성경이바보\n",
      "what day today? sat\n"
     ]
    },
    {
     "name": "stdout",
     "output_type": "stream",
     "text": [
      "sat\n"
     ]
    }
   ],
   "source": [
    "log()"
   ]
  },
  {
   "cell_type": "code",
   "execution_count": 6,
   "id": "3d8249a5-8ec5-46c7-9b1c-3fa691bd473f",
   "metadata": {},
   "outputs": [
    {
     "name": "stdout",
     "output_type": "stream",
     "text": [
      "['성경이바보', '성경이바보']\n"
     ]
    }
   ],
   "source": [
    "print(my_secret_hobby)"
   ]
  },
  {
   "cell_type": "code",
   "execution_count": 55,
   "id": "e6576564-fbd6-46ad-8145-8a5f381cd2b9",
   "metadata": {},
   "outputs": [],
   "source": [
    "def week():\n",
    "    day = input('what day today?')\n",
    "    weekend = ['sat', 'sun']\n",
    "    if day in weekend:\n",
    "        space()\n",
    "    else:\n",
    "        phone()\n",
    "        \n",
    "            #weekday = ('mon', 'tue', 'wed', 'thu', 'fri')"
   ]
  },
  {
   "cell_type": "code",
   "execution_count": 56,
   "id": "d2f2e55b-9cff-4eca-96cf-bd3f77c4a336",
   "metadata": {},
   "outputs": [
    {
     "name": "stdin",
     "output_type": "stream",
     "text": [
      "what day today? the\n",
      "do you have a cell phone? no\n"
     ]
    },
    {
     "name": "stdout",
     "output_type": "stream",
     "text": [
      "let's go pc for playing 'league of leagend'\n"
     ]
    }
   ],
   "source": [
    "week()"
   ]
  },
  {
   "cell_type": "code",
   "execution_count": 49,
   "id": "27be87dd-7b4e-4489-a953-b08363940fc8",
   "metadata": {},
   "outputs": [],
   "source": [
    "#수연이랑 게임할거임\n",
    "def space():\n",
    "    room = input('Where do you do it?')\n",
    "    spaces = ('home', 'pc')\n",
    "    if room == spaces[0]:\n",
    "        print(\"<Let's Play 'heores of the strom' at home>\")\n",
    "    else:\n",
    "        print(\"<Play 'starcraft' at home>\")"
   ]
  },
  {
   "cell_type": "code",
   "execution_count": 50,
   "id": "41fd181f-a675-4f16-a36c-bd76ad90f754",
   "metadata": {},
   "outputs": [
    {
     "name": "stdin",
     "output_type": "stream",
     "text": [
      "Where do you do it? home\n"
     ]
    },
    {
     "name": "stdout",
     "output_type": "stream",
     "text": [
      "<Let's Play 'heores of the strom' at home>\n"
     ]
    }
   ],
   "source": [
    "space()"
   ]
  },
  {
   "cell_type": "code",
   "execution_count": 44,
   "id": "2bfdf881-7f36-410e-b0ea-04f71d39cafb",
   "metadata": {},
   "outputs": [],
   "source": [
    "#혼자 할거임\n",
    "def phone():\n",
    "    bring = input('do you have a cell phone?')\n",
    "    answer = ('yes', 'no')\n",
    "    if bring == answer[0]:\n",
    "        print(\"<Play 'block scapes' at home>\")\n",
    "    else:\n",
    "        print(\"let's go pc for playing 'league of leagend'\")"
   ]
  },
  {
   "cell_type": "code",
   "execution_count": 43,
   "id": "afd218ae-98e4-41a5-893a-c77529df9d6e",
   "metadata": {},
   "outputs": [
    {
     "name": "stdin",
     "output_type": "stream",
     "text": [
      "do you have a cell phone? yes\n"
     ]
    },
    {
     "name": "stdout",
     "output_type": "stream",
     "text": [
      "Play block scapes at home\n"
     ]
    }
   ],
   "source": [
    "phone()"
   ]
  },
  {
   "cell_type": "code",
   "execution_count": 26,
   "id": "e0d1dd7c-2840-4ffe-97ba-fcb0ebb44097",
   "metadata": {},
   "outputs": [
    {
     "name": "stdout",
     "output_type": "stream",
     "text": [
      "{'home': 'starcraft', 'pc': 'heores of the strom'}\n",
      "{'home': ['heores of the strom', 'starcraft', 'block scapes', 'league of legend'], 'pc': ['heores of the strom', 'starcraft', 'block scapes', 'league of legend']}\n"
     ]
    }
   ],
   "source": [
    "#시나리오 주인공_1\n",
    "\n",
    "name_1 = '수연'\n",
    "game_1 = {'home' : 'starcraft', 'pc' : 'heores of the strom'}\n",
    "day_1 = ['sat', 'sun']\n",
    "print(game_1)\n",
    "\n",
    "#시나리오 주인공_2\n",
    "\n",
    "name_2 = '성경'\n",
    "game_2 = {'home' : ['heores of the strom', 'starcraft', 'block scapes', 'league of legend'],\n",
    "          'pc' : ['heores of the strom', 'starcraft', 'block scapes', 'league of legend']}\n",
    "day_2 = ['mon', 'tue', 'wed', 'thu', 'fri', 'sat', 'sun']\n",
    "print(game_2)\n",
    "\n",
    "ame_1 = '수연'\n",
    "game_1 = {'home' : 'starcraft', 'pc' : 'heores of the strom'}\n",
    "day_1 = ['sat', 'sun']\n",
    "print(game_1)\n",
    "name_2 = '성경'\n",
    "game_2 = {'home' : ['heores of the strom', 'starcraft', 'block scapes', 'league of legend'],\n",
    "          'pc' : ['heores of the strom', 'starcraft', 'block scapes', 'league of legend']}\n",
    "day_2 = ['mon', 'tue', 'wed', 'thu', 'fri', 'sat', 'sun']\n",
    "print(game_2)\n",
    "\n",
    "print"
   ]
  },
  {
   "cell_type": "code",
   "execution_count": 37,
   "id": "3008e5da-dbf3-4786-83a9-c0c19c2a9491",
   "metadata": {},
   "outputs": [
    {
     "ename": "SyntaxError",
     "evalue": "invalid syntax (<ipython-input-37-c9b59d8ca64e>, line 9)",
     "output_type": "error",
     "traceback": [
      "\u001b[1;36m  File \u001b[1;32m\"<ipython-input-37-c9b59d8ca64e>\"\u001b[1;36m, line \u001b[1;32m9\u001b[0m\n\u001b[1;33m    else:\u001b[0m\n\u001b[1;37m    ^\u001b[0m\n\u001b[1;31mSyntaxError\u001b[0m\u001b[1;31m:\u001b[0m invalid syntax\n"
     ]
    }
   ],
   "source": [
    "def space():\n",
    "    room = input('Where do you do it?')\n",
    "    #keys = game_1.keys()\n",
    "    #키값을 가져올때 key에 담는 것\n",
    "    #print(game_1)\n",
    "    if room == 'home':\n",
    "        print('play the game : {0}, with {1}'.format((game_1.get('home')), name_1)\n",
    "        #.get을 해서 가져오는거랑 대괄호 해서 가져올 수 있음. 소괄호를 쓸거면.get, 대괄호를 쓰면 됨.\n",
    "    else:\n",
    "        print('play the game : {0}, with {1}'.format(game_1.get('pc')), name_1)\n",
    "              \n",
    "                      #print('play the game : {0}, with {1}, in the {2}'.format(game_1('home')), name_1, keys[0])\n",
    "        "
   ]
  },
  {
   "cell_type": "code",
   "execution_count": null,
   "id": "52811d8f-dfd6-4a79-8b0b-62df9a0bfc22",
   "metadata": {},
   "outputs": [],
   "source": [
    "def situation():\n",
    "    day = input('What day to day? : ')\n",
    "    if day in day_1:\n",
    "        "
   ]
  },
  {
   "cell_type": "code",
   "execution_count": null,
   "id": "77f1fee0-e3e9-4674-a1a1-56aee10c293c",
   "metadata": {},
   "outputs": [],
   "source": [
    "situation()"
   ]
  }
 ],
 "metadata": {
  "kernelspec": {
   "display_name": "Python 3",
   "language": "python",
   "name": "python3"
  },
  "language_info": {
   "codemirror_mode": {
    "name": "ipython",
    "version": 3
   },
   "file_extension": ".py",
   "mimetype": "text/x-python",
   "name": "python",
   "nbconvert_exporter": "python",
   "pygments_lexer": "ipython3",
   "version": "3.8.10"
  }
 },
 "nbformat": 4,
 "nbformat_minor": 5
}
