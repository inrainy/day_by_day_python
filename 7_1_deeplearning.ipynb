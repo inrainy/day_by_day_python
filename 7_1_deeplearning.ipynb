{
  "nbformat": 4,
  "nbformat_minor": 0,
  "metadata": {
    "colab": {
      "name": "7.1.deeplearning.ipynb",
      "provenance": []
    },
    "kernelspec": {
      "name": "python3",
      "display_name": "Python 3"
    },
    "language_info": {
      "name": "python"
    }
  },
  "cells": [
    {
      "cell_type": "code",
      "metadata": {
        "id": "Fn2JkgnJYRiK",
        "colab": {
          "base_uri": "https://localhost:8080/"
        },
        "outputId": "dd8cdfa3-88c3-47e1-8efa-3379391f025b"
      },
      "source": [
        "from google.colab import drive\n",
        "drive.mount('/content/drive')"
      ],
      "execution_count": 1,
      "outputs": [
        {
          "output_type": "stream",
          "text": [
            "Drive already mounted at /content/drive; to attempt to forcibly remount, call drive.mount(\"/content/drive\", force_remount=True).\n"
          ],
          "name": "stdout"
        }
      ]
    },
    {
      "cell_type": "code",
      "metadata": {
        "id": "hadf6U2bZfaZ",
        "colab": {
          "base_uri": "https://localhost:8080/"
        },
        "outputId": "765e8050-0f32-47b9-d198-405eef1c3567"
      },
      "source": [
        "import pandas as pd \n",
        "# Pre_Season_Batter\n",
        "preseason_df = pd.read_csv(\"/content/drive/MyDrive/코랩 드라이브 마운트 폴더/Pre_Season_Batter.csv\")\n",
        "# Regular_Season_Batter\n",
        "regular_season_df = pd.read_csv(\"/content/drive/MyDrive/코랩 드라이브 마운트 폴더/Regular_Season_Batter.csv\")\n",
        "\n",
        "print(\"preseason_df.shape : \", preseason_df.shape)\n",
        "print(\"regular_season_df.shape : \", regular_season_df.shape)"
      ],
      "execution_count": 2,
      "outputs": [
        {
          "output_type": "stream",
          "text": [
            "preseason_df.shape :  (1393, 29)\n",
            "regular_season_df.shape :  (2454, 29)\n"
          ],
          "name": "stdout"
        }
      ]
    },
    {
      "cell_type": "code",
      "metadata": {
        "id": "xW2zW0JVaR5G"
      },
      "source": [
        "#행열을 곱하는 것\n",
        "# 1. np.matmul\n",
        "# 2. np.dot\n"
      ],
      "execution_count": 3,
      "outputs": []
    },
    {
      "cell_type": "code",
      "metadata": {
        "id": "tJUG1-J3a7UJ",
        "colab": {
          "base_uri": "https://localhost:8080/",
          "height": 53
        },
        "outputId": "40196e8d-d6fb-4eff-bc51-b2787abcb404"
      },
      "source": [
        "#행열 곱할 때\n",
        "'''\n",
        "x = (1,4) -> 행 1, 열 4\n",
        "y = (3,4) -> 행 3, 열 4\n",
        "\n",
        "=>크기가 같지 않아서 곱하기가 안됨, '좌항' 이 맞아야함\n",
        "-> 행렬곱 -> shape(?,?)\n",
        "\n",
        "->y를 치환해주면 됨,\n",
        "=>y^T = (4,3) ->행 4, 열 3\n",
        "-> 행렬 곱 ->(1,3)'''"
      ],
      "execution_count": 4,
      "outputs": [
        {
          "output_type": "execute_result",
          "data": {
            "application/vnd.google.colaboratory.intrinsic+json": {
              "type": "string"
            },
            "text/plain": [
              "\"\\nx = (1,4) -> 행 1, 열 4\\ny = (3,4) -> 행 3, 열 4\\n\\n=>크기가 같지 않아서 곱하기가 안됨, '좌항' 이 맞아야함\\n-> 행렬곱 -> shape(?,?)\\n\\n->y를 치환해주면 됨,\\n=>y^T = (4,3) ->행 4, 열 3\\n-> 행렬 곱 ->(1,3)\""
            ]
          },
          "metadata": {
            "tags": []
          },
          "execution_count": 4
        }
      ]
    },
    {
      "cell_type": "code",
      "metadata": {
        "id": "ZzRlZ23VbkwJ"
      },
      "source": [
        ""
      ],
      "execution_count": 4,
      "outputs": []
    },
    {
      "cell_type": "code",
      "metadata": {
        "colab": {
          "base_uri": "https://localhost:8080/"
        },
        "id": "53XwKruablfJ",
        "outputId": "9c8d93e4-3816-4d45-b25c-ce78557525e2"
      },
      "source": [
        "regular_season_df.head(3)\n",
        "regular_season_df.info()"
      ],
      "execution_count": 5,
      "outputs": [
        {
          "output_type": "stream",
          "text": [
            "<class 'pandas.core.frame.DataFrame'>\n",
            "RangeIndex: 2454 entries, 0 to 2453\n",
            "Data columns (total 29 columns):\n",
            " #   Column           Non-Null Count  Dtype  \n",
            "---  ------           --------------  -----  \n",
            " 0   batter_id        2454 non-null   int64  \n",
            " 1   batter_name      2454 non-null   object \n",
            " 2   year             2454 non-null   int64  \n",
            " 3   team             2454 non-null   object \n",
            " 4   avg              2428 non-null   float64\n",
            " 5   G                2454 non-null   int64  \n",
            " 6   AB               2454 non-null   int64  \n",
            " 7   R                2454 non-null   int64  \n",
            " 8   H                2454 non-null   int64  \n",
            " 9   2B               2454 non-null   int64  \n",
            " 10  3B               2454 non-null   int64  \n",
            " 11  HR               2454 non-null   int64  \n",
            " 12  TB               2454 non-null   int64  \n",
            " 13  RBI              2454 non-null   int64  \n",
            " 14  SB               2454 non-null   int64  \n",
            " 15  CS               2454 non-null   int64  \n",
            " 16  BB               2454 non-null   int64  \n",
            " 17  HBP              2454 non-null   int64  \n",
            " 18  SO               2454 non-null   int64  \n",
            " 19  GDP              2454 non-null   int64  \n",
            " 20  SLG              2428 non-null   float64\n",
            " 21  OBP              2430 non-null   float64\n",
            " 22  E                2454 non-null   int64  \n",
            " 23  height/weight    1652 non-null   object \n",
            " 24  year_born        2454 non-null   object \n",
            " 25  position         1652 non-null   object \n",
            " 26  career           2454 non-null   object \n",
            " 27  starting_salary  1387 non-null   object \n",
            " 28  OPS              2428 non-null   float64\n",
            "dtypes: float64(4), int64(18), object(7)\n",
            "memory usage: 556.1+ KB\n"
          ],
          "name": "stdout"
        }
      ]
    },
    {
      "cell_type": "code",
      "metadata": {
        "id": "XpbdCdd9bo9-"
      },
      "source": [
        "#하나의 열로 축소시킬 수 있지 않을까?\n",
        "#batter name과 year을 합쳐볼까?\n",
        "\n",
        "#새로운 인덱스를 만들어보자\n",
        "\n",
        "regular_season_df['new_idx'] = regular_season_df['batter_name'] + \\\n",
        "regular_season_df['year'].apply(str)\n",
        "\n",
        "#apply함수를 써서 숫자열을 문자열로 바꿔 줄 것임 = apply(str)"
      ],
      "execution_count": 6,
      "outputs": []
    },
    {
      "cell_type": "code",
      "metadata": {
        "colab": {
          "base_uri": "https://localhost:8080/"
        },
        "id": "1tqyMdjVc1aS",
        "outputId": "2af58118-8730-4b34-c119-6474c2d398c5"
      },
      "source": [
        "regular_season_df.info()"
      ],
      "execution_count": 7,
      "outputs": [
        {
          "output_type": "stream",
          "text": [
            "<class 'pandas.core.frame.DataFrame'>\n",
            "RangeIndex: 2454 entries, 0 to 2453\n",
            "Data columns (total 30 columns):\n",
            " #   Column           Non-Null Count  Dtype  \n",
            "---  ------           --------------  -----  \n",
            " 0   batter_id        2454 non-null   int64  \n",
            " 1   batter_name      2454 non-null   object \n",
            " 2   year             2454 non-null   int64  \n",
            " 3   team             2454 non-null   object \n",
            " 4   avg              2428 non-null   float64\n",
            " 5   G                2454 non-null   int64  \n",
            " 6   AB               2454 non-null   int64  \n",
            " 7   R                2454 non-null   int64  \n",
            " 8   H                2454 non-null   int64  \n",
            " 9   2B               2454 non-null   int64  \n",
            " 10  3B               2454 non-null   int64  \n",
            " 11  HR               2454 non-null   int64  \n",
            " 12  TB               2454 non-null   int64  \n",
            " 13  RBI              2454 non-null   int64  \n",
            " 14  SB               2454 non-null   int64  \n",
            " 15  CS               2454 non-null   int64  \n",
            " 16  BB               2454 non-null   int64  \n",
            " 17  HBP              2454 non-null   int64  \n",
            " 18  SO               2454 non-null   int64  \n",
            " 19  GDP              2454 non-null   int64  \n",
            " 20  SLG              2428 non-null   float64\n",
            " 21  OBP              2430 non-null   float64\n",
            " 22  E                2454 non-null   int64  \n",
            " 23  height/weight    1652 non-null   object \n",
            " 24  year_born        2454 non-null   object \n",
            " 25  position         1652 non-null   object \n",
            " 26  career           2454 non-null   object \n",
            " 27  starting_salary  1387 non-null   object \n",
            " 28  OPS              2428 non-null   float64\n",
            " 29  new_idx          2454 non-null   object \n",
            "dtypes: float64(4), int64(18), object(8)\n",
            "memory usage: 575.3+ KB\n"
          ],
          "name": "stdout"
        }
      ]
    },
    {
      "cell_type": "code",
      "metadata": {
        "id": "WGFP33F7c37N"
      },
      "source": [
        "preseason_df['new_idx'] = preseason_df['batter_name'] + \\\n",
        "preseason_df['year'].apply(str)"
      ],
      "execution_count": 70,
      "outputs": []
    },
    {
      "cell_type": "code",
      "metadata": {
        "colab": {
          "base_uri": "https://localhost:8080/"
        },
        "id": "oelLgAsFdFi8",
        "outputId": "cc2318b2-cbb1-4524-f7ca-285c49f03386"
      },
      "source": [
        "preseason_df.info()"
      ],
      "execution_count": 71,
      "outputs": [
        {
          "output_type": "stream",
          "text": [
            "<class 'pandas.core.frame.DataFrame'>\n",
            "RangeIndex: 1393 entries, 0 to 1392\n",
            "Data columns (total 30 columns):\n",
            " #   Column           Non-Null Count  Dtype  \n",
            "---  ------           --------------  -----  \n",
            " 0   batter_id        1393 non-null   int64  \n",
            " 1   batter_name      1393 non-null   object \n",
            " 2   year             1393 non-null   int64  \n",
            " 3   team             1393 non-null   object \n",
            " 4   avg              1393 non-null   object \n",
            " 5   G                1393 non-null   int64  \n",
            " 6   AB               1393 non-null   int64  \n",
            " 7   R                1393 non-null   int64  \n",
            " 8   H                1393 non-null   int64  \n",
            " 9   2B               1393 non-null   int64  \n",
            " 10  3B               1393 non-null   int64  \n",
            " 11  HR               1393 non-null   int64  \n",
            " 12  TB               1393 non-null   int64  \n",
            " 13  RBI              1393 non-null   int64  \n",
            " 14  SB               1393 non-null   int64  \n",
            " 15  CS               1393 non-null   int64  \n",
            " 16  BB               1393 non-null   int64  \n",
            " 17  HBP              1393 non-null   int64  \n",
            " 18  SO               1393 non-null   int64  \n",
            " 19  GDP              1393 non-null   int64  \n",
            " 20  SLG              1364 non-null   float64\n",
            " 21  OBP              1368 non-null   float64\n",
            " 22  E                1393 non-null   int64  \n",
            " 23  height/weight    1393 non-null   object \n",
            " 24  year_born        1393 non-null   object \n",
            " 25  position         1393 non-null   object \n",
            " 26  career           1393 non-null   object \n",
            " 27  starting_salary  1179 non-null   object \n",
            " 28  OPS              1364 non-null   float64\n",
            " 29  new_idx          1393 non-null   object \n",
            "dtypes: float64(3), int64(18), object(9)\n",
            "memory usage: 326.6+ KB\n"
          ],
          "name": "stdout"
        }
      ]
    },
    {
      "cell_type": "code",
      "metadata": {
        "id": "7D9YTHTNdG7U"
      },
      "source": [
        "#두 열을 하나로 중복없이 합쳐주는 작업\n",
        "\n",
        "intersection_idx = list(set(regular_season_df['new_idx']).\\\n",
        "                        intersection(preseason_df['new_idx']))"
      ],
      "execution_count": 72,
      "outputs": []
    },
    {
      "cell_type": "code",
      "metadata": {
        "colab": {
          "base_uri": "https://localhost:8080/"
        },
        "id": "0494h9gzdsKX",
        "outputId": "bef1ef61-ea8e-4bd9-ce97-a1a0a1977cba"
      },
      "source": [
        "print(intersection_idx)"
      ],
      "execution_count": 73,
      "outputs": [
        {
          "output_type": "stream",
          "text": [
            "['김성욱2015', '손시헌2018', '이종욱2015', '박기혁2002', '정수빈2010', '백창수2015', '김용의2017', '한승택2017', '이진영2003', '김회성2010', '김재성2015', '김태균2016', '손아섭2010', '최영진2017', '김지수2017', '최준석2010', '임병욱2016', '서건창2013', '김상수2009', '이종욱2013', '이성곤2017', '김응민2014', '채태인2017', '나주환2003', '이대호2005', '유한준2018', '유한준2015', '모창민2014', '이대형2003', '노수광2017', '안치홍2011', '김재환2008', '최정민2016', '최원준2017', '안익훈2018', '양석환2017', '황재균2015', '박기혁2007', '임훈2010', '손아섭2016', '박건우2018', '최형우2011', '허도환2013', '양석환2015', '정훈2014', '손아섭2017', '양종민2015', '김주찬2008', '오재원2012', '홍창기2016', '모창민2018', '장민석2014', '김회성2017', '유강남2015', '유한준2010', '최형우2008', '강진성2018', '백용환2014', '황재균2016', '최주환2008', '허경민2016', '강진성2017', '러프2018', '서동욱2018', '이종욱2014', '박승욱2017', '이진영2014', '김사훈2012', '김주찬2002', '손아섭2018', '김주찬2003', '임훈2014', '지석훈2012', '김상수2017', '류지혁2016', '오태곤2017', '안중열2016', '이형종2016', '지석훈2005', '김성현2012', '이명기2016', '김지수2015', '장민석2017', '전준우2008', '조동찬2002', '이대수2005', '이용규2015', '양의지2013', '정범모2006', '정의윤2017', '나지완2009', '이동훈2018', '정범모2008', '정진호2016', '박용택2016', '이재원2017', '박석민2004', '양성우2012', '김혜성2017', '김상수2010', '서동욱2015', '조수행2018', '이진영2011', '이재원2016', '이대호2011', '김현수2011', '신본기2013', '한승택2016', '이명기2018', '이재원2008', '정주현2010', '박기혁2018', '김주찬2012', '박헌도2016', '임훈2016', '강구성2017', '윤병호2018', '안치홍2012', '이진영2002', '스크럭스2017', '김주형2017', '이준수2013', '최준석2008', '이성우2013', '박정음2016', '조동찬2007', '전준우2012', '손주인2011', '러프2017', '신종길2017', '김태균2003', '최준석2013', '김상호2017', '김재호2014', '강승호2018', '김민수2014', '심우준2017', '정성훈2012', '오재일2011', '강경학2014', '강승호2017', '김동엽2018', '김민성2009', '정의윤2013', '이호신2016', '최정2018', '하준호2015', '김동한2017', '고종욱2016', '채태인2009', '서동욱2003', '오재일2018', '최진행2016', '이진영2009', '김재환2017', '김주형2011', '최준석2014', '유강남2017', '노수광2018', '최재훈2017', '정성훈2004', '최재훈2013', '손주인2016', '이택근2005', '박용택2003', '박정권2008', '박건우2013', '모창민2015', '양종민2018', '유재신2015', '장시윤2016', '나지완2010', '양석환2016', '김동욱2016', '박경수2007', '이성열2005', '최정민2015', '임병욱2017', '이진영2017', '최진행2004', '박동원2017', '송성문2017', '유한준2016', '문규현2014', '김강민2015', '민병헌2009', '전준우2017', '김재율2017', '최진행2008', '박기혁2010', '권희동2018', '장성우2018', '이지영2014', '이해창2011', '최주환2009', '박한이2005', '배정대2015', '오정복2010', '최준석2006', '이지영2009', '오지환2011', '박한이2013', '이대수2004', '문선재2017', '나지완2012', '정근우2009', '김동욱2018', '김혜성2018', '조동화2010', '홍성갑2015', '유재신2012', '박정권2012', '오선진2011', '나주환2006', '김지수2014', '정훈2011', '이용규2012', '로하스2018', '나경민2018', '박병호2015', '정의윤2016', '홍성갑2017', '이명기2017', '서상우2017', '하주석2013', '장영석2016', '안치홍2009', '로맥2018', '이재원2015', '임훈2012', '정성훈2005', '박광열2018', '김재율2012', '김주찬2009', '지석훈2008', '조동찬2010', '김성욱2016', '유재신2013', '강민호2018', '남태혁2016', '최항2017', '윤병호2016', '백창수2014', '배영섭2018', '이범호2013', '버나디나2017', '전병우2018', '황재균2010', '정진호2015', '조동화2015', '이범호2015', '문규현2018', '김재환2015', '김선빈2014', '정수빈2015', '손시헌2016', '정범모2012', '손주인2017', '김민성2017', '김성욱2014', '이원석2009', '김성현2018', '황윤호2015', '김상호2012', '최승준2015', '김지수2016', '강경학2016', '박한이2008', '장민석2015', '민병헌2018', '김문호2016', '박한이2004', '김선빈2012', '이진영2018', '김민성2012', '이택근2012', '모창민2013', '박기혁2013', '서동욱2011', '유한준2013', '이대호2004', '정성훈2003', '정범모2018', '오선진2018', '김헌곤2013', '나주환2009', '박해민2016', '조동화2009', '지석훈2017', '이용규2018', '이대형2006', '김태완2017', '안치홍2014', '조수행2016', '안중열2015', '김태완2018', '문규현2015', '백상원2015', '박용택2008', '정성훈2017', '김태완2007', '임훈2011', '박석민2013', '김현수2008', '이대수2009', '손아섭2013', '민병헌2013', '장성우2015', '강경학2015', '김성현2007', '김성현2008', '양성우2016', '정훈2017', '박경수2016', '박병호2005', '최진행2011', '최진행2013', '이대수2017', '박정권2015', '김주형2016', '최정2011', '나성범2016', '강민호2010', '박용택2007', '양의지2010', '박용택2010', '오정복2011', '이성곤2014', '조윤준2017', '김문호2015', '전준우2010', '이정후2017', '강민국2015', '김상수2016', '김주형2006', '국해성2018', '서건창2018', '박지규2015', '조윤준2013', '황윤호2018', '권정웅2016', '지석훈2016', '임종혁2014', '이영욱2009', '윤석민2007', '최준석2018', '윤진호2018', '안치홍2013', '김강민2008', '오재일2009', '조동찬2008', '윤석민2014', '이택근2004', '박정권2016', '오정복2014', '이택근2016', '전준우2011', '박건우2016', '김동한2016', '오정복2017', '최진행2005', '양의지2016', '한동민2017', '박용택2015', '윤석민2016', '박헌도2014', '이준호2011', '지석훈2011', '이대형2015', '조동화2014', '김성현2017', '한승택2013', '이성곤2018', '이성우2015', '이진영2008', '조동화2005', '백용환2015', '김문호2017', '허경민2012', '채태인2014', '장민석2012', '이대형2013', '박한이2003', '조윤준2015', '채은성2016', '김성욱2017', '정병곤2017', '이지영2018', '박석민2009', '장성우2017', '최준석2009', '류지혁2018', '조동화2008', '최진행2015', '채태인2011', '박경수2004', '이상호2017', '유한준2005', '박세혁2013', '강구성2013', '이대수2008', '최정2009', '노진혁2015', '문규현2004', '송민섭2018', '김재환2014', '민병헌2010', '박경수2010', '송광민2007', '구자욱2015', '박기혁2003', '권정웅2017', '김성현2016', '최진행2012', '박광열2015', '강민호2016', '강민호2009', '정성훈2015', '김태균2004', '오재원2013', '오재일2012', '오재일2017', '이종욱2011', '이대형2008', '박경수2009', '강민호2013', '오태곤2018', '김성현2015', '김선빈2017', '나주환2007', '유한준2007', '서동욱2009', '박헌도2013', '김주찬2011', '백민기2018', '하주석2016', '정경운2018', '윤석민2015', '이영욱2017', '김재현2015', '이원석2012', '강상원2018', '송광민2014', '나성범2017', '윤진호2011', '정성훈2002', '최형우2016', '정상호2015', '서동욱2014', '정진호2011', '유강남2012', '최정2012', '김민식2016', '윤병호2015', '박세혁2017', '정수빈2013', '장영석2015', '김헌곤2018', '정의윤2014', '권희동2014', '박한이2015', '조동화2013', '정현2017', '김태균2013', '정주현2012', '정성훈2008', '장민석2011', '손주인2005', '이택근2015', '박찬도2014', '강민호2011', '이범호2002', '박기혁2004', '김태완2008', '버나디나2018', '이지영2013', '박세혁2016', '전준우2014', '김상수2011', '오재일2014', '박석민2016', '김진곤2015', '이종욱2016', '최주환2013', '홍재호2012', '오지환2013', '정주현2018', '이성열2006', '최진행2017', '이성열2011', '김민식2018', '오재원2015', '나주환2014', '정의윤2006', '정상호2002', '강백호2018', '번즈2018', '김태균2015', '이용규2013', '하준호2016', '허도환2018', '김강민2012', '윤석민2011', '모창민2010', '이재율2016', '최준석2017', '신종길2011', '배영섭2017', '이호신2009', '조동화2016', '도태훈2016', '황재균2014', '김회성2014', '손시헌2004', '주효상2016', '지성준2015', '이성우2017', '김헌곤2014', '손주인2009', '박정권2014', '김강민2011', '오지환2015', '채태인2012', '배영섭2011', '모창민2009', '김강민2010', '윤석민2005', '박건우2014', '주효상2018', '박동원2015', '김재호2015', '최정2016', '박경수2003', '이범호2009', '김재호2013', '김강민2016', '정성훈2010', '이지영2012', '윤정우2011', '박용택2012', '문규현2007', '유재신2014', '김재호2005', '노진혁2013', '지석훈2014', '이용규2005', '박경수2006', '박석민2018', '서동욱2010', '오지환2009', '박승욱2018', '박한이2009', '박건우2015', '정진기2011', '김상수2012', '김하성2016', '최형우2017', '김태완2016', '국해성2017', '박민우2013', '송광민2008', '이진영2006', '정상호2016', '최승준2014', '박기혁2015', '정근우2016', '최정2005', '강민호2015', '최형우2013', '이성열2016', '하주석2017', '이영욱2015', '장성우2010', '이흥련2016', '강민국2016', '이호신2017', '강구성2016', '정진호2012', '최주환2015', '이재원2010', '김하성2018', '김선빈2013', '이범호2005', '이동훈2017', '김현수2013', '이지영2017', '이대형2017', '장민석2016', '최준석2005', '김회성2015', '이성열2017', '김사훈2018', '이진영2015', '이대호2007', '권정웅2018', '이성열2010', '김주형2008', '박경수2018', '김재현2014', '민병헌2015', '서동욱2016', '최형우2004', '최원준2016', '문선재2015', '임훈2017', '고종욱2017', '김태균2008', '손주인2008', '김강민2009', '정근우2006', '최준석2007', '정근우2018', '박민우2014', '채은성2017', '박병호2012', '최진행2009', '박경수2015', '정상호2003', '이범호2014', '김선빈2008', '박찬도2015', '박헌도2018', '조평호2013', '김상수2015', '최주환2012', '도태훈2017', '노수광2016', '박헌도2017', '강한울2018', '최주환2018', '김문호2014', '이동훈2016', '김민식2015', '정성훈2011', '김용의2013', '이인행2015', '한동민2018', '이영욱2011', '박한이2002', '최정2017', '나지완2015', '오지환2017', '장영석2011', '이원석2014', '오정복2018', '오태곤2014', '이영욱2016', '김재율2018', '이택근2014', '이대호2002', '허도환2016', '오재일2010', '박용택2009', '오선진2016', '이용규2011', '이진영2016', '김선빈2010', '조동찬2017', '손주인2012', '황재균2008', '김현수2018', '양성우2018', '나주환2018', '정상호2010', '오태곤2016', '박용택2018', '오선진2010', '정주후2016', '최준석2012', '지성준2018', '조윤준2014', '황재균2009', '이상호2014', '손시헌2014', '박석민2012', '초이스2018', '김재호2009', '손아섭2011', '이범호2012', '정주현2009', '윤병호2017', '오태곤2015', '조동화2006', '허도환2012', '이범호2011', '정성훈2006', '오재원2018', '조평호2015', '배영섭2013', '허도환2017', '강한울2015', '김민성2018', '이진영2005', '이명기2015', '문규현2013', '백창수2018', '박광열2017', '윤진호2012', '이종욱2008', '백창수2016', '강경학2017', '김태완2010', '정성훈2014', '윤진호2016', '이택근2017', '손주인2013', '박석민2017', '최주환2017', '임병욱2018', '지석훈2007', '김주찬2017', '박준태2014', '심우준2018', '최정2015', '이대수2016', '이범호2017', '이범호2016', '조동찬2006', '백용환2016', '정근우2008', '김태완2013', '박한이2011', '정진기2017', '조홍석2013', '오지환2014', '민병헌2006', '손아섭2009', '나주환2017', '김민성2014', '서건창2016', '서동욱2013', '정성훈2009', '나지완2008', '박해민2017', '박정권2018', '문선재2016', '박기혁2008', '박용택2011', '이준호2012', '김상수2014', '최정2006', '손아섭2015', '정성훈2018', '박헌도2015', '구자욱2018', '이천웅2018', '최윤석2010', '정범모2007', '번즈2017', '정범모2014', '장성우2011', '황재균2011', '신본기2018', '박민우2016', '조동찬2004', '오재일2016', '강민호2017', '이대호2010', '이해창2017', '이대형2012', '김주형2013', '김재환2016', '김태균2006', '김태완2014', '장영석2010', '이대수2011', '윤정우2016', '이성열2013', '김민성2013', '김지수2018', '이범호2006', '이원석2005', '이대호2009', '이우성2016', '정상호2007', '유강남2016', '노수광2015', '문규현2010', '임훈2004', '나지완2014', '백상원2013', '문선재2013', '김태완2006', '박경수2008', '손시헌2005', '정범모2013', '이천웅2017', '박병호2010', '서상우2016', '정근우2005', '김사훈2017', '정훈2013', '최형우2015', '민병헌2008', '심우준2015', '김현수2014', '이재원2007', '한동민2013', '정의윤2011', '문선재2014', '박한이2016', '허경민2013', '채태인2015', '김현수2007', '조동찬2012', '박정권2010', '이재원2018', '이대형2007', '이대형2016', '이용규2010', '손아섭2008', '정근우2007', '김태균2017', '나주환2005', '김주형2007', '최주환2016', '정주현2016', '유한준2011', '김헌곤2012', '이대수2015', '이대형2011', '송광민2017', '조동찬2011', '신본기2014', '박지규2018', '최윤석2018', '이대수2006', '최진행2010', '이용규2004', '정의윤2018', '강경학2011', '나성범2015', '이흥련2015', '이정후2018', '고종욱2011', '김현수2009', '김재환2011', '정수빈2009', '김강민2017', '정상호2008', '호잉2018', '이범호2004', '서동욱2004', '정성훈2016', '나주환2015', '채은성2018', '양석환2018', '손시헌2010', '김강민2006', '신종길2014', '최정2010', '민병헌2007', '이성우2009', '김선빈2009', '이용규2016', '문규현2017', '서건창2017', '장민석2013', '김사훈2014', '정진기2018', '김민성2011', '배영섭2016', '김주형2018', '최형우2010', '양의지2018', '황윤호2016', '신성현2018', '박용택2004', '김상수2013', '정근우2014', '백상원2016', '김민하2015', '하준호2017', '오재일2015', '홍재호2017', '이호신2015', '송광민2006', '최준석2015', '김주찬2013', '박병호2014', '이진영2004', '김재호2017', '유재신2009', '정의윤2005', '이범호2003', '전준우2013', '정상호2011', '이택근2009', '백민기2015', '최재훈2016', '송광민2009', '채은성2015', '김회성2009', '유재신2008', '이원석2007', '민병헌2014', '류지혁2017', '최윤석2012', '이영욱2008', '최진행2018', '이성열2008', '박석민2015', '이범호2007', '이종욱2006', '나지완2017', '오정복2016', '지석훈2018', '이영욱2018', '모창민2008', '박한이2007', '문규현2009', '홍재호2018', '윤수강2018', '이대호2006', '김동엽2016', '최윤석2017', '유한준2006', '이명기2013', '문규현2012', '박기혁2017', '김성현2006', '이택근2003', '양성우2017', '김용의2012', '조동화2011', '서동욱2008', '한승택2018', '강한울2017', '허도환2014', '채태인2013', '정훈2015', '이호신2007', '오정복2015', '김동욱2015', '최진행2014', '김성훈2018', '조수행2017', '박준태2015', '나종덕2017', '유재신2018', '손아섭2007', '박동원2018', '정현2018', '정수빈2011', '이진영2013', '양종민2010', '양의지2011', '안치홍2018', '이진영2007', '김태균2009', '권희동2017', '최원제2017', '한동희2018', '김태균2012', '김강민2003', '백용환2018', '김인태2017', '이지영2015', '최윤석2011', '최형우2012', '박정음2017', '정상호2012', '이성열2009', '황재균2018', '채태인2016', '박용택2006', '신종길2015', '정수빈2014', '오재원2017', '조동찬2009', '최주환2014', '박정권2017', '이해창2018', '박정권2007', '김하성2015', '국해성2012', '이성우2008', '장준원2016', '서건창2014', '정성훈2007', '노진혁2018', '손시헌2012', '민병헌2016', '이성열2007', '김강민2018', '윤정우2012', '황재균2012', '최정2008', '고종욱2015', '강민호2007', '김민하2014', '백상원2017', '이상호2013', '김태진2016', '박동원2013', '김동한2013', '송광민2015', '강민호2006', '양종민2009', '박한이2018', '강민국2014', '이용규2007', '김용의2014', '윤석민2012', '강민호2014', '이택근2013', '나지완2016', '이재율2018', '이성열2012', '정의윤2008', '남태혁2018', '김문호2008', '박경수2005', '장영석2009', '강상원2017', '박세혁2012', '신종길2013', '나주환2008', '최재훈2018', '박병호2009', '박용택2017', '김성욱2013', '김주찬2004', '구자욱2016', '이대호2018', '김용의2018', '신종길2004', '이범호2018', '강민호2012', '조홍석2018', '안익훈2016', '조동찬2013', '김문호2013', '하주석2018', '김태균2014', '이대형2005', '안치홍2010', '이대수2010', '이대형2010', '조홍석2015', '김태균2018', '김상호2016', '김태완2009', '유한준2014', '이용규2009', '장영석2018', '김용의2016', '김현수2015', '국해성2015', '김성현2013', '박병호2006', '박용택2005', '나원탁2018', '조동찬2016', '백창수2010', '정병곤2013', '신본기2017', '전준우2018', '고종욱2018', '이성열2015', '이인행2017', '하주석2012', '이재율2017', '신성현2017', '최준석2011', '김문호2012', '스크럭스2018', '정상호2014', '박기혁2006', '김재호2012', '최윤석2016', '조동찬2005', '오지환2018', '손주인2018', '장민석2008', '유강남2018', '최형우2018', '정수빈2012', '도태훈2018', '민병헌2017', '이성우2016', '정근우2012', '이진영2010', '최형우2014', '손아섭2014', '오지환2012', '박건우2017', '김재현2016', '나성범2014', '오재원2014', '안치홍2017', '윤수강2012', '김민수2018', '황윤호2017', '임훈2018', '김강민2007', '김현수2010', '오재일2013', '김선빈2011', '정근우2013', '이준수2012', '김주찬2018', '최정2013', '최정2014', '박광열2016', '손시헌2015', '이종욱2010', '양의지2012', '조동화2007', '박경수2017', '노진혁2014', '나주환2004', '강민호2005', '조동찬2003', '김지수2010', '정의윤2015', '이성우2010', '김상수2018', '최준석2016', '허경민2018', '박민우2015', '권희동2013', '이준수2018', '신성현2016', '이준호2013', '이택근2006', '김재호2008', '정훈2018', '최정2007', '이용규2006', '서동욱2012', '홍재호2013', '허경민2017', '심우준2016', '김주형2004', '황재균2013', '서건창2012', '이대형2009', '박정권2011', '박석민2014', '이진영2012', '나지완2018', '정주현2013', '김문호2007', '지석훈2015', '오선진2009', '김재호2018', '김재호2010', '정진기2012', '강한울2014', '최재훈2012', '오선진2008', '박한이2014', '손시헌2009', '신종길2012', '박병호2018', '허경민2015', '이원석2017', '김주찬2015', '오선진2012', '이원석2018', '최항2018', '정근우2011', '김성현2014', '김동욱2013', '유한준2017', '이해창2016', '박동원2016', '박기혁2016', '이천웅2016', '김주형2005', '김성현2011', '국해성2016', '이형종2017', '임훈2015', '김재율2015', '박정권2004', '김민성2010', '박한이2010', '이택근2010', '최영진2013', '오재원2016', '정성훈2013', '오선진2013', '나지완2013', '최재훈2015', '정근우2010', '지석훈2006', '이원석2008', '오재원2011', '조평호2017', '김하성2017', '손시헌2017', '손시헌2011', '최원준2018', '이대호2008', '정상호2017', '손주인2010', '김사훈2013', '이택근2008', '김성욱2018', '박석민2008', '박한이2006', '박정권2013', '나성범2018', '이영욱2010', '강승호2016', '신본기2012', '이원석2010', '손주인2014', '안익훈2015', '김태균2002', '신종길2003', '김헌곤2011', '장진혁2018', '유민상2018', '정진호2017', '정훈2016', '송광민2010', '채은성2014', '정상호2018', '장승현2018', '박병호2013', '장성우2009', '배정대2016', '나원탁2017', '박정권2009', '채태인2018', '정진호2018', '이성우2018', '김주찬2010', '박경수2011', '이종욱2018', '이대수2013', '이성열2018', '이흥련2014', '구자욱2017', '조평호2016', '손시헌2013', '허경민2014', '윤석민2018', '김민성2015', '김태균2007', '서동욱2017', '나종덕2018', '양종민2014', '김강민2014', '윤석민2017', '유재신2016', '박승욱2013', '최승준2018', '이원석2006', '김태균2005', '이종욱2009', '홍재호2011', '김헌곤2017', '임훈2013', '박용택2014', '모창민2017', '최윤석2013', '이명기2010', '김민식2017', '김강민2005', '오지환2010', '문규현2011', '박동원2014', '김태연2018', '백상원2014', '지석훈2013', '김민성2007', '김강민2013', '김재환2018', '장민석2010', '박기혁2005', '박민우2018', '이범호2008', '남태혁2017', '조윤준2012', '이재원2014', '정수빈2016', '양의지2014', '김주찬2016', '김동한2018', '김재호2004', '박세혁2018', '이성우2011', '김용의2008', '이원석2011', '이택근2007', '이종욱2007', '박해민2015', '양의지2017', '문규현2016', '박해민2018', '최승준2016', '이용규2008', '임병욱2015', '최영진2014', '김동욱2017', '강민호2008', '손주인2015', '이대호2017', '김용의2015', '이성열2014', '김주찬2014', '박용택2002', '한동민2014', '오선진2017', '송광민2018', '최형우2009', '김문호2011', '나주환2010', '가르시아2018', '박기혁2009', '조홍석2014', '김선빈2018', '김재호2011', '김재호2016', '이종욱2012', '오재원2010', '김문호2018', '홍성갑2016', '오재원2009', '이대형2014', '김동엽2017', '황진수2014', '정훈2012', '나경민2017', '김현수2012', '김민성2016', '오재원2008', '박한이2012', '이지영2016', '최영진2018', '김주형2014', '김강민2004', '박용택2013', '배영섭2012', '이재원2006', '박석민2010', '조동찬2018', '윤진호2015', '박석민2011', '이용규2014', '이대수2014', '채태인2010', '서건창2015', '이상호2018', '양의지2015', '장성우2014', '손시헌2006', '전준우2009', '이대수2007', '최형우2002', '서동욱2005', '엄태용2014', '이대수2012', '송민섭2015']\n"
          ],
          "name": "stdout"
        }
      ]
    },
    {
      "cell_type": "code",
      "metadata": {
        "colab": {
          "base_uri": "https://localhost:8080/"
        },
        "id": "AOhixRU9dtcV",
        "outputId": "6f0948db-44b6-4084-acd5-d794857ee7c2"
      },
      "source": [
        "len(intersection_idx) # 값이 강사님과 다름"
      ],
      "execution_count": 74,
      "outputs": [
        {
          "output_type": "execute_result",
          "data": {
            "text/plain": [
              "1358"
            ]
          },
          "metadata": {
            "tags": []
          },
          "execution_count": 74
        }
      ]
    },
    {
      "cell_type": "code",
      "metadata": {
        "id": "61-Cq_UOeFCF"
      },
      "source": [
        ""
      ],
      "execution_count": 74,
      "outputs": []
    },
    {
      "cell_type": "markdown",
      "metadata": {
        "id": "iisOHySheJtl"
      },
      "source": [
        "![image.png](data:image/png;base64,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)"
      ]
    },
    {
      "cell_type": "code",
      "metadata": {
        "colab": {
          "base_uri": "https://localhost:8080/"
        },
        "id": "eoOEd4iceknK",
        "outputId": "28509497-5f8f-45dc-b0b4-453005a191ef"
      },
      "source": [
        "def x_3(x):\n",
        "    y = x + 3\n",
        "    return y\n",
        "\n",
        "x_3(1)"
      ],
      "execution_count": 75,
      "outputs": [
        {
          "output_type": "execute_result",
          "data": {
            "text/plain": [
              "4"
            ]
          },
          "metadata": {
            "tags": []
          },
          "execution_count": 75
        }
      ]
    },
    {
      "cell_type": "code",
      "metadata": {
        "colab": {
          "base_uri": "https://localhost:8080/"
        },
        "id": "X6vRDbdFeqeW",
        "outputId": "bf203521-38f4-4524-e6f7-1c782e13465c"
      },
      "source": [
        "#람다식을 앞으로 많이 이용할 것임\n",
        "\n",
        "x = 0\n",
        "(lambda x : x + 3)(1)\n"
      ],
      "execution_count": 76,
      "outputs": [
        {
          "output_type": "execute_result",
          "data": {
            "text/plain": [
              "4"
            ]
          },
          "metadata": {
            "tags": []
          },
          "execution_count": 76
        }
      ]
    },
    {
      "cell_type": "code",
      "metadata": {
        "id": "jY4BnByKexLE"
      },
      "source": [
        "regular_season_new = regular_season_df.loc[regular_season_df['new_idx'].\n",
        "                                           apply(lambda x : x in intersection_idx)]\n",
        "\n",
        "# loc?\n",
        "#regular_season_df['new_idx'].\\apply(lamda) x : x in intersection_idx\n",
        "\n",
        "\n",
        "#참과 거짓을 출력할 것임\n",
        "#포함이 되어있으면 참을 안되어있으면 거짓을 뜨게할 것임"
      ],
      "execution_count": 77,
      "outputs": []
    },
    {
      "cell_type": "code",
      "metadata": {
        "colab": {
          "base_uri": "https://localhost:8080/"
        },
        "id": "WOHoGkjVfWYj",
        "outputId": "7aaeb341-c70a-41a5-bee0-031cf625a83c"
      },
      "source": [
        "regular_season_df['new_idx'].apply(lambda x : x in intersection_idx)[-10:]"
      ],
      "execution_count": 78,
      "outputs": [
        {
          "output_type": "execute_result",
          "data": {
            "text/plain": [
              "2444     True\n",
              "2445    False\n",
              "2446    False\n",
              "2447    False\n",
              "2448    False\n",
              "2449     True\n",
              "2450    False\n",
              "2451    False\n",
              "2452    False\n",
              "2453    False\n",
              "Name: new_idx, dtype: bool"
            ]
          },
          "metadata": {
            "tags": []
          },
          "execution_count": 78
        }
      ]
    },
    {
      "cell_type": "code",
      "metadata": {
        "colab": {
          "base_uri": "https://localhost:8080/",
          "height": 315
        },
        "id": "GZMMAdEtgNwE",
        "outputId": "da3de236-820b-4bdd-fec7-12e441125957"
      },
      "source": [
        "regular_season_new[-2:]"
      ],
      "execution_count": 79,
      "outputs": [
        {
          "output_type": "execute_result",
          "data": {
            "text/html": [
              "<div>\n",
              "<style scoped>\n",
              "    .dataframe tbody tr th:only-of-type {\n",
              "        vertical-align: middle;\n",
              "    }\n",
              "\n",
              "    .dataframe tbody tr th {\n",
              "        vertical-align: top;\n",
              "    }\n",
              "\n",
              "    .dataframe thead th {\n",
              "        text-align: right;\n",
              "    }\n",
              "</style>\n",
              "<table border=\"1\" class=\"dataframe\">\n",
              "  <thead>\n",
              "    <tr style=\"text-align: right;\">\n",
              "      <th></th>\n",
              "      <th>batter_id</th>\n",
              "      <th>batter_name</th>\n",
              "      <th>year</th>\n",
              "      <th>team</th>\n",
              "      <th>avg</th>\n",
              "      <th>G</th>\n",
              "      <th>AB</th>\n",
              "      <th>R</th>\n",
              "      <th>H</th>\n",
              "      <th>2B</th>\n",
              "      <th>3B</th>\n",
              "      <th>HR</th>\n",
              "      <th>TB</th>\n",
              "      <th>RBI</th>\n",
              "      <th>SB</th>\n",
              "      <th>CS</th>\n",
              "      <th>BB</th>\n",
              "      <th>HBP</th>\n",
              "      <th>SO</th>\n",
              "      <th>GDP</th>\n",
              "      <th>SLG</th>\n",
              "      <th>OBP</th>\n",
              "      <th>E</th>\n",
              "      <th>height/weight</th>\n",
              "      <th>year_born</th>\n",
              "      <th>position</th>\n",
              "      <th>career</th>\n",
              "      <th>starting_salary</th>\n",
              "      <th>OPS</th>\n",
              "      <th>new_idx</th>\n",
              "    </tr>\n",
              "  </thead>\n",
              "  <tbody>\n",
              "    <tr>\n",
              "      <th>2444</th>\n",
              "      <td>342</td>\n",
              "      <td>황재균</td>\n",
              "      <td>2018</td>\n",
              "      <td>KT</td>\n",
              "      <td>0.296</td>\n",
              "      <td>142</td>\n",
              "      <td>530</td>\n",
              "      <td>76</td>\n",
              "      <td>157</td>\n",
              "      <td>41</td>\n",
              "      <td>3</td>\n",
              "      <td>25</td>\n",
              "      <td>279</td>\n",
              "      <td>88</td>\n",
              "      <td>14</td>\n",
              "      <td>7</td>\n",
              "      <td>49</td>\n",
              "      <td>4</td>\n",
              "      <td>120</td>\n",
              "      <td>5</td>\n",
              "      <td>0.526</td>\n",
              "      <td>0.358</td>\n",
              "      <td>17</td>\n",
              "      <td>183cm/96kg</td>\n",
              "      <td>1987년 07월 28일</td>\n",
              "      <td>내야수(우투우타)</td>\n",
              "      <td>사당초-이수중-경기고-현대-우리-히어로즈-넥센-롯데-샌프란시스코</td>\n",
              "      <td>6000만원</td>\n",
              "      <td>0.884</td>\n",
              "      <td>황재균2018</td>\n",
              "    </tr>\n",
              "    <tr>\n",
              "      <th>2449</th>\n",
              "      <td>344</td>\n",
              "      <td>황진수</td>\n",
              "      <td>2014</td>\n",
              "      <td>롯데</td>\n",
              "      <td>0.000</td>\n",
              "      <td>5</td>\n",
              "      <td>5</td>\n",
              "      <td>0</td>\n",
              "      <td>0</td>\n",
              "      <td>0</td>\n",
              "      <td>0</td>\n",
              "      <td>0</td>\n",
              "      <td>0</td>\n",
              "      <td>0</td>\n",
              "      <td>0</td>\n",
              "      <td>0</td>\n",
              "      <td>0</td>\n",
              "      <td>0</td>\n",
              "      <td>1</td>\n",
              "      <td>0</td>\n",
              "      <td>0.000</td>\n",
              "      <td>0.000</td>\n",
              "      <td>0</td>\n",
              "      <td>181cm/82kg</td>\n",
              "      <td>1989년 02월 15일</td>\n",
              "      <td>내야수(우투양타)</td>\n",
              "      <td>석천초-대헌중-공주고</td>\n",
              "      <td>4000만원</td>\n",
              "      <td>0.000</td>\n",
              "      <td>황진수2014</td>\n",
              "    </tr>\n",
              "  </tbody>\n",
              "</table>\n",
              "</div>"
            ],
            "text/plain": [
              "      batter_id batter_name  year  ... starting_salary    OPS  new_idx\n",
              "2444        342         황재균  2018  ...          6000만원  0.884  황재균2018\n",
              "2449        344         황진수  2014  ...          4000만원  0.000  황진수2014\n",
              "\n",
              "[2 rows x 30 columns]"
            ]
          },
          "metadata": {
            "tags": []
          },
          "execution_count": 79
        }
      ]
    },
    {
      "cell_type": "code",
      "metadata": {
        "colab": {
          "base_uri": "https://localhost:8080/",
          "height": 1000
        },
        "id": "gFoj-MZ9gS2N",
        "outputId": "5ef182ea-b17e-4e7b-e838-07b54d24be11"
      },
      "source": [
        "regular_season_new[5:15]"
      ],
      "execution_count": 80,
      "outputs": [
        {
          "output_type": "execute_result",
          "data": {
            "text/html": [
              "<div>\n",
              "<style scoped>\n",
              "    .dataframe tbody tr th:only-of-type {\n",
              "        vertical-align: middle;\n",
              "    }\n",
              "\n",
              "    .dataframe tbody tr th {\n",
              "        vertical-align: top;\n",
              "    }\n",
              "\n",
              "    .dataframe thead th {\n",
              "        text-align: right;\n",
              "    }\n",
              "</style>\n",
              "<table border=\"1\" class=\"dataframe\">\n",
              "  <thead>\n",
              "    <tr style=\"text-align: right;\">\n",
              "      <th></th>\n",
              "      <th>batter_id</th>\n",
              "      <th>batter_name</th>\n",
              "      <th>year</th>\n",
              "      <th>team</th>\n",
              "      <th>avg</th>\n",
              "      <th>G</th>\n",
              "      <th>AB</th>\n",
              "      <th>R</th>\n",
              "      <th>H</th>\n",
              "      <th>2B</th>\n",
              "      <th>3B</th>\n",
              "      <th>HR</th>\n",
              "      <th>TB</th>\n",
              "      <th>RBI</th>\n",
              "      <th>SB</th>\n",
              "      <th>CS</th>\n",
              "      <th>BB</th>\n",
              "      <th>HBP</th>\n",
              "      <th>SO</th>\n",
              "      <th>GDP</th>\n",
              "      <th>SLG</th>\n",
              "      <th>OBP</th>\n",
              "      <th>E</th>\n",
              "      <th>height/weight</th>\n",
              "      <th>year_born</th>\n",
              "      <th>position</th>\n",
              "      <th>career</th>\n",
              "      <th>starting_salary</th>\n",
              "      <th>OPS</th>\n",
              "      <th>new_idx</th>\n",
              "    </tr>\n",
              "  </thead>\n",
              "  <tbody>\n",
              "    <tr>\n",
              "      <th>5</th>\n",
              "      <td>1</td>\n",
              "      <td>강경학</td>\n",
              "      <td>2017</td>\n",
              "      <td>한화</td>\n",
              "      <td>0.214</td>\n",
              "      <td>59</td>\n",
              "      <td>84</td>\n",
              "      <td>17</td>\n",
              "      <td>18</td>\n",
              "      <td>2</td>\n",
              "      <td>1</td>\n",
              "      <td>0</td>\n",
              "      <td>22</td>\n",
              "      <td>4</td>\n",
              "      <td>1</td>\n",
              "      <td>1</td>\n",
              "      <td>8</td>\n",
              "      <td>1</td>\n",
              "      <td>19</td>\n",
              "      <td>1</td>\n",
              "      <td>0.262</td>\n",
              "      <td>0.290</td>\n",
              "      <td>4</td>\n",
              "      <td>180cm/72kg</td>\n",
              "      <td>1992년 08월 11일</td>\n",
              "      <td>내야수(우투좌타)</td>\n",
              "      <td>광주대성초-광주동성중-광주동성고</td>\n",
              "      <td>10000만원</td>\n",
              "      <td>0.552</td>\n",
              "      <td>강경학2017</td>\n",
              "    </tr>\n",
              "    <tr>\n",
              "      <th>7</th>\n",
              "      <td>2</td>\n",
              "      <td>강구성</td>\n",
              "      <td>2013</td>\n",
              "      <td>NC</td>\n",
              "      <td>0.000</td>\n",
              "      <td>2</td>\n",
              "      <td>2</td>\n",
              "      <td>0</td>\n",
              "      <td>0</td>\n",
              "      <td>0</td>\n",
              "      <td>0</td>\n",
              "      <td>0</td>\n",
              "      <td>0</td>\n",
              "      <td>0</td>\n",
              "      <td>0</td>\n",
              "      <td>0</td>\n",
              "      <td>0</td>\n",
              "      <td>0</td>\n",
              "      <td>0</td>\n",
              "      <td>0</td>\n",
              "      <td>0.000</td>\n",
              "      <td>0.000</td>\n",
              "      <td>0</td>\n",
              "      <td>180cm/82kg</td>\n",
              "      <td>1993년 06월 09일</td>\n",
              "      <td>외야수(우투좌타)</td>\n",
              "      <td>관산초-부천중-야탑고-NC-상무</td>\n",
              "      <td>9000만원</td>\n",
              "      <td>0.000</td>\n",
              "      <td>강구성2013</td>\n",
              "    </tr>\n",
              "    <tr>\n",
              "      <th>9</th>\n",
              "      <td>2</td>\n",
              "      <td>강구성</td>\n",
              "      <td>2016</td>\n",
              "      <td>NC</td>\n",
              "      <td>0.000</td>\n",
              "      <td>2</td>\n",
              "      <td>3</td>\n",
              "      <td>0</td>\n",
              "      <td>0</td>\n",
              "      <td>0</td>\n",
              "      <td>0</td>\n",
              "      <td>0</td>\n",
              "      <td>0</td>\n",
              "      <td>0</td>\n",
              "      <td>0</td>\n",
              "      <td>0</td>\n",
              "      <td>0</td>\n",
              "      <td>0</td>\n",
              "      <td>1</td>\n",
              "      <td>0</td>\n",
              "      <td>0.000</td>\n",
              "      <td>0.000</td>\n",
              "      <td>0</td>\n",
              "      <td>180cm/82kg</td>\n",
              "      <td>1993년 06월 09일</td>\n",
              "      <td>외야수(우투좌타)</td>\n",
              "      <td>관산초-부천중-야탑고-NC-상무</td>\n",
              "      <td>9000만원</td>\n",
              "      <td>0.000</td>\n",
              "      <td>강구성2016</td>\n",
              "    </tr>\n",
              "    <tr>\n",
              "      <th>10</th>\n",
              "      <td>2</td>\n",
              "      <td>강구성</td>\n",
              "      <td>2017</td>\n",
              "      <td>NC</td>\n",
              "      <td>0.000</td>\n",
              "      <td>1</td>\n",
              "      <td>1</td>\n",
              "      <td>0</td>\n",
              "      <td>0</td>\n",
              "      <td>0</td>\n",
              "      <td>0</td>\n",
              "      <td>0</td>\n",
              "      <td>0</td>\n",
              "      <td>0</td>\n",
              "      <td>0</td>\n",
              "      <td>0</td>\n",
              "      <td>0</td>\n",
              "      <td>0</td>\n",
              "      <td>1</td>\n",
              "      <td>0</td>\n",
              "      <td>0.000</td>\n",
              "      <td>0.000</td>\n",
              "      <td>0</td>\n",
              "      <td>180cm/82kg</td>\n",
              "      <td>1993년 06월 09일</td>\n",
              "      <td>외야수(우투좌타)</td>\n",
              "      <td>관산초-부천중-야탑고-NC-상무</td>\n",
              "      <td>9000만원</td>\n",
              "      <td>0.000</td>\n",
              "      <td>강구성2017</td>\n",
              "    </tr>\n",
              "    <tr>\n",
              "      <th>38</th>\n",
              "      <td>3</td>\n",
              "      <td>강민국</td>\n",
              "      <td>2014</td>\n",
              "      <td>NC</td>\n",
              "      <td>0.000</td>\n",
              "      <td>6</td>\n",
              "      <td>3</td>\n",
              "      <td>0</td>\n",
              "      <td>0</td>\n",
              "      <td>0</td>\n",
              "      <td>0</td>\n",
              "      <td>0</td>\n",
              "      <td>0</td>\n",
              "      <td>0</td>\n",
              "      <td>0</td>\n",
              "      <td>0</td>\n",
              "      <td>0</td>\n",
              "      <td>0</td>\n",
              "      <td>0</td>\n",
              "      <td>0</td>\n",
              "      <td>0.000</td>\n",
              "      <td>0.000</td>\n",
              "      <td>2</td>\n",
              "      <td>176cm/80kg</td>\n",
              "      <td>1992년 01월 10일</td>\n",
              "      <td>내야수(우투우타)</td>\n",
              "      <td>송정동초-충장중-광주제일고-동국대-NC-상무</td>\n",
              "      <td>20000만원</td>\n",
              "      <td>0.000</td>\n",
              "      <td>강민국2014</td>\n",
              "    </tr>\n",
              "    <tr>\n",
              "      <th>39</th>\n",
              "      <td>3</td>\n",
              "      <td>강민국</td>\n",
              "      <td>2015</td>\n",
              "      <td>NC</td>\n",
              "      <td>0.000</td>\n",
              "      <td>1</td>\n",
              "      <td>2</td>\n",
              "      <td>0</td>\n",
              "      <td>0</td>\n",
              "      <td>0</td>\n",
              "      <td>0</td>\n",
              "      <td>0</td>\n",
              "      <td>0</td>\n",
              "      <td>0</td>\n",
              "      <td>0</td>\n",
              "      <td>0</td>\n",
              "      <td>0</td>\n",
              "      <td>0</td>\n",
              "      <td>1</td>\n",
              "      <td>0</td>\n",
              "      <td>0.000</td>\n",
              "      <td>0.000</td>\n",
              "      <td>0</td>\n",
              "      <td>176cm/80kg</td>\n",
              "      <td>1992년 01월 10일</td>\n",
              "      <td>내야수(우투우타)</td>\n",
              "      <td>송정동초-충장중-광주제일고-동국대-NC-상무</td>\n",
              "      <td>20000만원</td>\n",
              "      <td>0.000</td>\n",
              "      <td>강민국2015</td>\n",
              "    </tr>\n",
              "    <tr>\n",
              "      <th>40</th>\n",
              "      <td>3</td>\n",
              "      <td>강민국</td>\n",
              "      <td>2016</td>\n",
              "      <td>NC</td>\n",
              "      <td>0.130</td>\n",
              "      <td>24</td>\n",
              "      <td>23</td>\n",
              "      <td>2</td>\n",
              "      <td>3</td>\n",
              "      <td>1</td>\n",
              "      <td>0</td>\n",
              "      <td>1</td>\n",
              "      <td>7</td>\n",
              "      <td>1</td>\n",
              "      <td>0</td>\n",
              "      <td>0</td>\n",
              "      <td>2</td>\n",
              "      <td>0</td>\n",
              "      <td>9</td>\n",
              "      <td>1</td>\n",
              "      <td>0.304</td>\n",
              "      <td>0.200</td>\n",
              "      <td>4</td>\n",
              "      <td>176cm/80kg</td>\n",
              "      <td>1992년 01월 10일</td>\n",
              "      <td>내야수(우투우타)</td>\n",
              "      <td>송정동초-충장중-광주제일고-동국대-NC-상무</td>\n",
              "      <td>20000만원</td>\n",
              "      <td>0.504</td>\n",
              "      <td>강민국2016</td>\n",
              "    </tr>\n",
              "    <tr>\n",
              "      <th>43</th>\n",
              "      <td>4</td>\n",
              "      <td>강민호</td>\n",
              "      <td>2005</td>\n",
              "      <td>롯데</td>\n",
              "      <td>0.243</td>\n",
              "      <td>104</td>\n",
              "      <td>214</td>\n",
              "      <td>20</td>\n",
              "      <td>52</td>\n",
              "      <td>11</td>\n",
              "      <td>2</td>\n",
              "      <td>2</td>\n",
              "      <td>73</td>\n",
              "      <td>18</td>\n",
              "      <td>1</td>\n",
              "      <td>4</td>\n",
              "      <td>5</td>\n",
              "      <td>2</td>\n",
              "      <td>56</td>\n",
              "      <td>7</td>\n",
              "      <td>0.341</td>\n",
              "      <td>0.267</td>\n",
              "      <td>9</td>\n",
              "      <td>185cm/100kg</td>\n",
              "      <td>1985년 08월 18일</td>\n",
              "      <td>포수(우투우타)</td>\n",
              "      <td>제주신광초-포철중-포철공고-(국제디지털대)-롯데</td>\n",
              "      <td>9000만원</td>\n",
              "      <td>0.608</td>\n",
              "      <td>강민호2005</td>\n",
              "    </tr>\n",
              "    <tr>\n",
              "      <th>44</th>\n",
              "      <td>4</td>\n",
              "      <td>강민호</td>\n",
              "      <td>2006</td>\n",
              "      <td>롯데</td>\n",
              "      <td>0.251</td>\n",
              "      <td>126</td>\n",
              "      <td>410</td>\n",
              "      <td>40</td>\n",
              "      <td>103</td>\n",
              "      <td>20</td>\n",
              "      <td>0</td>\n",
              "      <td>9</td>\n",
              "      <td>150</td>\n",
              "      <td>53</td>\n",
              "      <td>4</td>\n",
              "      <td>1</td>\n",
              "      <td>23</td>\n",
              "      <td>11</td>\n",
              "      <td>78</td>\n",
              "      <td>5</td>\n",
              "      <td>0.366</td>\n",
              "      <td>0.307</td>\n",
              "      <td>12</td>\n",
              "      <td>185cm/100kg</td>\n",
              "      <td>1985년 08월 18일</td>\n",
              "      <td>포수(우투우타)</td>\n",
              "      <td>제주신광초-포철중-포철공고-(국제디지털대)-롯데</td>\n",
              "      <td>9000만원</td>\n",
              "      <td>0.673</td>\n",
              "      <td>강민호2006</td>\n",
              "    </tr>\n",
              "    <tr>\n",
              "      <th>45</th>\n",
              "      <td>4</td>\n",
              "      <td>강민호</td>\n",
              "      <td>2007</td>\n",
              "      <td>롯데</td>\n",
              "      <td>0.271</td>\n",
              "      <td>125</td>\n",
              "      <td>413</td>\n",
              "      <td>48</td>\n",
              "      <td>112</td>\n",
              "      <td>20</td>\n",
              "      <td>0</td>\n",
              "      <td>14</td>\n",
              "      <td>174</td>\n",
              "      <td>68</td>\n",
              "      <td>1</td>\n",
              "      <td>4</td>\n",
              "      <td>37</td>\n",
              "      <td>4</td>\n",
              "      <td>88</td>\n",
              "      <td>10</td>\n",
              "      <td>0.421</td>\n",
              "      <td>0.335</td>\n",
              "      <td>11</td>\n",
              "      <td>185cm/100kg</td>\n",
              "      <td>1985년 08월 18일</td>\n",
              "      <td>포수(우투우타)</td>\n",
              "      <td>제주신광초-포철중-포철공고-(국제디지털대)-롯데</td>\n",
              "      <td>9000만원</td>\n",
              "      <td>0.756</td>\n",
              "      <td>강민호2007</td>\n",
              "    </tr>\n",
              "  </tbody>\n",
              "</table>\n",
              "</div>"
            ],
            "text/plain": [
              "    batter_id batter_name  year  ... starting_salary    OPS  new_idx\n",
              "5           1         강경학  2017  ...         10000만원  0.552  강경학2017\n",
              "7           2         강구성  2013  ...          9000만원  0.000  강구성2013\n",
              "9           2         강구성  2016  ...          9000만원  0.000  강구성2016\n",
              "10          2         강구성  2017  ...          9000만원  0.000  강구성2017\n",
              "38          3         강민국  2014  ...         20000만원  0.000  강민국2014\n",
              "39          3         강민국  2015  ...         20000만원  0.000  강민국2015\n",
              "40          3         강민국  2016  ...         20000만원  0.504  강민국2016\n",
              "43          4         강민호  2005  ...          9000만원  0.608  강민호2005\n",
              "44          4         강민호  2006  ...          9000만원  0.673  강민호2006\n",
              "45          4         강민호  2007  ...          9000만원  0.756  강민호2007\n",
              "\n",
              "[10 rows x 30 columns]"
            ]
          },
          "metadata": {
            "tags": []
          },
          "execution_count": 80
        }
      ]
    },
    {
      "cell_type": "code",
      "metadata": {
        "id": "iu5OYeaSgUQk"
      },
      "source": [
        "regular_season_new = regular_season_new.sort_values(by='new_idx').reset_index(drop = True)\n",
        "\n",
        "#true 값이 아니라 false 값을 쓰게 되면 index가 생성되는 것을 막을 수 있음\n",
        "#이게 전처리의 과정이라함"
      ],
      "execution_count": 81,
      "outputs": []
    },
    {
      "cell_type": "code",
      "metadata": {
        "id": "mdsauGrQg6qQ"
      },
      "source": [
        ""
      ],
      "execution_count": 81,
      "outputs": []
    },
    {
      "cell_type": "code",
      "metadata": {
        "colab": {
          "base_uri": "https://localhost:8080/",
          "height": 1000
        },
        "id": "HzjNgWvsgg12",
        "outputId": "076771f7-31a5-4118-dc74-6397c50e369e"
      },
      "source": [
        "regular_season_new[5:15]"
      ],
      "execution_count": 82,
      "outputs": [
        {
          "output_type": "execute_result",
          "data": {
            "text/html": [
              "<div>\n",
              "<style scoped>\n",
              "    .dataframe tbody tr th:only-of-type {\n",
              "        vertical-align: middle;\n",
              "    }\n",
              "\n",
              "    .dataframe tbody tr th {\n",
              "        vertical-align: top;\n",
              "    }\n",
              "\n",
              "    .dataframe thead th {\n",
              "        text-align: right;\n",
              "    }\n",
              "</style>\n",
              "<table border=\"1\" class=\"dataframe\">\n",
              "  <thead>\n",
              "    <tr style=\"text-align: right;\">\n",
              "      <th></th>\n",
              "      <th>batter_id</th>\n",
              "      <th>batter_name</th>\n",
              "      <th>year</th>\n",
              "      <th>team</th>\n",
              "      <th>avg</th>\n",
              "      <th>G</th>\n",
              "      <th>AB</th>\n",
              "      <th>R</th>\n",
              "      <th>H</th>\n",
              "      <th>2B</th>\n",
              "      <th>3B</th>\n",
              "      <th>HR</th>\n",
              "      <th>TB</th>\n",
              "      <th>RBI</th>\n",
              "      <th>SB</th>\n",
              "      <th>CS</th>\n",
              "      <th>BB</th>\n",
              "      <th>HBP</th>\n",
              "      <th>SO</th>\n",
              "      <th>GDP</th>\n",
              "      <th>SLG</th>\n",
              "      <th>OBP</th>\n",
              "      <th>E</th>\n",
              "      <th>height/weight</th>\n",
              "      <th>year_born</th>\n",
              "      <th>position</th>\n",
              "      <th>career</th>\n",
              "      <th>starting_salary</th>\n",
              "      <th>OPS</th>\n",
              "      <th>new_idx</th>\n",
              "    </tr>\n",
              "  </thead>\n",
              "  <tbody>\n",
              "    <tr>\n",
              "      <th>5</th>\n",
              "      <td>1</td>\n",
              "      <td>강경학</td>\n",
              "      <td>2017</td>\n",
              "      <td>한화</td>\n",
              "      <td>0.214</td>\n",
              "      <td>59</td>\n",
              "      <td>84</td>\n",
              "      <td>17</td>\n",
              "      <td>18</td>\n",
              "      <td>2</td>\n",
              "      <td>1</td>\n",
              "      <td>0</td>\n",
              "      <td>22</td>\n",
              "      <td>4</td>\n",
              "      <td>1</td>\n",
              "      <td>1</td>\n",
              "      <td>8</td>\n",
              "      <td>1</td>\n",
              "      <td>19</td>\n",
              "      <td>1</td>\n",
              "      <td>0.262</td>\n",
              "      <td>0.290</td>\n",
              "      <td>4</td>\n",
              "      <td>180cm/72kg</td>\n",
              "      <td>1992년 08월 11일</td>\n",
              "      <td>내야수(우투좌타)</td>\n",
              "      <td>광주대성초-광주동성중-광주동성고</td>\n",
              "      <td>10000만원</td>\n",
              "      <td>0.552</td>\n",
              "      <td>강경학2017</td>\n",
              "    </tr>\n",
              "    <tr>\n",
              "      <th>6</th>\n",
              "      <td>2</td>\n",
              "      <td>강구성</td>\n",
              "      <td>2013</td>\n",
              "      <td>NC</td>\n",
              "      <td>0.000</td>\n",
              "      <td>2</td>\n",
              "      <td>2</td>\n",
              "      <td>0</td>\n",
              "      <td>0</td>\n",
              "      <td>0</td>\n",
              "      <td>0</td>\n",
              "      <td>0</td>\n",
              "      <td>0</td>\n",
              "      <td>0</td>\n",
              "      <td>0</td>\n",
              "      <td>0</td>\n",
              "      <td>0</td>\n",
              "      <td>0</td>\n",
              "      <td>0</td>\n",
              "      <td>0</td>\n",
              "      <td>0.000</td>\n",
              "      <td>0.000</td>\n",
              "      <td>0</td>\n",
              "      <td>180cm/82kg</td>\n",
              "      <td>1993년 06월 09일</td>\n",
              "      <td>외야수(우투좌타)</td>\n",
              "      <td>관산초-부천중-야탑고-NC-상무</td>\n",
              "      <td>9000만원</td>\n",
              "      <td>0.000</td>\n",
              "      <td>강구성2013</td>\n",
              "    </tr>\n",
              "    <tr>\n",
              "      <th>7</th>\n",
              "      <td>2</td>\n",
              "      <td>강구성</td>\n",
              "      <td>2016</td>\n",
              "      <td>NC</td>\n",
              "      <td>0.000</td>\n",
              "      <td>2</td>\n",
              "      <td>3</td>\n",
              "      <td>0</td>\n",
              "      <td>0</td>\n",
              "      <td>0</td>\n",
              "      <td>0</td>\n",
              "      <td>0</td>\n",
              "      <td>0</td>\n",
              "      <td>0</td>\n",
              "      <td>0</td>\n",
              "      <td>0</td>\n",
              "      <td>0</td>\n",
              "      <td>0</td>\n",
              "      <td>1</td>\n",
              "      <td>0</td>\n",
              "      <td>0.000</td>\n",
              "      <td>0.000</td>\n",
              "      <td>0</td>\n",
              "      <td>180cm/82kg</td>\n",
              "      <td>1993년 06월 09일</td>\n",
              "      <td>외야수(우투좌타)</td>\n",
              "      <td>관산초-부천중-야탑고-NC-상무</td>\n",
              "      <td>9000만원</td>\n",
              "      <td>0.000</td>\n",
              "      <td>강구성2016</td>\n",
              "    </tr>\n",
              "    <tr>\n",
              "      <th>8</th>\n",
              "      <td>2</td>\n",
              "      <td>강구성</td>\n",
              "      <td>2017</td>\n",
              "      <td>NC</td>\n",
              "      <td>0.000</td>\n",
              "      <td>1</td>\n",
              "      <td>1</td>\n",
              "      <td>0</td>\n",
              "      <td>0</td>\n",
              "      <td>0</td>\n",
              "      <td>0</td>\n",
              "      <td>0</td>\n",
              "      <td>0</td>\n",
              "      <td>0</td>\n",
              "      <td>0</td>\n",
              "      <td>0</td>\n",
              "      <td>0</td>\n",
              "      <td>0</td>\n",
              "      <td>1</td>\n",
              "      <td>0</td>\n",
              "      <td>0.000</td>\n",
              "      <td>0.000</td>\n",
              "      <td>0</td>\n",
              "      <td>180cm/82kg</td>\n",
              "      <td>1993년 06월 09일</td>\n",
              "      <td>외야수(우투좌타)</td>\n",
              "      <td>관산초-부천중-야탑고-NC-상무</td>\n",
              "      <td>9000만원</td>\n",
              "      <td>0.000</td>\n",
              "      <td>강구성2017</td>\n",
              "    </tr>\n",
              "    <tr>\n",
              "      <th>9</th>\n",
              "      <td>3</td>\n",
              "      <td>강민국</td>\n",
              "      <td>2014</td>\n",
              "      <td>NC</td>\n",
              "      <td>0.000</td>\n",
              "      <td>6</td>\n",
              "      <td>3</td>\n",
              "      <td>0</td>\n",
              "      <td>0</td>\n",
              "      <td>0</td>\n",
              "      <td>0</td>\n",
              "      <td>0</td>\n",
              "      <td>0</td>\n",
              "      <td>0</td>\n",
              "      <td>0</td>\n",
              "      <td>0</td>\n",
              "      <td>0</td>\n",
              "      <td>0</td>\n",
              "      <td>0</td>\n",
              "      <td>0</td>\n",
              "      <td>0.000</td>\n",
              "      <td>0.000</td>\n",
              "      <td>2</td>\n",
              "      <td>176cm/80kg</td>\n",
              "      <td>1992년 01월 10일</td>\n",
              "      <td>내야수(우투우타)</td>\n",
              "      <td>송정동초-충장중-광주제일고-동국대-NC-상무</td>\n",
              "      <td>20000만원</td>\n",
              "      <td>0.000</td>\n",
              "      <td>강민국2014</td>\n",
              "    </tr>\n",
              "    <tr>\n",
              "      <th>10</th>\n",
              "      <td>3</td>\n",
              "      <td>강민국</td>\n",
              "      <td>2015</td>\n",
              "      <td>NC</td>\n",
              "      <td>0.000</td>\n",
              "      <td>1</td>\n",
              "      <td>2</td>\n",
              "      <td>0</td>\n",
              "      <td>0</td>\n",
              "      <td>0</td>\n",
              "      <td>0</td>\n",
              "      <td>0</td>\n",
              "      <td>0</td>\n",
              "      <td>0</td>\n",
              "      <td>0</td>\n",
              "      <td>0</td>\n",
              "      <td>0</td>\n",
              "      <td>0</td>\n",
              "      <td>1</td>\n",
              "      <td>0</td>\n",
              "      <td>0.000</td>\n",
              "      <td>0.000</td>\n",
              "      <td>0</td>\n",
              "      <td>176cm/80kg</td>\n",
              "      <td>1992년 01월 10일</td>\n",
              "      <td>내야수(우투우타)</td>\n",
              "      <td>송정동초-충장중-광주제일고-동국대-NC-상무</td>\n",
              "      <td>20000만원</td>\n",
              "      <td>0.000</td>\n",
              "      <td>강민국2015</td>\n",
              "    </tr>\n",
              "    <tr>\n",
              "      <th>11</th>\n",
              "      <td>3</td>\n",
              "      <td>강민국</td>\n",
              "      <td>2016</td>\n",
              "      <td>NC</td>\n",
              "      <td>0.130</td>\n",
              "      <td>24</td>\n",
              "      <td>23</td>\n",
              "      <td>2</td>\n",
              "      <td>3</td>\n",
              "      <td>1</td>\n",
              "      <td>0</td>\n",
              "      <td>1</td>\n",
              "      <td>7</td>\n",
              "      <td>1</td>\n",
              "      <td>0</td>\n",
              "      <td>0</td>\n",
              "      <td>2</td>\n",
              "      <td>0</td>\n",
              "      <td>9</td>\n",
              "      <td>1</td>\n",
              "      <td>0.304</td>\n",
              "      <td>0.200</td>\n",
              "      <td>4</td>\n",
              "      <td>176cm/80kg</td>\n",
              "      <td>1992년 01월 10일</td>\n",
              "      <td>내야수(우투우타)</td>\n",
              "      <td>송정동초-충장중-광주제일고-동국대-NC-상무</td>\n",
              "      <td>20000만원</td>\n",
              "      <td>0.504</td>\n",
              "      <td>강민국2016</td>\n",
              "    </tr>\n",
              "    <tr>\n",
              "      <th>12</th>\n",
              "      <td>4</td>\n",
              "      <td>강민호</td>\n",
              "      <td>2005</td>\n",
              "      <td>롯데</td>\n",
              "      <td>0.243</td>\n",
              "      <td>104</td>\n",
              "      <td>214</td>\n",
              "      <td>20</td>\n",
              "      <td>52</td>\n",
              "      <td>11</td>\n",
              "      <td>2</td>\n",
              "      <td>2</td>\n",
              "      <td>73</td>\n",
              "      <td>18</td>\n",
              "      <td>1</td>\n",
              "      <td>4</td>\n",
              "      <td>5</td>\n",
              "      <td>2</td>\n",
              "      <td>56</td>\n",
              "      <td>7</td>\n",
              "      <td>0.341</td>\n",
              "      <td>0.267</td>\n",
              "      <td>9</td>\n",
              "      <td>185cm/100kg</td>\n",
              "      <td>1985년 08월 18일</td>\n",
              "      <td>포수(우투우타)</td>\n",
              "      <td>제주신광초-포철중-포철공고-(국제디지털대)-롯데</td>\n",
              "      <td>9000만원</td>\n",
              "      <td>0.608</td>\n",
              "      <td>강민호2005</td>\n",
              "    </tr>\n",
              "    <tr>\n",
              "      <th>13</th>\n",
              "      <td>4</td>\n",
              "      <td>강민호</td>\n",
              "      <td>2006</td>\n",
              "      <td>롯데</td>\n",
              "      <td>0.251</td>\n",
              "      <td>126</td>\n",
              "      <td>410</td>\n",
              "      <td>40</td>\n",
              "      <td>103</td>\n",
              "      <td>20</td>\n",
              "      <td>0</td>\n",
              "      <td>9</td>\n",
              "      <td>150</td>\n",
              "      <td>53</td>\n",
              "      <td>4</td>\n",
              "      <td>1</td>\n",
              "      <td>23</td>\n",
              "      <td>11</td>\n",
              "      <td>78</td>\n",
              "      <td>5</td>\n",
              "      <td>0.366</td>\n",
              "      <td>0.307</td>\n",
              "      <td>12</td>\n",
              "      <td>185cm/100kg</td>\n",
              "      <td>1985년 08월 18일</td>\n",
              "      <td>포수(우투우타)</td>\n",
              "      <td>제주신광초-포철중-포철공고-(국제디지털대)-롯데</td>\n",
              "      <td>9000만원</td>\n",
              "      <td>0.673</td>\n",
              "      <td>강민호2006</td>\n",
              "    </tr>\n",
              "    <tr>\n",
              "      <th>14</th>\n",
              "      <td>4</td>\n",
              "      <td>강민호</td>\n",
              "      <td>2007</td>\n",
              "      <td>롯데</td>\n",
              "      <td>0.271</td>\n",
              "      <td>125</td>\n",
              "      <td>413</td>\n",
              "      <td>48</td>\n",
              "      <td>112</td>\n",
              "      <td>20</td>\n",
              "      <td>0</td>\n",
              "      <td>14</td>\n",
              "      <td>174</td>\n",
              "      <td>68</td>\n",
              "      <td>1</td>\n",
              "      <td>4</td>\n",
              "      <td>37</td>\n",
              "      <td>4</td>\n",
              "      <td>88</td>\n",
              "      <td>10</td>\n",
              "      <td>0.421</td>\n",
              "      <td>0.335</td>\n",
              "      <td>11</td>\n",
              "      <td>185cm/100kg</td>\n",
              "      <td>1985년 08월 18일</td>\n",
              "      <td>포수(우투우타)</td>\n",
              "      <td>제주신광초-포철중-포철공고-(국제디지털대)-롯데</td>\n",
              "      <td>9000만원</td>\n",
              "      <td>0.756</td>\n",
              "      <td>강민호2007</td>\n",
              "    </tr>\n",
              "  </tbody>\n",
              "</table>\n",
              "</div>"
            ],
            "text/plain": [
              "    batter_id batter_name  year  ... starting_salary    OPS  new_idx\n",
              "5           1         강경학  2017  ...         10000만원  0.552  강경학2017\n",
              "6           2         강구성  2013  ...          9000만원  0.000  강구성2013\n",
              "7           2         강구성  2016  ...          9000만원  0.000  강구성2016\n",
              "8           2         강구성  2017  ...          9000만원  0.000  강구성2017\n",
              "9           3         강민국  2014  ...         20000만원  0.000  강민국2014\n",
              "10          3         강민국  2015  ...         20000만원  0.000  강민국2015\n",
              "11          3         강민국  2016  ...         20000만원  0.504  강민국2016\n",
              "12          4         강민호  2005  ...          9000만원  0.608  강민호2005\n",
              "13          4         강민호  2006  ...          9000만원  0.673  강민호2006\n",
              "14          4         강민호  2007  ...          9000만원  0.756  강민호2007\n",
              "\n",
              "[10 rows x 30 columns]"
            ]
          },
          "metadata": {
            "tags": []
          },
          "execution_count": 82
        }
      ]
    },
    {
      "cell_type": "code",
      "metadata": {
        "colab": {
          "base_uri": "https://localhost:8080/"
        },
        "id": "7WXl5aXEgjY7",
        "outputId": "304ab5b5-d8c1-424c-bebf-3d0216409c2d"
      },
      "source": [
        "print(regular_season_new.shape, preseason_df.shape)"
      ],
      "execution_count": 83,
      "outputs": [
        {
          "output_type": "stream",
          "text": [
            "(1358, 30) (1393, 30)\n"
          ],
          "name": "stdout"
        }
      ]
    },
    {
      "cell_type": "code",
      "metadata": {
        "id": "s9lOsl13hGhN"
      },
      "source": [
        "####################################################################################################\n",
        "preseason_new = preseason_df.loc[preseason_df['new_idx'].apply(lambda x: x in intersection_idx)]\n",
        "preseason_new = preseason_new.sort_values(by = 'new_idx').reset_index(drop=True)\n",
        "####################################################################################################"
      ],
      "execution_count": 84,
      "outputs": []
    },
    {
      "cell_type": "code",
      "metadata": {
        "colab": {
          "base_uri": "https://localhost:8080/"
        },
        "id": "Ovr00SF3lXms",
        "outputId": "c040c639-c537-49c2-dc65-73d1c37ca7d8"
      },
      "source": [
        "print(regular_season_new.shape, preseason_df.shape)"
      ],
      "execution_count": 85,
      "outputs": [
        {
          "output_type": "stream",
          "text": [
            "(1358, 30) (1393, 30)\n"
          ],
          "name": "stdout"
        }
      ]
    },
    {
      "cell_type": "code",
      "metadata": {
        "colab": {
          "base_uri": "https://localhost:8080/",
          "height": 621
        },
        "id": "QTvd3nQ0lYuD",
        "outputId": "cfe0cd46-5e24-47e9-cff2-6d4b5382cab3"
      },
      "source": [
        "import matplotlib.pyplot as plt\n",
        "\n",
        "plt.figure(figsize=(6,10))\n",
        "plt.plot(regular_season_new['OPS'], 'o', color = 'orange')\n",
        "plt.title(\"regular_season_new['OPS']\")\n",
        "plt.xlabel('index')\n",
        "plt.ylabel('OPS')\n",
        "plt.grid()\n",
        "plt.show()"
      ],
      "execution_count": 86,
      "outputs": [
        {
          "output_type": "display_data",
          "data": {
            "image/png": "[encoded data removed]",
            "text/plain": [
              "<Figure size 432x720 with 1 Axes>"
            ]
          },
          "metadata": {
            "tags": [],
            "needs_background": "light"
          }
        }
      ]
    },
    {
      "cell_type": "code",
      "metadata": {
        "id": "lEyKnaWgmFRa"
      },
      "source": [
        "corr = regular_season_new['OPS'].corr(preseason_new['OPS'])"
      ],
      "execution_count": 88,
      "outputs": []
    },
    {
      "cell_type": "markdown",
      "metadata": {
        "id": "rTHjjaCKncHi"
      },
      "source": [
        ""
      ]
    },
    {
      "cell_type": "code",
      "metadata": {
        "id": "7dgitaTVmlx3"
      },
      "source": [
        "import seaborn as sns\n",
        "import numpy as np"
      ],
      "execution_count": 89,
      "outputs": []
    },
    {
      "cell_type": "code",
      "metadata": {
        "colab": {
          "base_uri": "https://localhost:8080/",
          "height": 315
        },
        "id": "QcxovDj8mtOw",
        "outputId": "0d0bd28b-f691-44e9-b3f0-a14e09f6d8e1"
      },
      "source": [
        "sns.regplot(x = regular_season_new['OPS'],\n",
        "            y = preseason_new['OPS'],\n",
        "            fit_reg = True,\n",
        "            color = 'green')\n",
        "plt.title(\"Corr : {}\".format(np.round(corr,3)),\n",
        "          fontsize = 30)\n",
        "plt.xlabel(\"regular_season_ops\", fontsize = 15)\n",
        "plt.ylabel(\"preaseason_new_ops\", fontsize = 15)\n",
        "\n",
        "plt.grid()\n",
        "plt.show()"
      ],
      "execution_count": 90,
      "outputs": [
        {
          "output_type": "display_data",
          "data": {
            "image/png": "[encoded data removed]",
            "text/plain": [
              "<Figure size 432x288 with 1 Axes>"
            ]
          },
          "metadata": {
            "tags": [],
            "needs_background": "light"
          }
        }
      ]
    },
    {
      "cell_type": "code",
      "metadata": {
        "id": "dpmUleK_nFbc"
      },
      "source": [
        ""
      ],
      "execution_count": null,
      "outputs": []
    },
    {
      "cell_type": "markdown",
      "metadata": {
        "id": "YUL531Zznx9j"
      },
      "source": [
        ""
      ]
    }
  ]
}