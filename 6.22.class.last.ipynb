{
 "cells": [
  {
   "cell_type": "code",
   "execution_count": null,
   "id": "49c2e694-4a02-4ab2-b968-364da31645cc",
   "metadata": {},
   "outputs": [],
   "source": [
    "class AttackUnit:\n",
    "    def __init__(self, name, hp, damage):\n",
    "        self.name = name\n",
    "        self.hp = hp\n",
    "        self.damage = damage\n",
    "        \n",
    "    def attack(self, location):\n",
    "        self.location = location #왜 로케이션은 이렇게 만들면 안될까?"
   ]
  },
  {
   "cell_type": "code",
   "execution_count": null,
   "id": "1a68d7c5-b970-4f08-a845-765ebe736903",
   "metadata": {},
   "outputs": [],
   "source": [
    "#7예외처리, TRY, EXCEPT"
   ]
  },
  {
   "cell_type": "markdown",
   "id": "b4ca6cbd-bac0-44b8-aa13-1752c17fbfd3",
   "metadata": {},
   "source": [
    "try except는 에러가 나와도 돌아가게 구동하는 것"
   ]
  },
  {
   "cell_type": "code",
   "execution_count": null,
   "id": "8f2e45bc-4ebf-4664-8ffd-615549c3b491",
   "metadata": {},
   "outputs": [
    {
     "name": "stdout",
     "output_type": "stream",
     "text": [
      "나눗셈 전용 계산기 입니다.\n"
     ]
    }
   ],
   "source": [
    "try:\n",
    "    print(\"나눗셈 전용 계산기 입니다.\")\n",
    "    num1 = float(input(\"첫 번째 값을 입력해줘요\"))\n",
    "    num2 = float(input(\"두 번째 값을 입력해줘요\"))\n",
    "    print(\"{}/{} = {}\".format(num11, num2, int(num1/num2)))\n",
    "except ValueError as val_e:\n",
    "    print('='*100)\n",
    "    print('손님 문자는 곤란해요~')\n",
    "    print('='*100)\n",
    "except Exception as all_e:\n",
    "    print(\"하.... 또 에러네요\")\n",
    "    print(\"에러코드\", type(all_e))\n",
    "    print(all_e)\n",
    "except ZeroDivisionError as zero_e:\n",
    "    print('='*100)\n",
    "    print('손님 0으로 나누시면 곤란해요~')\n",
    "    print('='*100)"
   ]
  },
  {
   "cell_type": "raw",
   "id": "e579ea71-c60d-4316-8cb5-5dceb5bc4393",
   "metadata": {},
   "source": [
    "#3.1.6 / beer 0.0.2"
   ]
  },
  {
   "cell_type": "code",
   "execution_count": 6,
   "id": "b776f09e-9da8-4d3f-8825-8dc0f68d0be7",
   "metadata": {},
   "outputs": [
    {
     "name": "stdout",
     "output_type": "stream",
     "text": [
      "★☆★☆★☆★☆★☆★☆\n",
      "The calculator of bread\n",
      "★☆★☆★☆★☆★☆★☆\n"
     ]
    },
    {
     "name": "stdin",
     "output_type": "stream",
     "text": [
      "How much do you have?($) ㅁㄴ\n"
     ]
    },
    {
     "ename": "ValueError",
     "evalue": "invalid literal for int() with base 10: 'ㅁㄴ'",
     "output_type": "error",
     "traceback": [
      "\u001b[1;31m---------------------------------------------------------------------------\u001b[0m",
      "\u001b[1;31mValueError\u001b[0m                                Traceback (most recent call last)",
      "\u001b[1;32m<ipython-input-6-7cdce9543657>\u001b[0m in \u001b[0;36m<module>\u001b[1;34m\u001b[0m\n\u001b[0;32m      4\u001b[0m \u001b[0mprint\u001b[0m\u001b[1;33m(\u001b[0m\u001b[1;34m'The calculator of bread'\u001b[0m\u001b[1;33m)\u001b[0m\u001b[1;33m\u001b[0m\u001b[1;33m\u001b[0m\u001b[0m\n\u001b[0;32m      5\u001b[0m \u001b[0mprint\u001b[0m\u001b[1;33m(\u001b[0m\u001b[1;34m'★☆'\u001b[0m\u001b[1;33m*\u001b[0m\u001b[1;36m6\u001b[0m\u001b[1;33m)\u001b[0m\u001b[1;33m\u001b[0m\u001b[1;33m\u001b[0m\u001b[0m\n\u001b[1;32m----> 6\u001b[1;33m \u001b[0mmoney\u001b[0m \u001b[1;33m=\u001b[0m \u001b[0mint\u001b[0m\u001b[1;33m(\u001b[0m\u001b[0minput\u001b[0m\u001b[1;33m(\u001b[0m\u001b[1;34m'How much do you have?($)'\u001b[0m\u001b[1;33m)\u001b[0m\u001b[1;33m)\u001b[0m\u001b[1;33m\u001b[0m\u001b[1;33m\u001b[0m\u001b[0m\n\u001b[0m\u001b[0;32m      7\u001b[0m \u001b[1;31m#프린트 안했는데 구동되는 이유가 궁금함\u001b[0m\u001b[1;33m\u001b[0m\u001b[1;33m\u001b[0m\u001b[1;33m\u001b[0m\u001b[0m\n\u001b[0;32m      8\u001b[0m \u001b[0mbread_c\u001b[0m \u001b[1;33m=\u001b[0m \u001b[0mint\u001b[0m\u001b[1;33m(\u001b[0m\u001b[0mmoney\u001b[0m\u001b[1;33m/\u001b[0m\u001b[1;36m15\u001b[0m\u001b[1;33m)\u001b[0m\u001b[1;33m\u001b[0m\u001b[1;33m\u001b[0m\u001b[0m\n",
      "\u001b[1;31mValueError\u001b[0m: invalid literal for int() with base 10: 'ㅁㄴ'"
     ]
    }
   ],
   "source": [
    "#try:\n",
    "\n",
    "print('★☆'*6)\n",
    "print('The calculator of bread')\n",
    "print('★☆'*6)\n",
    "money = int(input('How much do you have?($)'))\n",
    "#프린트 안했는데 구동되는 이유가 궁금함\n",
    "bread_c = int(money/15)\n",
    "print('Now Bread Price 15$')\n",
    "if bread_c <= 0:\n",
    "    print(\"That's too bad\")\n",
    "    print(\"Bread is next time...\")\n",
    "elif bread_c < 2:\n",
    "    print('You can eat {} piece of bread.'.format(bread_c))\n",
    "else:\n",
    "    print('You can eat {} pieces of bread.'.format(bread_c))"
   ]
  },
  {
   "cell_type": "code",
   "execution_count": null,
   "id": "1db7d40a-7736-4f2b-9260-23eb4ce61409",
   "metadata": {},
   "outputs": [],
   "source": []
  },
  {
   "cell_type": "code",
   "execution_count": 4,
   "id": "beb43fa0-2efe-4e06-bd65-24fb69c89ffb",
   "metadata": {},
   "outputs": [
    {
     "name": "stdout",
     "output_type": "stream",
     "text": [
      "★☆★☆★☆★☆★☆★☆\n",
      "The calculator of bread\n",
      "★☆★☆★☆★☆★☆★☆\n"
     ]
    },
    {
     "name": "stdin",
     "output_type": "stream",
     "text": [
      "How much do you have?($) dm\n"
     ]
    },
    {
     "name": "stdout",
     "output_type": "stream",
     "text": [
      "=======================================\n",
      "Sorry, The program has stopped working.\n",
      "===  Contact number : 010-1234-5678  ====\n",
      "ERROR CODE :  invalid literal for int() with base 10: 'dm'\n",
      "=======================================\n"
     ]
    }
   ],
   "source": [
    "try:\n",
    "\n",
    "    print('★☆'*6)\n",
    "    print('The calculator of bread')\n",
    "    print('★☆'*6)\n",
    "    money = int(input('How much do you have?($)'))\n",
    "    #프린트 안했는데 구동되는 이유가 궁금함\n",
    "    bread_c = int(money/15)\n",
    "    print('Now Bread Price 15$')\n",
    "    if bread_c <= 0:\n",
    "        print(\"That's too bad\")\n",
    "        print(\"Bread is next time...\")\n",
    "    elif bread_c < 2:\n",
    "        print('You can eat {} piece of bread.'.format(bread_c))\n",
    "    else:\n",
    "        print('You can eat {} pieces of bread.'.format(bread_c))\n",
    "        \n",
    "except NameError:\n",
    "    print('='*39)\n",
    "    print('Sorry, The program has stopped working.')\n",
    "    print('='*3, ' Contact number : 010-1234-5678 ', '='*4)\n",
    "    print('ERROR CODE : ', (NameError))\n",
    "    print('='*39)\n",
    "except Exception as all_e:\n",
    "    print('='*39)\n",
    "    print('Sorry, The program has stopped working.')\n",
    "    print('='*3, ' Contact number : 010-1234-5678 ', '='*4)\n",
    "    print('ERROR CODE : ', (all_e))\n",
    "    print('='*39)"
   ]
  },
  {
   "cell_type": "code",
   "execution_count": 2,
   "id": "e488601c-3378-4db8-8401-5512d91a64e6",
   "metadata": {},
   "outputs": [
    {
     "name": "stdout",
     "output_type": "stream",
     "text": [
      "good\n"
     ]
    }
   ],
   "source": [
    "game_2 = {\"pc\":[\"good\",\"bad\"],}\n",
    "print(game_2[\"pc\"][0])"
   ]
  },
  {
   "cell_type": "code",
   "execution_count": 17,
   "id": "b668438d-4434-4925-b7d2-6bc0f27a7ac7",
   "metadata": {},
   "outputs": [
    {
     "name": "stdout",
     "output_type": "stream",
     "text": [
      "['good', 'bad']\n",
      "home\n"
     ]
    }
   ],
   "source": [
    "game_2 = {\"pc\":[\"good\",\"bad\"],'home' :['loss', 'win']}\n",
    "row = list(game_2.keys())\n",
    "print(game_2[\"pc\"][0:])\n",
    "print(row[1])"
   ]
  },
  {
   "cell_type": "code",
   "execution_count": 9,
   "id": "57411990-9d81-474c-b1be-4c1a5e8f3992",
   "metadata": {},
   "outputs": [],
   "source": [
    "#raise = 일부러 에러를 불러 일으키는 방식"
   ]
  },
  {
   "cell_type": "code",
   "execution_count": 17,
   "id": "bfad7493-35bb-4e03-8b82-de3bbe7b7307",
   "metadata": {},
   "outputs": [
    {
     "name": "stdout",
     "output_type": "stream",
     "text": [
      "인공지능 모델 0.0.1_V\n",
      "====================\n"
     ]
    },
    {
     "name": "stdin",
     "output_type": "stream",
     "text": [
      "학습률을 입력하세요.(※ 4이하의 값으로 설정하세요.) qwd\n"
     ]
    },
    {
     "name": "stdout",
     "output_type": "stream",
     "text": [
      "죄송합니다. 하이퍼파라미터값을 체크해주세요.\n",
      "※ <class 'ValueError'>\n"
     ]
    }
   ],
   "source": [
    "import time\n",
    "try:\n",
    "    print(\"인공지능 모델 0.0.1_V\")\n",
    "    print(\"====================\")\n",
    "    num1 = float(input(\"학습률을 입력하세요.(※ 4이하의 값으로 설정하세요.)\"))\n",
    "    num2 = int(input(\"학습 횟수를 결정하여 주세요.(※ 10이하의 값으로 설정하세요.)\"))\n",
    "    if num1 >=4 or num2 >=10:\n",
    "        raise ValueError\n",
    "    print('학습 알고리즘을 동작 시키겠습니다.')\n",
    "    for i in range(num2):\n",
    "        time.sleep(0.5)\n",
    "        print(\"Epoch - {0} 1r - {1}\".format(i,num1))#왜 1r?\n",
    "        \n",
    "    print(\"학습이 모두 완료되었습니다.\")\n",
    "    \n",
    "except ValueError as val_e:\n",
    "    print('죄송합니다. 하이퍼파라미터값을 체크해주세요.')\n",
    "    print('※', type(val_e))"
   ]
  },
  {
   "cell_type": "code",
   "execution_count": null,
   "id": "212f95a5-6c08-4e51-b3b6-b31f08359ea8",
   "metadata": {},
   "outputs": [],
   "source": [
    "#finally - 우리가 원하는 코드를 무조건 실행시켜주는 코드다!"
   ]
  },
  {
   "cell_type": "code",
   "execution_count": 20,
   "id": "20a8c95a-c62d-48c8-b81e-3543745c9c49",
   "metadata": {},
   "outputs": [
    {
     "name": "stdout",
     "output_type": "stream",
     "text": [
      "인공지능 모델 0.0.1_V\n",
      "====================\n"
     ]
    },
    {
     "name": "stdin",
     "output_type": "stream",
     "text": [
      "학습률을 입력하세요.(※ 4이하의 값으로 설정하세요.) 1\n"
     ]
    },
    {
     "name": "stdout",
     "output_type": "stream",
     "text": [
      "학습 알고리즘을 동작 시키겠습니다.\n",
      "Epoch - 0 1r - 1.0\n",
      "Epoch - 1 1r - 1.0\n",
      "Epoch - 2 1r - 1.0\n",
      "Epoch - 3 1r - 1.0\n",
      "Epoch - 4 1r - 1.0\n",
      "Epoch - 5 1r - 1.0\n",
      "Epoch - 6 1r - 1.0\n",
      "Epoch - 7 1r - 1.0\n",
      "Epoch - 8 1r - 1.0\n",
      "학습이 모두 완료되었습니다.\n",
      "이용해주셔서 감사합니다.\n"
     ]
    }
   ],
   "source": [
    "import time\n",
    "try:\n",
    "    print(\"인공지능 모델 0.0.1_V\")\n",
    "    print(\"====================\")\n",
    "    num1 = float(input(\"학습률을 입력하세요.(※ 4이하의 값으로 설정하세요.)\"))\n",
    "    num2 = int(input(\"학습 횟수를 결정하여 주세요.(※ 10이하의 값으로 설정하세요.)\"))\n",
    "    if num1 >=4 or num2 >=10:\n",
    "        raise ValueError\n",
    "    print('학습 알고리즘을 동작 시키겠습니다.')\n",
    "    for i in range(num2):\n",
    "        time.sleep(0.5)\n",
    "        print(\"Epoch - {0} 1r - {1}\".format(i,num1))#왜 1r?\n",
    "        \n",
    "    print(\"학습이 모두 완료되었습니다.\")\n",
    "    \n",
    "except ValueError as val_e:\n",
    "    print('죄송합니다. 하이퍼파라미터값을 체크해주세요.')\n",
    "    print('※', type(val_e))\n",
    "    \n",
    "finally:\n",
    "    print(\"이용해주셔서 감사합니다.\")"
   ]
  },
  {
   "cell_type": "code",
   "execution_count": null,
   "id": "a507b1ca-44c4-45b6-9c6b-0a0f0907b997",
   "metadata": {},
   "outputs": [],
   "source": [
    "#재연습\n",
    "\n",
    "try:\n",
    "\n",
    "    print('★☆'*6)\n",
    "    print('The calculator of bread')\n",
    "    print('★☆'*6)\n",
    "    money = int(input(''))"
   ]
  }
 ],
 "metadata": {
  "kernelspec": {
   "display_name": "Python 3",
   "language": "python",
   "name": "python3"
  },
  "language_info": {
   "codemirror_mode": {
    "name": "ipython",
    "version": 3
   },
   "file_extension": ".py",
   "mimetype": "text/x-python",
   "name": "python",
   "nbconvert_exporter": "python",
   "pygments_lexer": "ipython3",
   "version": "3.8.10"
  }
 },
 "nbformat": 4,
 "nbformat_minor": 5
}
