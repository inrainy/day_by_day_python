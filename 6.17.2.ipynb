{
 "cells": [
  {
   "cell_type": "code",
   "execution_count": 1,
   "id": "c8672f30-d9c7-4508-aba1-452f883ae3f8",
   "metadata": {},
   "outputs": [],
   "source": [
    "###2.1.4"
   ]
  },
  {
   "cell_type": "code",
   "execution_count": null,
   "id": "6cb48ae2-0595-49f9-8f92-2a64946887bb",
   "metadata": {},
   "outputs": [],
   "source": [
    "#튜플의 내용을 변경해줄때에는, 리스트로 변환해서 변경제거, 새로 만드는 것 아님"
   ]
  },
  {
   "cell_type": "code",
   "execution_count": 8,
   "id": "424b4d26-3c13-4867-bb8a-733f98976bbd",
   "metadata": {},
   "outputs": [
    {
     "ename": "SyntaxError",
     "evalue": "unexpected EOF while parsing (<ipython-input-8-e947e35626fc>, line 12)",
     "output_type": "error",
     "traceback": [
      "\u001b[1;36m  File \u001b[1;32m\"<ipython-input-8-e947e35626fc>\"\u001b[1;36m, line \u001b[1;32m12\u001b[0m\n\u001b[1;33m    ]\u001b[0m\n\u001b[1;37m     ^\u001b[0m\n\u001b[1;31mSyntaxError\u001b[0m\u001b[1;31m:\u001b[0m unexpected EOF while parsing\n"
     ]
    }
   ],
   "source": [
    "import numpy as np\n",
    "import tensorflow as tf\n",
    "\n",
    "x = np.array([[1,1], [1,0], [0,1], [0,0]])\n",
    "y = np.array([[0],[1],[1],[0]])\n",
    "\n",
    "model = tf.keras.Sequential([\n",
    "    tf.keras.layers.Dense(units=2, activation='elu', input_shape = (2,)),\n",
    "    tf.keras.layers.Dense(units=5, activation='elu'),\n",
    "    tf.keras.layers.Dense(units=7, activation='elu'),\n",
    "    tf.keras.layers.Dense(units=1, activation='sigmoid'),\n",
    "]\n",
    "    \n",
    "      \n",
    "    ###input_shape은 입력값을 알려달라 해서 = ()튜플 형식으로 넣어주고\n",
    "    ###(2,)이렇게 컴마 하나 찍어준거임\n",
    "    ###일단 가벼히 진행해봣다심 튜플 설명이니 넘어가자"
   ]
  },
  {
   "cell_type": "code",
   "execution_count": 7,
   "id": "80c90638-f1bc-4e07-82d8-e0b26f664483",
   "metadata": {},
   "outputs": [
    {
     "ename": "NameError",
     "evalue": "name 'np' is not defined",
     "output_type": "error",
     "traceback": [
      "\u001b[1;31m---------------------------------------------------------------------------\u001b[0m",
      "\u001b[1;31mNameError\u001b[0m                                 Traceback (most recent call last)",
      "\u001b[1;32m<ipython-input-7-27a0796cbebf>\u001b[0m in \u001b[0;36m<module>\u001b[1;34m\u001b[0m\n\u001b[1;32m----> 1\u001b[1;33m \u001b[0mx_row\u001b[0m \u001b[1;33m=\u001b[0m \u001b[0mnp\u001b[0m\u001b[1;33m.\u001b[0m\u001b[0marray\u001b[0m\u001b[1;33m(\u001b[0m\u001b[1;33m[\u001b[0m\u001b[1;33m[\u001b[0m\u001b[1;36m1\u001b[0m\u001b[1;33m,\u001b[0m\u001b[1;36m1\u001b[0m\u001b[1;33m]\u001b[0m\u001b[1;33m,\u001b[0m \u001b[1;33m[\u001b[0m\u001b[1;36m1\u001b[0m\u001b[1;33m,\u001b[0m\u001b[1;36m0\u001b[0m\u001b[1;33m]\u001b[0m\u001b[1;33m,\u001b[0m \u001b[1;33m[\u001b[0m\u001b[1;36m0\u001b[0m\u001b[1;33m,\u001b[0m\u001b[1;36m1\u001b[0m\u001b[1;33m]\u001b[0m\u001b[1;33m,\u001b[0m \u001b[1;33m[\u001b[0m\u001b[1;36m0\u001b[0m\u001b[1;33m,\u001b[0m\u001b[1;36m0\u001b[0m\u001b[1;33m]\u001b[0m\u001b[1;33m]\u001b[0m\u001b[1;33m)\u001b[0m\u001b[1;33m\u001b[0m\u001b[1;33m\u001b[0m\u001b[0m\n\u001b[0m\u001b[0;32m      2\u001b[0m \u001b[0mprint\u001b[0m\u001b[1;33m(\u001b[0m\u001b[0mnp\u001b[0m\u001b[1;33m.\u001b[0m\u001b[0mshape\u001b[0m\u001b[1;33m(\u001b[0m\u001b[0mx_row\u001b[0m\u001b[1;33m)\u001b[0m\u001b[1;33m)\u001b[0m\u001b[1;33m\u001b[0m\u001b[1;33m\u001b[0m\u001b[0m\n",
      "\u001b[1;31mNameError\u001b[0m: name 'np' is not defined"
     ]
    }
   ],
   "source": [
    "x_row = np.array([[1,1], [1,0], [0,1], [0,0]])\n",
    "print(np.shape(x_row))"
   ]
  },
  {
   "cell_type": "code",
   "execution_count": 13,
   "id": "fb5a00bc-ef6d-42dd-a3b2-e192c064de42",
   "metadata": {},
   "outputs": [],
   "source": [
    "###위에거 뭐가 잘못되었는지\n",
    "import numpy as np\n",
    "import tensorflow as tf\n",
    "\n",
    "x = np.array([[1,1], [1,0], [0,1], [0,0]])\n",
    "y = np.array([[0],[1],[1],[0]])\n",
    "\n",
    "model = tf.keras.Sequential([\n",
    "    tf.keras.layers.Dense(units=2, activation='elu', input_shape = (2,)),\n",
    "    tf.keras.layers.Dense(units=5, activation='elu'),\n",
    "    tf.keras.layers.Dense(units=7, activation='elu'),\n",
    "    tf.keras.layers.Dense(units=1, activation='sigmoid')\n",
    "])"
   ]
  },
  {
   "cell_type": "code",
   "execution_count": 14,
   "id": "429e1191-2e0a-4427-bf64-e88c94fc8d7e",
   "metadata": {},
   "outputs": [
    {
     "name": "stdout",
     "output_type": "stream",
     "text": [
      "(4, 2)\n"
     ]
    }
   ],
   "source": [
    "x_row = np.array([[1,1], [1,0], [0,1], [0,0]])\n",
    "print(np.shape(x_row))"
   ]
  },
  {
   "cell_type": "code",
   "execution_count": null,
   "id": "b7566b57-4dd6-44a3-9465-db711dda475d",
   "metadata": {},
   "outputs": [],
   "source": []
  }
 ],
 "metadata": {
  "kernelspec": {
   "display_name": "Python 3",
   "language": "python",
   "name": "python3"
  },
  "language_info": {
   "codemirror_mode": {
    "name": "ipython",
    "version": 3
   },
   "file_extension": ".py",
   "mimetype": "text/x-python",
   "name": "python",
   "nbconvert_exporter": "python",
   "pygments_lexer": "ipython3",
   "version": "3.8.10"
  }
 },
 "nbformat": 4,
 "nbformat_minor": 5
}
