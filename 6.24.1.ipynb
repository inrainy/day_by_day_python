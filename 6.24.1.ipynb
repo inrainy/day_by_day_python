{
 "cells": [
  {
   "cell_type": "code",
   "execution_count": 1,
   "id": "ba99318d-3d49-4a9f-b9fc-04326a66a733",
   "metadata": {},
   "outputs": [
    {
     "name": "stdout",
     "output_type": "stream",
     "text": [
      "2.5.0\n"
     ]
    }
   ],
   "source": [
    "import tensorflow as tf\n",
    "print(tf.__version__)"
   ]
  },
  {
   "cell_type": "code",
   "execution_count": 27,
   "id": "c99fbfda-12db-4e66-8755-74f44e8e0a71",
   "metadata": {},
   "outputs": [],
   "source": [
    "import numpy as np"
   ]
  },
  {
   "cell_type": "code",
   "execution_count": 28,
   "id": "4bff7310-6bd3-4186-84e8-bcd73a74684c",
   "metadata": {},
   "outputs": [
    {
     "name": "stdout",
     "output_type": "stream",
     "text": [
      "60000 10000\n"
     ]
    }
   ],
   "source": [
    "fashion_mnist = tf.keras.datasets.fashion_mnist\n",
    "(train_X, train_Y), (test_X,test_Y) = fashion_mnist.load_data()\n",
    "#학습데이터에 대한 독립과 종속, 테스트데이터 대한 독립과 종속이 얘네가 저장한 함수 데이터 형식이라 만들어 줘야함\n",
    "print(len(train_X), len(test_X))"
   ]
  },
  {
   "cell_type": "code",
   "execution_count": 29,
   "id": "ca30589e-83f4-4526-b769-1a44107ad0ae",
   "metadata": {},
   "outputs": [
    {
     "name": "stdout",
     "output_type": "stream",
     "text": [
      "60000 10000\n"
     ]
    }
   ],
   "source": [
    "print(len(train_X), len(test_X))\n",
    "#학습데이터 6만개 테스트 데이터 1만개"
   ]
  },
  {
   "cell_type": "code",
   "execution_count": 30,
   "id": "d4e8b19a-8235-47e3-bc34-eac9bae25b3f",
   "metadata": {},
   "outputs": [
    {
     "data": {
      "image/png": "[encoded data removed]",
      "text/plain": [
       "<Figure size 432x288 with 2 Axes>"
      ]
     },
     "metadata": {
      "needs_background": "light"
     },
     "output_type": "display_data"
    }
   ],
   "source": [
    "import matplotlib.pyplot as plt\n",
    "plt.imshow(train_X[11], cmap='pink')\n",
    "plt.colorbar()\n",
    "plt.show()"
   ]
  },
  {
   "cell_type": "code",
   "execution_count": 31,
   "id": "4ace3d64-3c70-4a5a-b5ce-a13a708f2f4c",
   "metadata": {},
   "outputs": [
    {
     "data": {
      "text/plain": [
       "array([[  0,   0,   0,   0,   0,   0,   0,   0,   0,   0,   0,   0,   0,\n",
       "          0,  39, 111,  93,  85,  27,   0,   0,   0,   0,   0,   1,   0,\n",
       "          0,   0],\n",
       "       [  0,   0,   0,   0,   0,   0,   0,   0,   0,   0,   0,   1,   0,\n",
       "          0, 190, 244, 248, 255, 255, 155, 202, 212, 150,   9,   0,   3,\n",
       "          0,   0],\n",
       "       [  0,   0,   0,   0,   0,   0,   0,   0,   0,   0,   0,   2,   0,\n",
       "          0, 213, 227, 233, 227, 243, 246, 255, 250, 255, 146,   0,   9,\n",
       "          0,   0],\n",
       "       [  0,   0,   0,   0,   0,   0,   0,   0,   0,   0,   0,   4,   0,\n",
       "          6, 244, 233, 236, 244, 232, 214, 248, 242, 251,  33,   0,   7,\n",
       "          0,   0],\n",
       "       [  0,   0,   0,   0,   0,   0,   0,   0,   0,   0,   1,   6,   0,\n",
       "         72, 255, 231, 239, 244, 237, 226, 255, 252, 207,  44,  24,   0,\n",
       "          2,   0],\n",
       "       [  0,   0,   0,   0,   0,   0,   0,   0,   0,   0,   0,   0,   0,\n",
       "        125, 231, 215, 253, 252, 234, 246, 254, 239, 128, 114,  63,   0,\n",
       "          3,   0],\n",
       "       [  0,   0,   0,   0,   0,   0,   0,   0,   0,   0,   1,   0,   0,\n",
       "        189, 230, 198, 185, 219, 218, 255, 206, 255, 133,  31,   0,   0,\n",
       "          0,   0],\n",
       "       [  0,   0,   0,   0,   0,   0,   0,   0,   0,   0,   4,   0,   0,\n",
       "        224, 241, 255, 236, 237, 223, 191, 219, 166,   0,   0,   1,   0,\n",
       "          0,   0],\n",
       "       [  0,   0,   0,   0,   0,   0,   0,   0,   0,   0,   1,   0,  61,\n",
       "        245, 202, 220, 237, 220, 242, 199, 255, 178,   0,   0,   1,   0,\n",
       "          0,   0],\n",
       "       [  0,   0,   0,   0,   0,   0,   0,   0,   0,   0,   0,   0, 153,\n",
       "        247, 205, 202, 212, 207, 225, 190, 255,  93, 141,   0,   0,   1,\n",
       "          0,   0],\n",
       "       [  0,   0,   0,   0,   0,   0,   0,   0,   0,   3,   0,   0, 222,\n",
       "        228, 233, 243, 248, 242, 242, 209, 255,   0,  90, 177,   0,   0,\n",
       "          0,   0],\n",
       "       [  0,   0,   0,   0,   0,   0,   0,   0,   0,   2,   0,  46, 255,\n",
       "        221, 235, 235, 213, 248, 220, 206, 255, 225,  28, 255,   0,   0,\n",
       "          0,   0],\n",
       "       [  0,   0,   0,   0,   0,   0,   0,   0,   0,   0,   0, 116, 250,\n",
       "        215, 227, 231, 226, 255, 195, 216, 250, 255, 159, 255, 160,   0,\n",
       "          0,   0],\n",
       "       [  0,   0,   0,   0,   0,   0,   0,   0,   3,   0,   7, 226, 202,\n",
       "        241, 247, 241, 228, 255, 175, 229, 252, 241, 255, 224, 224,  76,\n",
       "          0,   0],\n",
       "       [  0,   0,   0,   0,   0,   0,   0,   0,   0,   0, 131, 255, 210,\n",
       "        212, 251, 252, 229, 255, 175, 227, 254, 239, 245, 230, 223, 149,\n",
       "         90,   0],\n",
       "       [  0,   0,   0,   0,   0,   0,   0,   2,   0,   0, 227, 238, 238,\n",
       "        225, 205, 242, 246, 223, 187, 221, 254, 238, 255, 233, 156,   0,\n",
       "          0,   0],\n",
       "       [  0,   0,   0,   0,   0,   1,   0,   0,   0,  77, 255, 239, 248,\n",
       "        252, 237, 195, 201, 232, 190, 205, 252, 235, 255, 199,   0,   0,\n",
       "          0,   0],\n",
       "       [  0,   0,   0,   0,   0,   0,   0,   0,   0, 207, 223, 186, 215,\n",
       "        223, 255, 255, 217, 229, 254, 251, 244, 240, 255, 207,   0,   0,\n",
       "          1,   0],\n",
       "       [  0,   0,   0,   0,   0,   0,   2,   0,  53, 254, 234, 239, 222,\n",
       "        190, 187, 200, 250, 237, 195, 251, 250, 237, 253, 192,   0,   0,\n",
       "          0,   0],\n",
       "       [  0,   0,   0,   2,   4,   2,   0,   0, 190, 247, 233, 231, 250,\n",
       "        254, 247, 208, 208, 231, 226, 207, 246, 235, 248, 175,   0,   0,\n",
       "          0,   0],\n",
       "       [  0,   1,   6,   0,   0,   0,   0, 117, 245, 184, 242, 238, 235,\n",
       "        238, 244, 233, 255, 255,  99, 155, 255, 233, 252, 154,   0,   0,\n",
       "          0,   0],\n",
       "       [  0,   0,   0,   0,   3,  33, 141, 255, 197, 208, 184, 234, 246,\n",
       "        240, 243, 231, 255,  77,   0, 172, 255, 231, 253, 139,   0,   1,\n",
       "          0,   0],\n",
       "       [  0,   0,  84, 243, 246, 255, 254, 240, 241, 190, 229, 198, 243,\n",
       "        244, 238, 255,  80,   0,   0, 176, 255, 231, 252, 113,   0,   3,\n",
       "          0,   0],\n",
       "       [  0,  25, 223, 239, 230, 231, 231, 234, 241, 247, 191, 225, 230,\n",
       "        252, 255, 173,   0,   0,   0, 170, 255, 228, 251,  97,   0,   4,\n",
       "          0,   0],\n",
       "       [  0, 103, 241, 217, 228, 230, 238, 241, 238, 248, 244, 216, 172,\n",
       "        223, 255,   0,   0,   7,   0, 159, 255, 234, 251,  74,   0,   4,\n",
       "          0,   0],\n",
       "       [  0,   9, 188, 229, 242, 241, 243, 240, 236, 238, 241, 251, 237,\n",
       "        253,  64,   0,   0,   3,   0, 154, 255, 229, 255,  62,   0,   7,\n",
       "          0,   0],\n",
       "       [  0,   0,   0,  28, 123, 199, 249, 255, 255, 255, 255, 255, 245,\n",
       "         72,   0,   0,   0,   3,   0, 117, 255, 245, 220,  19,   0,   4,\n",
       "          0,   0],\n",
       "       [  0,   0,   0,   0,   0,   0,   0,  38,  72,  89,  71,  37,   0,\n",
       "          0,   0,   0,   0,   3,   0,   0,  64,  42,  24,   0,   0,   0,\n",
       "          0,   0]], dtype=uint8)"
      ]
     },
     "execution_count": 31,
     "metadata": {},
     "output_type": "execute_result"
    }
   ],
   "source": [
    "train_X[11]"
   ]
  },
  {
   "cell_type": "code",
   "execution_count": 32,
   "id": "7b0caf03-7759-4ccc-8b3b-3f9547df94dc",
   "metadata": {},
   "outputs": [
    {
     "ename": "SyntaxError",
     "evalue": "unmatched ')' (<ipython-input-32-563d54c67e83>, line 78)",
     "output_type": "error",
     "traceback": [
      "\u001b[1;36m  File \u001b[1;32m\"<ipython-input-32-563d54c67e83>\"\u001b[1;36m, line \u001b[1;32m78\u001b[0m\n\u001b[1;33m    0,   0]], dtype=uint8)\u001b[0m\n\u001b[1;37m                         ^\u001b[0m\n\u001b[1;31mSyntaxError\u001b[0m\u001b[1;31m:\u001b[0m unmatched ')'\n"
     ]
    }
   ],
   "source": [
    "[[  0,   0,   0,   0,   0,   0,   0,   0,   0,   0,   0,   0,   0,   0,  39, 111,  93,  85,  27,   0,   0,   0,   0,   0,   1,   0,   0,   0],\n",
    " [  0,   0,   0,   0,   0,   0,   0,   0,   0,   0,   0,   1,   0,   0, 190, 244, 248, 255, 255, 155, 202, 212, 150,   9,   0,   3,   0,   0],\n",
    " [  0,   0,   0,   0,   0,   0,   0,   0,   0,   0,   0,   2,   0,   0, 213, 227, 233, 227, 243, 246, 255, 250, 255, 146,   0,   9,   0,   0],\n",
    "       [  0,   0,   0,   0,   0,   0,   0,   0,   0,   0,   0,   4,   0,\n",
    "          6, 244, 233, 236, 244, 232, 214, 248, 242, 251,  33,   0,   7,\n",
    "          0,   0],\n",
    "       [  0,   0,   0,   0,   0,   0,   0,   0,   0,   0,   1,   6,   0,\n",
    "         72, 255, 231, 239, 244, 237, 226, 255, 252, 207,  44,  24,   0,\n",
    "          2,   0],\n",
    "       [  0,   0,   0,   0,   0,   0,   0,   0,   0,   0,   0,   0,   0,\n",
    "        125, 231, 215, 253, 252, 234, 246, 254, 239, 128, 114,  63,   0,\n",
    "          3,   0],\n",
    "       [  0,   0,   0,   0,   0,   0,   0,   0,   0,   0,   1,   0,   0,\n",
    "        189, 230, 198, 185, 219, 218, 255, 206, 255, 133,  31,   0,   0,\n",
    "          0,   0],\n",
    "       [  0,   0,   0,   0,   0,   0,   0,   0,   0,   0,   4,   0,   0,\n",
    "        224, 241, 255, 236, 237, 223, 191, 219, 166,   0,   0,   1,   0,\n",
    "          0,   0],\n",
    "       [  0,   0,   0,   0,   0,   0,   0,   0,   0,   0,   1,   0,  61,\n",
    "        245, 202, 220, 237, 220, 242, 199, 255, 178,   0,   0,   1,   0,\n",
    "          0,   0],\n",
    "       [  0,   0,   0,   0,   0,   0,   0,   0,   0,   0,   0,   0, 153,\n",
    "        247, 205, 202, 212, 207, 225, 190, 255,  93, 141,   0,   0,   1,\n",
    "          0,   0],\n",
    "       [  0,   0,   0,   0,   0,   0,   0,   0,   0,   3,   0,   0, 222,\n",
    "        228, 233, 243, 248, 242, 242, 209, 255,   0,  90, 177,   0,   0,\n",
    "          0,   0],\n",
    "       [  0,   0,   0,   0,   0,   0,   0,   0,   0,   2,   0,  46, 255,\n",
    "        221, 235, 235, 213, 248, 220, 206, 255, 225,  28, 255,   0,   0,\n",
    "          0,   0],\n",
    "       [  0,   0,   0,   0,   0,   0,   0,   0,   0,   0,   0, 116, 250,\n",
    "        215, 227, 231, 226, 255, 195, 216, 250, 255, 159, 255, 160,   0,\n",
    "          0,   0],\n",
    "       [  0,   0,   0,   0,   0,   0,   0,   0,   3,   0,   7, 226, 202,\n",
    "        241, 247, 241, 228, 255, 175, 229, 252, 241, 255, 224, 224,  76,\n",
    "          0,   0],\n",
    "       [  0,   0,   0,   0,   0,   0,   0,   0,   0,   0, 131, 255, 210,\n",
    "        212, 251, 252, 229, 255, 175, 227, 254, 239, 245, 230, 223, 149,\n",
    "         90,   0],\n",
    "       [  0,   0,   0,   0,   0,   0,   0,   2,   0,   0, 227, 238, 238,\n",
    "        225, 205, 242, 246, 223, 187, 221, 254, 238, 255, 233, 156,   0,\n",
    "          0,   0],\n",
    "       [  0,   0,   0,   0,   0,   1,   0,   0,   0,  77, 255, 239, 248,\n",
    "        252, 237, 195, 201, 232, 190, 205, 252, 235, 255, 199,   0,   0,\n",
    "          0,   0],\n",
    "       [  0,   0,   0,   0,   0,   0,   0,   0,   0, 207, 223, 186, 215,\n",
    "        223, 255, 255, 217, 229, 254, 251, 244, 240, 255, 207,   0,   0,\n",
    "          1,   0],\n",
    "       [  0,   0,   0,   0,   0,   0,   2,   0,  53, 254, 234, 239, 222,\n",
    "        190, 187, 200, 250, 237, 195, 251, 250, 237, 253, 192,   0,   0,\n",
    "          0,   0],\n",
    "       [  0,   0,   0,   2,   4,   2,   0,   0, 190, 247, 233, 231, 250,\n",
    "        254, 247, 208, 208, 231, 226, 207, 246, 235, 248, 175,   0,   0,\n",
    "          0,   0],\n",
    "       [  0,   1,   6,   0,   0,   0,   0, 117, 245, 184, 242, 238, 235,\n",
    "        238, 244, 233, 255, 255,  99, 155, 255, 233, 252, 154,   0,   0,\n",
    "          0,   0],\n",
    "       [  0,   0,   0,   0,   3,  33, 141, 255, 197, 208, 184, 234, 246,\n",
    "        240, 243, 231, 255,  77,   0, 172, 255, 231, 253, 139,   0,   1,\n",
    "          0,   0],\n",
    "       [  0,   0,  84, 243, 246, 255, 254, 240, 241, 190, 229, 198, 243,\n",
    "        244, 238, 255,  80,   0,   0, 176, 255, 231, 252, 113,   0,   3,\n",
    "          0,   0],\n",
    "       [  0,  25, 223, 239, 230, 231, 231, 234, 241, 247, 191, 225, 230,\n",
    "        252, 255, 173,   0,   0,   0, 170, 255, 228, 251,  97,   0,   4,\n",
    "          0,   0],\n",
    "       [  0, 103, 241, 217, 228, 230, 238, 241, 238, 248, 244, 216, 172,\n",
    "        223, 255,   0,   0,   7,   0, 159, 255, 234, 251,  74,   0,   4,\n",
    "          0,   0],\n",
    "       [  0,   9, 188, 229, 242, 241, 243, 240, 236, 238, 241, 251, 237,\n",
    "        253,  64,   0,   0,   3,   0, 154, 255, 229, 255,  62,   0,   7,\n",
    "          0,   0],\n",
    "       [  0,   0,   0,  28, 123, 199, 249, 255, 255, 255, 255, 255, 245,\n",
    "         72,   0,   0,   0,   3,   0, 117, 255, 245, 220,  19,   0,   4,\n",
    "          0,   0],\n",
    "       [  0,   0,   0,   0,   0,   0,   0,  38,  72,  89,  71,  37,   0,\n",
    "          0,   0,   0,   0,   3,   0,   0,  64,  42,  24,   0,   0,   0,\n",
    "          0,   0]], dtype=uint8)"
   ]
  },
  {
   "cell_type": "code",
   "execution_count": 33,
   "id": "18cebbd9-3015-4c49-a738-9dd410d39057",
   "metadata": {},
   "outputs": [
    {
     "name": "stdout",
     "output_type": "stream",
     "text": [
      "Train_Y :  9\n"
     ]
    }
   ],
   "source": [
    "print(\"Train_Y : \", train_Y[11])"
   ]
  },
  {
   "cell_type": "code",
   "execution_count": 34,
   "id": "bc54d96d-4daa-400f-bdd7-ddc94e6c5ec7",
   "metadata": {},
   "outputs": [
    {
     "name": "stdout",
     "output_type": "stream",
     "text": [
      "train_Y[0].shape :  (28, 28)\n",
      "train_Y[0].ndim :  2\n"
     ]
    }
   ],
   "source": [
    "print(\"train_Y[0].shape : \", train_X[10].shape)\n",
    "print(\"train_Y[0].ndim : \", train_X[10].ndim)\n",
    "\n",
    "#합성신경망에서 더 깊이있게 이야기 해주신다님\n",
    "#1차원이 2차원을 올라가고 막 그럼\n",
    "#대괄호 2개 있음 = 차원 2개\n",
    "#흑백은 2차원\n",
    "#컬러는 rgb차원이 들어가서 총 4차원 1차원에 컬러 3차원"
   ]
  },
  {
   "cell_type": "code",
   "execution_count": 35,
   "id": "9e7cfe28-ab1a-40b9-b5d0-42b024f5749e",
   "metadata": {},
   "outputs": [],
   "source": [
    "train_X_flat = train_X[0].flatten()"
   ]
  },
  {
   "cell_type": "code",
   "execution_count": 36,
   "id": "c292bfe4-392d-4312-aa94-cc44e8cb97bd",
   "metadata": {},
   "outputs": [
    {
     "data": {
      "text/plain": [
       "(784,)"
      ]
     },
     "execution_count": 36,
     "metadata": {},
     "output_type": "execute_result"
    }
   ],
   "source": [
    "train_X_flat.shape"
   ]
  },
  {
   "cell_type": "code",
   "execution_count": 37,
   "id": "24ad435f-9ce4-4cbc-9954-f5e3ec977751",
   "metadata": {},
   "outputs": [
    {
     "data": {
      "text/plain": [
       "1"
      ]
     },
     "execution_count": 37,
     "metadata": {},
     "output_type": "execute_result"
    }
   ],
   "source": [
    "train_X_flat.ndim"
   ]
  },
  {
   "cell_type": "code",
   "execution_count": 38,
   "id": "60824b24-ffaf-4a94-85fb-3ca060ec872c",
   "metadata": {
    "tags": []
   },
   "outputs": [
    {
     "data": {
      "text/plain": [
       "array([  0,   0,   0,   0,   0,   0,   0,   0,   0,   0,   0,   0,   0,\n",
       "         0,   0,   0,   0,   0,   0,   0,   0,   0,   0,   0,   0,   0,\n",
       "         0,   0,   0,   0,   0,   0,   0,   0,   0,   0,   0,   0,   0,\n",
       "         0,   0,   0,   0,   0,   0,   0,   0,   0,   0,   0,   0,   0,\n",
       "         0,   0,   0,   0,   0,   0,   0,   0,   0,   0,   0,   0,   0,\n",
       "         0,   0,   0,   0,   0,   0,   0,   0,   0,   0,   0,   0,   0,\n",
       "         0,   0,   0,   0,   0,   0,   0,   0,   0,   0,   0,   0,   0,\n",
       "         0,   0,   0,   0,   0,   1,   0,   0,  13,  73,   0,   0,   1,\n",
       "         4,   0,   0,   0,   0,   1,   1,   0,   0,   0,   0,   0,   0,\n",
       "         0,   0,   0,   0,   0,   0,   0,   3,   0,  36, 136, 127,  62,\n",
       "        54,   0,   0,   0,   1,   3,   4,   0,   0,   3,   0,   0,   0,\n",
       "         0,   0,   0,   0,   0,   0,   0,   0,   0,   6,   0, 102, 204,\n",
       "       176, 134, 144, 123,  23,   0,   0,   0,   0,  12,  10,   0,   0,\n",
       "         0,   0,   0,   0,   0,   0,   0,   0,   0,   0,   0,   0,   0,\n",
       "       155, 236, 207, 178, 107, 156, 161, 109,  64,  23,  77, 130,  72,\n",
       "        15,   0,   0,   0,   0,   0,   0,   0,   0,   0,   0,   0,   1,\n",
       "         0,  69, 207, 223, 218, 216, 216, 163, 127, 121, 122, 146, 141,\n",
       "        88, 172,  66,   0,   0,   0,   0,   0,   0,   0,   0,   0,   1,\n",
       "         1,   1,   0, 200, 232, 232, 233, 229, 223, 223, 215, 213, 164,\n",
       "       127, 123, 196, 229,   0,   0,   0,   0,   0,   0,   0,   0,   0,\n",
       "         0,   0,   0,   0,   0, 183, 225, 216, 223, 228, 235, 227, 224,\n",
       "       222, 224, 221, 223, 245, 173,   0,   0,   0,   0,   0,   0,   0,\n",
       "         0,   0,   0,   0,   0,   0,   0, 193, 228, 218, 213, 198, 180,\n",
       "       212, 210, 211, 213, 223, 220, 243, 202,   0,   0,   0,   0,   0,\n",
       "         0,   0,   0,   0,   0,   1,   3,   0,  12, 219, 220, 212, 218,\n",
       "       192, 169, 227, 208, 218, 224, 212, 226, 197, 209,  52,   0,   0,\n",
       "         0,   0,   0,   0,   0,   0,   0,   0,   6,   0,  99, 244, 222,\n",
       "       220, 218, 203, 198, 221, 215, 213, 222, 220, 245, 119, 167,  56,\n",
       "         0,   0,   0,   0,   0,   0,   0,   0,   0,   4,   0,   0,  55,\n",
       "       236, 228, 230, 228, 240, 232, 213, 218, 223, 234, 217, 217, 209,\n",
       "        92,   0,   0,   0,   1,   4,   6,   7,   2,   0,   0,   0,   0,\n",
       "         0, 237, 226, 217, 223, 222, 219, 222, 221, 216, 223, 229, 215,\n",
       "       218, 255,  77,   0,   0,   3,   0,   0,   0,   0,   0,   0,   0,\n",
       "        62, 145, 204, 228, 207, 213, 221, 218, 208, 211, 218, 224, 223,\n",
       "       219, 215, 224, 244, 159,   0,   0,   0,   0,   0,  18,  44,  82,\n",
       "       107, 189, 228, 220, 222, 217, 226, 200, 205, 211, 230, 224, 234,\n",
       "       176, 188, 250, 248, 233, 238, 215,   0,   0,  57, 187, 208, 224,\n",
       "       221, 224, 208, 204, 214, 208, 209, 200, 159, 245, 193, 206, 223,\n",
       "       255, 255, 221, 234, 221, 211, 220, 232, 246,   0,   3, 202, 228,\n",
       "       224, 221, 211, 211, 214, 205, 205, 205, 220, 240,  80, 150, 255,\n",
       "       229, 221, 188, 154, 191, 210, 204, 209, 222, 228, 225,   0,  98,\n",
       "       233, 198, 210, 222, 229, 229, 234, 249, 220, 194, 215, 217, 241,\n",
       "        65,  73, 106, 117, 168, 219, 221, 215, 217, 223, 223, 224, 229,\n",
       "        29,  75, 204, 212, 204, 193, 205, 211, 225, 216, 185, 197, 206,\n",
       "       198, 213, 240, 195, 227, 245, 239, 223, 218, 212, 209, 222, 220,\n",
       "       221, 230,  67,  48, 203, 183, 194, 213, 197, 185, 190, 194, 192,\n",
       "       202, 214, 219, 221, 220, 236, 225, 216, 199, 206, 186, 181, 177,\n",
       "       172, 181, 205, 206, 115,   0, 122, 219, 193, 179, 171, 183, 196,\n",
       "       204, 210, 213, 207, 211, 210, 200, 196, 194, 191, 195, 191, 198,\n",
       "       192, 176, 156, 167, 177, 210,  92,   0,   0,  74, 189, 212, 191,\n",
       "       175, 172, 175, 181, 185, 188, 189, 188, 193, 198, 204, 209, 210,\n",
       "       210, 211, 188, 188, 194, 192, 216, 170,   0,   2,   0,   0,   0,\n",
       "        66, 200, 222, 237, 239, 242, 246, 243, 244, 221, 220, 193, 191,\n",
       "       179, 182, 182, 181, 176, 166, 168,  99,  58,   0,   0,   0,   0,\n",
       "         0,   0,   0,   0,   0,  40,  61,  44,  72,  41,  35,   0,   0,\n",
       "         0,   0,   0,   0,   0,   0,   0,   0,   0,   0,   0,   0,   0,\n",
       "         0,   0,   0,   0,   0,   0,   0,   0,   0,   0,   0,   0,   0,\n",
       "         0,   0,   0,   0,   0,   0,   0,   0,   0,   0,   0,   0,   0,\n",
       "         0,   0,   0,   0,   0,   0,   0,   0,   0,   0,   0,   0,   0,\n",
       "         0,   0,   0,   0,   0,   0,   0,   0,   0,   0,   0,   0,   0,\n",
       "         0,   0,   0,   0], dtype=uint8)"
      ]
     },
     "execution_count": 38,
     "metadata": {},
     "output_type": "execute_result"
    }
   ],
   "source": [
    "train_X_flat"
   ]
  },
  {
   "cell_type": "code",
   "execution_count": 39,
   "id": "52a36747-3fd2-46c8-ba68-0b890a449cea",
   "metadata": {},
   "outputs": [
    {
     "name": "stdout",
     "output_type": "stream",
     "text": [
      "784\n",
      "10\n"
     ]
    }
   ],
   "source": [
    "input_cnt = len(train_X_flat)\n",
    "print(input_cnt)\n",
    "output_cnt = len(set(train_Y))\n",
    "print(output_cnt)"
   ]
  },
  {
   "cell_type": "code",
   "execution_count": 40,
   "id": "83e00a72-f220-4fc2-8423-2297cb0a711e",
   "metadata": {},
   "outputs": [
    {
     "data": {
      "text/plain": [
       "array([9, 0, 0, 3, 0, 2, 7, 2, 5, 5], dtype=uint8)"
      ]
     },
     "execution_count": 40,
     "metadata": {},
     "output_type": "execute_result"
    }
   ],
   "source": [
    "train_Y[:10]"
   ]
  },
  {
   "cell_type": "code",
   "execution_count": 42,
   "id": "9dddb9ec-41a4-4637-878d-8285feada593",
   "metadata": {},
   "outputs": [],
   "source": [
    "#가중치를 몇개 만들어 준다고?\n",
    "weight = np.random.normal(0,1,[input_cnt, output_cnt])\n",
    "bias = np.random.normal(0,1,[output_cnt])\n",
    "\n",
    "parameter = {'w' : weight, 'b' : bias}"
   ]
  },
  {
   "cell_type": "code",
   "execution_count": 43,
   "id": "e482fd70-6c7b-4dc1-ad33-e2aac9f1588c",
   "metadata": {},
   "outputs": [
    {
     "data": {
      "text/plain": [
       "(784, 10)"
      ]
     },
     "execution_count": 43,
     "metadata": {},
     "output_type": "execute_result"
    }
   ],
   "source": [
    "parameter['w'].shape"
   ]
  },
  {
   "cell_type": "code",
   "execution_count": 44,
   "id": "f36933ed-4f86-4529-9248-d10e70d7e1b8",
   "metadata": {},
   "outputs": [
    {
     "data": {
      "text/plain": [
       "2"
      ]
     },
     "execution_count": 44,
     "metadata": {},
     "output_type": "execute_result"
    }
   ],
   "source": [
    "parameter['w'].ndim"
   ]
  },
  {
   "cell_type": "code",
   "execution_count": 45,
   "id": "7d6b98ab-5e81-4e0d-bcd8-a8cf76f28adf",
   "metadata": {},
   "outputs": [],
   "source": [
    "import pandas as pd"
   ]
  },
  {
   "cell_type": "code",
   "execution_count": 50,
   "id": "996e7a4c-ec47-4632-8777-9770be17184d",
   "metadata": {},
   "outputs": [],
   "source": [
    "df_w = pd.DataFrame(parameter['w'],\n",
    "            columns = ['w1','w2','w3','w4','w5','w6','w7','w8','w9','w10'])"
   ]
  },
  {
   "cell_type": "code",
   "execution_count": 51,
   "id": "3cba6bce-201f-41e0-acd5-f3dad14b14f0",
   "metadata": {},
   "outputs": [],
   "source": [
    "df_b = pd.DataFrame(parameter['b'],columns=['b'])\n",
    "df_x = pd.DataFrame(train_X_flat,columns=['input_data'])\n",
    "df_data = pd.concat([df_x, df_w, df_b], axis=1)"
   ]
  },
  {
   "cell_type": "code",
   "execution_count": 52,
   "id": "5a42b416-2c4c-4501-81d5-ec07d69fb4c7",
   "metadata": {},
   "outputs": [
    {
     "data": {
      "text/html": [
       "<div>\n",
       "<style scoped>\n",
       "    .dataframe tbody tr th:only-of-type {\n",
       "        vertical-align: middle;\n",
       "    }\n",
       "\n",
       "    .dataframe tbody tr th {\n",
       "        vertical-align: top;\n",
       "    }\n",
       "\n",
       "    .dataframe thead th {\n",
       "        text-align: right;\n",
       "    }\n",
       "</style>\n",
       "<table border=\"1\" class=\"dataframe\">\n",
       "  <thead>\n",
       "    <tr style=\"text-align: right;\">\n",
       "      <th></th>\n",
       "      <th>input_data</th>\n",
       "      <th>w1</th>\n",
       "      <th>w2</th>\n",
       "      <th>w3</th>\n",
       "      <th>w4</th>\n",
       "      <th>w5</th>\n",
       "      <th>w6</th>\n",
       "      <th>w7</th>\n",
       "      <th>w8</th>\n",
       "      <th>w9</th>\n",
       "      <th>w10</th>\n",
       "      <th>b</th>\n",
       "    </tr>\n",
       "  </thead>\n",
       "  <tbody>\n",
       "    <tr>\n",
       "      <th>0</th>\n",
       "      <td>0</td>\n",
       "      <td>0.642630</td>\n",
       "      <td>-0.334912</td>\n",
       "      <td>-0.962107</td>\n",
       "      <td>-1.163041</td>\n",
       "      <td>0.604684</td>\n",
       "      <td>-0.007873</td>\n",
       "      <td>0.274945</td>\n",
       "      <td>0.775333</td>\n",
       "      <td>-0.178911</td>\n",
       "      <td>1.748168</td>\n",
       "      <td>-0.772568</td>\n",
       "    </tr>\n",
       "    <tr>\n",
       "      <th>1</th>\n",
       "      <td>0</td>\n",
       "      <td>0.413466</td>\n",
       "      <td>1.121705</td>\n",
       "      <td>0.664844</td>\n",
       "      <td>0.808432</td>\n",
       "      <td>2.095604</td>\n",
       "      <td>-0.680194</td>\n",
       "      <td>0.238658</td>\n",
       "      <td>-0.179544</td>\n",
       "      <td>1.164522</td>\n",
       "      <td>1.946347</td>\n",
       "      <td>0.101109</td>\n",
       "    </tr>\n",
       "    <tr>\n",
       "      <th>2</th>\n",
       "      <td>0</td>\n",
       "      <td>-1.316653</td>\n",
       "      <td>0.504534</td>\n",
       "      <td>0.545430</td>\n",
       "      <td>0.282762</td>\n",
       "      <td>0.312678</td>\n",
       "      <td>0.692615</td>\n",
       "      <td>1.568167</td>\n",
       "      <td>1.044023</td>\n",
       "      <td>0.123759</td>\n",
       "      <td>1.681382</td>\n",
       "      <td>0.506519</td>\n",
       "    </tr>\n",
       "    <tr>\n",
       "      <th>3</th>\n",
       "      <td>0</td>\n",
       "      <td>0.614115</td>\n",
       "      <td>1.536929</td>\n",
       "      <td>0.518082</td>\n",
       "      <td>2.920961</td>\n",
       "      <td>0.532602</td>\n",
       "      <td>1.146870</td>\n",
       "      <td>-0.988373</td>\n",
       "      <td>1.391977</td>\n",
       "      <td>-1.239521</td>\n",
       "      <td>0.901062</td>\n",
       "      <td>-1.102078</td>\n",
       "    </tr>\n",
       "    <tr>\n",
       "      <th>4</th>\n",
       "      <td>0</td>\n",
       "      <td>-0.251234</td>\n",
       "      <td>0.927169</td>\n",
       "      <td>-0.075529</td>\n",
       "      <td>0.640205</td>\n",
       "      <td>0.651652</td>\n",
       "      <td>-1.506016</td>\n",
       "      <td>0.638768</td>\n",
       "      <td>-1.097165</td>\n",
       "      <td>-0.940780</td>\n",
       "      <td>1.035487</td>\n",
       "      <td>-0.166679</td>\n",
       "    </tr>\n",
       "    <tr>\n",
       "      <th>...</th>\n",
       "      <td>...</td>\n",
       "      <td>...</td>\n",
       "      <td>...</td>\n",
       "      <td>...</td>\n",
       "      <td>...</td>\n",
       "      <td>...</td>\n",
       "      <td>...</td>\n",
       "      <td>...</td>\n",
       "      <td>...</td>\n",
       "      <td>...</td>\n",
       "      <td>...</td>\n",
       "      <td>...</td>\n",
       "    </tr>\n",
       "    <tr>\n",
       "      <th>779</th>\n",
       "      <td>0</td>\n",
       "      <td>0.396389</td>\n",
       "      <td>-0.843304</td>\n",
       "      <td>-0.660800</td>\n",
       "      <td>0.885214</td>\n",
       "      <td>0.494719</td>\n",
       "      <td>0.943820</td>\n",
       "      <td>-0.895166</td>\n",
       "      <td>-1.152496</td>\n",
       "      <td>-0.711401</td>\n",
       "      <td>1.127117</td>\n",
       "      <td>NaN</td>\n",
       "    </tr>\n",
       "    <tr>\n",
       "      <th>780</th>\n",
       "      <td>0</td>\n",
       "      <td>-0.192084</td>\n",
       "      <td>-0.312204</td>\n",
       "      <td>0.039073</td>\n",
       "      <td>-0.630520</td>\n",
       "      <td>-0.802889</td>\n",
       "      <td>0.977444</td>\n",
       "      <td>0.555383</td>\n",
       "      <td>-0.255279</td>\n",
       "      <td>1.084430</td>\n",
       "      <td>1.137050</td>\n",
       "      <td>NaN</td>\n",
       "    </tr>\n",
       "    <tr>\n",
       "      <th>781</th>\n",
       "      <td>0</td>\n",
       "      <td>-0.434813</td>\n",
       "      <td>-1.535709</td>\n",
       "      <td>-0.657687</td>\n",
       "      <td>0.188278</td>\n",
       "      <td>1.372298</td>\n",
       "      <td>0.065735</td>\n",
       "      <td>-1.891890</td>\n",
       "      <td>-0.548005</td>\n",
       "      <td>0.921814</td>\n",
       "      <td>-0.998330</td>\n",
       "      <td>NaN</td>\n",
       "    </tr>\n",
       "    <tr>\n",
       "      <th>782</th>\n",
       "      <td>0</td>\n",
       "      <td>-1.749394</td>\n",
       "      <td>-1.576126</td>\n",
       "      <td>0.672241</td>\n",
       "      <td>-0.960145</td>\n",
       "      <td>0.841825</td>\n",
       "      <td>-0.393942</td>\n",
       "      <td>-0.161946</td>\n",
       "      <td>1.798071</td>\n",
       "      <td>-0.298887</td>\n",
       "      <td>0.119077</td>\n",
       "      <td>NaN</td>\n",
       "    </tr>\n",
       "    <tr>\n",
       "      <th>783</th>\n",
       "      <td>0</td>\n",
       "      <td>0.404358</td>\n",
       "      <td>-0.255676</td>\n",
       "      <td>0.067079</td>\n",
       "      <td>1.377487</td>\n",
       "      <td>0.170847</td>\n",
       "      <td>0.701217</td>\n",
       "      <td>0.404730</td>\n",
       "      <td>0.665734</td>\n",
       "      <td>1.793352</td>\n",
       "      <td>1.472352</td>\n",
       "      <td>NaN</td>\n",
       "    </tr>\n",
       "  </tbody>\n",
       "</table>\n",
       "<p>784 rows × 12 columns</p>\n",
       "</div>"
      ],
      "text/plain": [
       "     input_data        w1        w2        w3        w4        w5        w6  \\\n",
       "0             0  0.642630 -0.334912 -0.962107 -1.163041  0.604684 -0.007873   \n",
       "1             0  0.413466  1.121705  0.664844  0.808432  2.095604 -0.680194   \n",
       "2             0 -1.316653  0.504534  0.545430  0.282762  0.312678  0.692615   \n",
       "3             0  0.614115  1.536929  0.518082  2.920961  0.532602  1.146870   \n",
       "4             0 -0.251234  0.927169 -0.075529  0.640205  0.651652 -1.506016   \n",
       "..          ...       ...       ...       ...       ...       ...       ...   \n",
       "779           0  0.396389 -0.843304 -0.660800  0.885214  0.494719  0.943820   \n",
       "780           0 -0.192084 -0.312204  0.039073 -0.630520 -0.802889  0.977444   \n",
       "781           0 -0.434813 -1.535709 -0.657687  0.188278  1.372298  0.065735   \n",
       "782           0 -1.749394 -1.576126  0.672241 -0.960145  0.841825 -0.393942   \n",
       "783           0  0.404358 -0.255676  0.067079  1.377487  0.170847  0.701217   \n",
       "\n",
       "           w7        w8        w9       w10         b  \n",
       "0    0.274945  0.775333 -0.178911  1.748168 -0.772568  \n",
       "1    0.238658 -0.179544  1.164522  1.946347  0.101109  \n",
       "2    1.568167  1.044023  0.123759  1.681382  0.506519  \n",
       "3   -0.988373  1.391977 -1.239521  0.901062 -1.102078  \n",
       "4    0.638768 -1.097165 -0.940780  1.035487 -0.166679  \n",
       "..        ...       ...       ...       ...       ...  \n",
       "779 -0.895166 -1.152496 -0.711401  1.127117       NaN  \n",
       "780  0.555383 -0.255279  1.084430  1.137050       NaN  \n",
       "781 -1.891890 -0.548005  0.921814 -0.998330       NaN  \n",
       "782 -0.161946  1.798071 -0.298887  0.119077       NaN  \n",
       "783  0.404730  0.665734  1.793352  1.472352       NaN  \n",
       "\n",
       "[784 rows x 12 columns]"
      ]
     },
     "metadata": {},
     "output_type": "display_data"
    }
   ],
   "source": [
    "display(df_data)"
   ]
  },
  {
   "cell_type": "code",
   "execution_count": 54,
   "id": "0e8d9a2f-8ddb-44b2-9b0c-14729884005f",
   "metadata": {},
   "outputs": [
    {
     "data": {
      "text/plain": [
       "-1738.5565115012976"
      ]
     },
     "execution_count": 54,
     "metadata": {},
     "output_type": "execute_result"
    }
   ],
   "source": [
    "y_hat_1 = np.matmul(df_data['input_data'], df_data['w1']) + df_data['b'][0]\n",
    "y_hat_1"
   ]
  },
  {
   "cell_type": "code",
   "execution_count": 55,
   "id": "070620d0-e83f-4acc-9cb1-6cb18b97c28b",
   "metadata": {},
   "outputs": [],
   "source": [
    "y_hat_1 = np.matmul(df_data['input_data'], df_data['w1']) + df_data['b'][0]\n",
    "y_hat_2 = np.matmul(df_data['input_data'], df_data['w2']) + df_data['b'][1]\n",
    "y_hat_3 = np.matmul(df_data['input_data'], df_data['w3']) + df_data['b'][2]\n",
    "y_hat_4 = np.matmul(df_data['input_data'], df_data['w4']) + df_data['b'][3]\n",
    "y_hat_5 = np.matmul(df_data['input_data'], df_data['w5']) + df_data['b'][4]\n",
    "y_hat_6 = np.matmul(df_data['input_data'], df_data['w6']) + df_data['b'][5]\n",
    "y_hat_7 = np.matmul(df_data['input_data'], df_data['w7']) + df_data['b'][6]\n",
    "y_hat_8 = np.matmul(df_data['input_data'], df_data['w8']) + df_data['b'][7]\n",
    "y_hat_9 = np.matmul(df_data['input_data'], df_data['w9']) + df_data['b'][8]\n",
    "y_hat_10 = np.matmul(df_data['input_data'], df_data['w10']) + df_data['b'][9]"
   ]
  },
  {
   "cell_type": "code",
   "execution_count": 57,
   "id": "05890c4e-aa1b-406f-bcd2-9261c890a7fb",
   "metadata": {},
   "outputs": [
    {
     "name": "stdout",
     "output_type": "stream",
     "text": [
      "-1738.5565115012976\n",
      "-739.0596767636287\n",
      "215.12394541850824\n",
      "-718.2253040757149\n",
      "-3455.157714917771\n",
      "-1823.8652105886722\n",
      "1876.0597809041014\n",
      "-6742.7861237690095\n",
      "-4190.160760500463\n",
      "-1631.203367436419\n"
     ]
    }
   ],
   "source": [
    "print(y_hat_1)\n",
    "print(y_hat_2)\n",
    "print(y_hat_3)\n",
    "print(y_hat_4)\n",
    "print(y_hat_5)\n",
    "print(y_hat_6)\n",
    "print(y_hat_7)\n",
    "print(y_hat_8)\n",
    "print(y_hat_9)\n",
    "print(y_hat_10)"
   ]
  },
  {
   "cell_type": "code",
   "execution_count": 58,
   "id": "4c4f91c0-a4c2-4d6d-a5f0-2eaa6abab81b",
   "metadata": {},
   "outputs": [
    {
     "name": "stdout",
     "output_type": "stream",
     "text": [
      "[-1738.5565115   -739.05967676   215.12394542  -718.22530408\n",
      " -3455.15771492 -1823.86521059  1876.0597809  -6742.78612377\n",
      " -4190.1607605  -1631.20336744]\n"
     ]
    }
   ],
   "source": [
    "y_hat_total = np.matmul(df_data['input_data'], parameter['w']) + parameter['b']\n",
    "print(y_hat_total)"
   ]
  },
  {
   "cell_type": "code",
   "execution_count": 104,
   "id": "7d83a760-6f85-4f61-92c9-1ba7303c9375",
   "metadata": {},
   "outputs": [
    {
     "name": "stdout",
     "output_type": "stream",
     "text": [
      "2.718281828459045\n",
      "22026.465794806718\n",
      "3.720075976020836e-44\n",
      "inf\n"
     ]
    },
    {
     "name": "stderr",
     "output_type": "stream",
     "text": [
      "<ipython-input-104-77fa59878fde>:4: RuntimeWarning: overflow encountered in exp\n",
      "  print(np.exp(1000))\n"
     ]
    }
   ],
   "source": [
    "print(np.exp(1))\n",
    "print(np.exp(10))\n",
    "print(np.exp(-100))\n",
    "print(np.exp(1000))\n",
    "#overflow 큰값을 넣었을 때 문제가 생기는 것"
   ]
  },
  {
   "cell_type": "code",
   "execution_count": 64,
   "id": "a595d231-e596-4596-8f3e-65fdcb488764",
   "metadata": {},
   "outputs": [
    {
     "name": "stdout",
     "output_type": "stream",
     "text": [
      "7.38905609893065\n"
     ]
    },
    {
     "data": {
      "text/plain": [
       "7.389"
      ]
     },
     "execution_count": 64,
     "metadata": {},
     "output_type": "execute_result"
    }
   ],
   "source": [
    "print(np.exp(2))\n",
    "\n",
    "np.round(np.exp(2),3)\n",
    "#round는 반올림 해줌, 3자리까지"
   ]
  },
  {
   "cell_type": "code",
   "execution_count": 66,
   "id": "344e8513-64e5-46aa-a33d-79ca41439b48",
   "metadata": {},
   "outputs": [
    {
     "name": "stdout",
     "output_type": "stream",
     "text": [
      "7.389\n",
      "2.718\n",
      "3.32\n",
      "2.014\n"
     ]
    }
   ],
   "source": [
    "print(np.round(np.exp(2),3))\n",
    "print(np.round(np.exp(1),3))\n",
    "print(np.round(np.exp(1.2),3))\n",
    "print(np.round(np.exp(0.7),3))"
   ]
  },
  {
   "cell_type": "code",
   "execution_count": 67,
   "id": "144d2a7f-e164-49d7-8dfd-8b83a0a3cd0c",
   "metadata": {},
   "outputs": [
    {
     "name": "stdout",
     "output_type": "stream",
     "text": [
      "2.718\n"
     ]
    }
   ],
   "source": [
    "korea_hat = 2\n",
    "china_hat = 1\n",
    "\n",
    "print(round(np.exp(korea_hat - china_hat),3))"
   ]
  },
  {
   "cell_type": "code",
   "execution_count": 107,
   "id": "d3c2ec29-eeb2-4cf7-a8eb-392005e5562f",
   "metadata": {},
   "outputs": [
    {
     "data": {
      "text/plain": [
       "2.0137527074704766"
      ]
     },
     "execution_count": 107,
     "metadata": {},
     "output_type": "execute_result"
    }
   ],
   "source": [
    "korea_hat = 2\n",
    "china_hat = 1\n",
    "use_hat = 1.2\n",
    "russia_hat = 0.7\n",
    "\n",
    "korea_e = np.exp(korea_hat)\n",
    "china_e = np.exp(china_hat)\n",
    "use_e = np.exp(use_hat)\n",
    "russia_e = np.exp(russia_hat)\n",
    "\n",
    "korea_e\n",
    "china_e\n",
    "use_e\n",
    "russia_e"
   ]
  },
  {
   "cell_type": "code",
   "execution_count": 108,
   "id": "615d6cff-99ec-4c14-9634-c361a03a0e3d",
   "metadata": {},
   "outputs": [
    {
     "name": "stdout",
     "output_type": "stream",
     "text": [
      "47.85\n"
     ]
    }
   ],
   "source": [
    "korea_Win_P = korea_e / (korea_e + china_e + use_e + russia_e)\n",
    "print(np.round(korea_Win_P*100,2))"
   ]
  },
  {
   "cell_type": "code",
   "execution_count": 113,
   "id": "d394ed67-abf4-4a87-8658-0e2a62f45566",
   "metadata": {},
   "outputs": [
    {
     "name": "stdout",
     "output_type": "stream",
     "text": [
      "Korea_Win : 48.0 %\n"
     ]
    }
   ],
   "source": [
    "korea_Win_P = korea_e / (korea_e + china_e + use_e + russia_e)\n",
    "korea_Win_P = np.round((korea_Win_P),2)\n",
    "print(\"Korea_Win : {} %\".format(korea_Win_P * 100))"
   ]
  },
  {
   "cell_type": "code",
   "execution_count": 117,
   "id": "42f0610e-caba-447e-9308-7320115dcea0",
   "metadata": {},
   "outputs": [],
   "source": [
    "def win_P(country_name, country_e):\n",
    "    country_name = str(country_name)\n",
    "    Win_P = country_e / (korea_e + china_e + use_e + russia_e)\n",
    "    Win_P = np.round(Win_P, 2)\n",
    "    print(\"{} : {} % \".format(country_name, Win_P * 100))\n",
    "\n",
    "    return Win_P"
   ]
  },
  {
   "cell_type": "code",
   "execution_count": 119,
   "id": "afd74f54-d042-4ee0-a643-804d401fdbbe",
   "metadata": {},
   "outputs": [
    {
     "name": "stdout",
     "output_type": "stream",
     "text": [
      "KOREA : 48.0 % \n",
      "CHINA : 18.0 % \n",
      "USE : 22.0 % \n",
      "RUSSIA : 13.0 % \n"
     ]
    }
   ],
   "source": [
    "dataset = ['KOREA','CHINA','USE','RUSSIA']\n",
    "dataset_e = [korea_e, china_e, use_e, russia_e]\n",
    "\n",
    "dataset_row = []\n",
    "\n",
    "for i in range(len(dataset)):\n",
    "    dataset_row.append(win_P(dataset[i], dataset_e[i]))"
   ]
  },
  {
   "cell_type": "code",
   "execution_count": 120,
   "id": "5bba04c5-e0f7-4c86-a448-0c51691817a4",
   "metadata": {},
   "outputs": [
    {
     "name": "stdout",
     "output_type": "stream",
     "text": [
      "Pred - KOREA\n"
     ]
    }
   ],
   "source": [
    "def Pred_label(dataset_row):\n",
    "    if np.argmax(dataset_row) == 0:\n",
    "        print(\"Pred - KOREA\")\n",
    "    if np.argmax(dataset_row) == 1:\n",
    "        print(\"Pred - CHINA\")\n",
    "    if np.argmax(dataset_row) == 2:\n",
    "        print(\"Pred - USE\")\n",
    "    if np.argmax(dataset_row) == 3:\n",
    "        print(\"Pred - RUSSIA\")\n",
    "Pred_label(dataset_row)"
   ]
  },
  {
   "cell_type": "code",
   "execution_count": null,
   "id": "45a75e39-3002-4b8e-aa47-3dab20be87b1",
   "metadata": {},
   "outputs": [],
   "source": []
  },
  {
   "cell_type": "code",
   "execution_count": null,
   "id": "d592ff4a-8dcd-4904-ad9f-ae6ab16a6be2",
   "metadata": {},
   "outputs": [],
   "source": []
  },
  {
   "cell_type": "code",
   "execution_count": null,
   "id": "653c4647-1b6c-4635-b404-4f4c88310044",
   "metadata": {},
   "outputs": [],
   "source": []
  },
  {
   "cell_type": "code",
   "execution_count": null,
   "id": "86e24973-57a8-4ae2-bfd8-b9b4c3a3956d",
   "metadata": {},
   "outputs": [],
   "source": []
  },
  {
   "cell_type": "code",
   "execution_count": null,
   "id": "68114814-aed5-478c-9a3f-e27f88e9a596",
   "metadata": {},
   "outputs": [],
   "source": []
  },
  {
   "cell_type": "code",
   "execution_count": null,
   "id": "1a374d8f-b245-46b5-bcf2-25a97c857862",
   "metadata": {},
   "outputs": [],
   "source": []
  },
  {
   "cell_type": "code",
   "execution_count": null,
   "id": "775ceb41-3431-41c7-817a-b08373451e05",
   "metadata": {},
   "outputs": [],
   "source": []
  },
  {
   "cell_type": "code",
   "execution_count": null,
   "id": "c568868f-07cf-4266-8234-a73fd773c0ab",
   "metadata": {},
   "outputs": [],
   "source": []
  },
  {
   "cell_type": "code",
   "execution_count": null,
   "id": "f4af2ed3-c36f-4b95-a97e-ce13c7fca7f9",
   "metadata": {},
   "outputs": [],
   "source": []
  },
  {
   "cell_type": "code",
   "execution_count": null,
   "id": "26c99f0f-9449-47cf-ba4d-c9af0c0e2ef8",
   "metadata": {},
   "outputs": [],
   "source": []
  }
 ],
 "metadata": {
  "kernelspec": {
   "display_name": "Python 3",
   "language": "python",
   "name": "python3"
  },
  "language_info": {
   "codemirror_mode": {
    "name": "ipython",
    "version": 3
   },
   "file_extension": ".py",
   "mimetype": "text/x-python",
   "name": "python",
   "nbconvert_exporter": "python",
   "pygments_lexer": "ipython3",
   "version": "3.8.8"
  }
 },
 "nbformat": 4,
 "nbformat_minor": 5
}
