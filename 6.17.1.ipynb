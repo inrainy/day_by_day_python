{
 "cells": [
  {
   "cell_type": "code",
   "execution_count": 1,
   "id": "5f121acf-d6bf-4cdd-a570-082bc34cfd6f",
   "metadata": {},
   "outputs": [],
   "source": [
    "import numpy as np\n",
    "import pandas as pd\n",
    "import tensorflow as tf"
   ]
  },
  {
   "cell_type": "code",
   "execution_count": 2,
   "id": "87a26c00-1a24-4285-b540-6c797fc549be",
   "metadata": {},
   "outputs": [
    {
     "name": "stdout",
     "output_type": "stream",
     "text": [
      "2.5.0\n"
     ]
    }
   ],
   "source": [
    "print(tf.__version__)"
   ]
  },
  {
   "cell_type": "code",
   "execution_count": 28,
   "id": "d52ae959-59c7-4c26-97cd-f1bd5af20fa4",
   "metadata": {},
   "outputs": [
    {
     "name": "stdout",
     "output_type": "stream",
     "text": [
      "epoch : 10, \n",
      "learning_rate : 0.001 \n",
      "weight_0 = 0.000475 \n",
      " weight_2 = 0.45641\n"
     ]
    }
   ],
   "source": [
    "epoch = 10\n",
    "learning_rate = 0.001\n",
    "weight_0 = 0.000475\n",
    "weight_1 = 0.45641\n",
    "\n",
    "print(\"epoch : {}, \\nlearning_rate : {} \\n\\\n",
    "weight_0 = {} \\n weight_2 = {}\".format(epoch,learning_rate,weight_0,weight_1))"
   ]
  },
  {
   "cell_type": "code",
   "execution_count": 7,
   "id": "c8bec7ed-4f4e-4f8a-9c9d-4f797050c3e2",
   "metadata": {},
   "outputs": [
    {
     "name": "stdout",
     "output_type": "stream",
     "text": [
      "4\n",
      "13\n"
     ]
    }
   ],
   "source": [
    "name = \"mery\"\n",
    "phone = '010 4742 2442'\n",
    "print(len(name))\n",
    "print(len(phone))"
   ]
  },
  {
   "cell_type": "code",
   "execution_count": 9,
   "id": "198430aa-5695-47e9-b7c1-10c7b6d50e77",
   "metadata": {},
   "outputs": [
    {
     "name": "stdout",
     "output_type": "stream",
     "text": [
      "1\n",
      "2\n"
     ]
    }
   ],
   "source": [
    "string = 'abcabcabc'\n",
    "print(string.find('b'))\n",
    "print(string.find('c'))"
   ]
  },
  {
   "cell_type": "code",
   "execution_count": 10,
   "id": "71163b14-5d73-47bb-9097-d9cdbefd1943",
   "metadata": {},
   "outputs": [],
   "source": [
    "User_A = 'MY NAME IS AI_BOT'"
   ]
  },
  {
   "cell_type": "code",
   "execution_count": 12,
   "id": "71308df4-d852-476a-9781-8a3a235aac1a",
   "metadata": {},
   "outputs": [
    {
     "name": "stdout",
     "output_type": "stream",
     "text": [
      "2 1 2 1 0\n"
     ]
    }
   ],
   "source": [
    "count_a = User_A.count('A')\n",
    "count_e = User_A.count('E')\n",
    "count_i = User_A.count('I')\n",
    "count_o = User_A.count('O')\n",
    "count_u = User_A.count('U')\n",
    "\n",
    "print(count_a, count_e, count_i, count_o, count_u)"
   ]
  },
  {
   "cell_type": "code",
   "execution_count": 13,
   "id": "5b4c05aa-14e6-4d17-9ac6-9da66bb2b2a9",
   "metadata": {},
   "outputs": [
    {
     "name": "stdout",
     "output_type": "stream",
     "text": [
      "25\n"
     ]
    }
   ],
   "source": [
    "User_A = 'AlphaGo is an Artificial Intelligence.'\n",
    "print(User_A.find('Intelligence'))"
   ]
  },
  {
   "cell_type": "code",
   "execution_count": 14,
   "id": "fe68a423-d23c-44fe-9a15-6904eadd587a",
   "metadata": {},
   "outputs": [
    {
     "name": "stdout",
     "output_type": "stream",
     "text": [
      "-1\n"
     ]
    }
   ],
   "source": [
    "User_A = 'AlphaGo is an Artificial Intelligence.'\n",
    "print(User_A.find('GJ'))"
   ]
  },
  {
   "cell_type": "code",
   "execution_count": 15,
   "id": "30c903f7-55ac-4b6c-82a3-d65bd2dd4c09",
   "metadata": {},
   "outputs": [
    {
     "name": "stdout",
     "output_type": "stream",
     "text": [
      "0\n"
     ]
    }
   ],
   "source": [
    "User_B = 'HI~, HI~, HI~'\n",
    "result = User_B.find(\"HI\")\n",
    "print(result)"
   ]
  },
  {
   "cell_type": "code",
   "execution_count": 19,
   "id": "637296b1-74c0-47bb-913d-b74a5054477d",
   "metadata": {},
   "outputs": [
    {
     "name": "stdout",
     "output_type": "stream",
     "text": [
      "find_hi :  0\n",
      "5\n"
     ]
    }
   ],
   "source": [
    "User_B = 'HI~, HI~, HI~'\n",
    "find_hi = User_B.find(\"HI\")\n",
    "print(\"find_hi : \", find_hi)\n",
    "find_hi_2 = User_B.find('HI',1)\n",
    "print(find_hi_2)"
   ]
  },
  {
   "cell_type": "code",
   "execution_count": 21,
   "id": "17724fb2-0f30-48bf-8e12-007ca63fc648",
   "metadata": {},
   "outputs": [
    {
     "name": "stdout",
     "output_type": "stream",
     "text": [
      "C :  False\n",
      "D :  True\n"
     ]
    }
   ],
   "source": [
    "User_C = 'Give me some drugs'\n",
    "User_D = 'see yoy tomorrow'\n",
    "C = User_C.find('drugs') == -1\n",
    "D = User_D.find('drugs') == -1\n",
    "print(\"C : \",C)\n",
    "print(\"D : \",D)"
   ]
  },
  {
   "cell_type": "code",
   "execution_count": 22,
   "id": "9ae7e64a-2f8c-4333-8d24-f8d79b639f80",
   "metadata": {},
   "outputs": [
    {
     "name": "stdout",
     "output_type": "stream",
     "text": [
      "a,b,c,e,d,f\n"
     ]
    }
   ],
   "source": [
    "sep_key = ','\n",
    "join_seq = sep_key.join('abcedf')\n",
    "print(join_seq)"
   ]
  },
  {
   "cell_type": "code",
   "execution_count": 24,
   "id": "3a8b6751-7624-40a5-a394-0a5d43c732f1",
   "metadata": {},
   "outputs": [
    {
     "name": "stdout",
     "output_type": "stream",
     "text": [
      "MY SKILLS :  ai★deep_learning★python★R\n"
     ]
    }
   ],
   "source": [
    "data = ['ai', 'deep_learning', 'python', 'R']\n",
    "sep_key = '★'\n",
    "skills = sep_key.join(data)\n",
    "print(\"MY SKILLS : \", skills)"
   ]
  },
  {
   "cell_type": "code",
   "execution_count": 25,
   "id": "1e88e6f0-15cc-4096-971e-788ddc06e06c",
   "metadata": {},
   "outputs": [
    {
     "name": "stdout",
     "output_type": "stream",
     "text": [
      "YOU CAN DO IT\n"
     ]
    }
   ],
   "source": [
    "###upper함수\n",
    "\n",
    "data = 'you can do it'\n",
    "print(data.upper())"
   ]
  },
  {
   "cell_type": "code",
   "execution_count": 29,
   "id": "fab6cc01-5cb6-41d2-ad4a-e5d732eff651",
   "metadata": {},
   "outputs": [
    {
     "name": "stdout",
     "output_type": "stream",
     "text": [
      "i can do it\n"
     ]
    }
   ],
   "source": [
    "###replace()\n",
    "\n",
    "data = 'you can do it'\n",
    "\n",
    "replaced = data.replace('you', 'i')\n",
    "print(replaced)"
   ]
  },
  {
   "cell_type": "code",
   "execution_count": 33,
   "id": "8a7874c6-4a0a-48f3-ab56-0cf77659562e",
   "metadata": {},
   "outputs": [
    {
     "name": "stdout",
     "output_type": "stream",
     "text": [
      "you can do it\n"
     ]
    }
   ],
   "source": [
    "data = 'you can do it'\n",
    "data_1 = 'I cand do it'\n",
    "\n",
    "replaced = data.replace('data', 'data_1')\n",
    "print(replaced)"
   ]
  },
  {
   "cell_type": "code",
   "execution_count": 35,
   "id": "c0d10a70-4c8d-4c01-8b53-b73dc44bf3d1",
   "metadata": {},
   "outputs": [
    {
     "name": "stdin",
     "output_type": "stream",
     "text": [
      " 10\n",
      " 0.157\n"
     ]
    },
    {
     "name": "stdout",
     "output_type": "stream",
     "text": [
      "epoch : 10\n",
      "loss : 0.157\n",
      "----------Model_1Traning End----------\n"
     ]
    }
   ],
   "source": [
    "epoch = input()\n",
    "loss = input()\n",
    "\n",
    "model = 'Model_1'\n",
    "result = 'epoch : ' + epoch + '\\nloss : ' + loss\n",
    "print(result)\n",
    "\n",
    "print(\"-\"*10 + model + \"Traning End\" + \"-\"*10)"
   ]
  },
  {
   "cell_type": "code",
   "execution_count": 37,
   "id": "99d0a4f4-017b-4d03-9cbf-c1d3aeef27ec",
   "metadata": {},
   "outputs": [
    {
     "name": "stdout",
     "output_type": "stream",
     "text": [
      "사랑해\n",
      "좋아해\n",
      "시팔\n",
      "병신\n"
     ]
    }
   ],
   "source": [
    "Chat_A = \"시팔\"\n",
    "Chat_B = \"병신\"\n",
    "data_1 = Chat_A.replace('시팔', '사랑해')\n",
    "data_2 = Chat_B.replace('병신', '좋아해')\n",
    "print(data_1)\n",
    "print(data_2)\n",
    "print(Chat_A)\n",
    "print(Chat_B)"
   ]
  },
  {
   "cell_type": "code",
   "execution_count": 40,
   "id": "b7a02bf1-a8e7-4480-95fe-e9185656e422",
   "metadata": {},
   "outputs": [
    {
     "name": "stdout",
     "output_type": "stream",
     "text": [
      "['hello', 'world!', 'this', 'is', 'python']\n"
     ]
    }
   ],
   "source": [
    "###split\n",
    "\n",
    "User_A = 'hello world! this is python'\n",
    "Data_1 = User_A.split(' ')\n",
    "print(Data_1)"
   ]
  },
  {
   "cell_type": "code",
   "execution_count": 41,
   "id": "fb19537e-8bd0-4071-a5e9-edf708396364",
   "metadata": {},
   "outputs": [
    {
     "name": "stdout",
     "output_type": "stream",
     "text": [
      "           BTS - KOREAN K_POP STAR          \n",
      "BTS - KOREAN K_POP STAR\n"
     ]
    }
   ],
   "source": [
    "###Strip\n",
    "\n",
    "DATA = '           BTS - KOREAN K_POP STAR          '\n",
    "print(DATA)\n",
    "DATA = DATA.strip()\n",
    "print(DATA)"
   ]
  },
  {
   "cell_type": "code",
   "execution_count": 43,
   "id": "855a6d68-bc40-49a7-b047-293b285d58d2",
   "metadata": {},
   "outputs": [
    {
     "name": "stdout",
     "output_type": "stream",
     "text": [
      "mse = '3' :  True\n",
      "result = 'mse'+ mse\n"
     ]
    }
   ],
   "source": [
    "###isdigit()\n",
    "###문자열인데 숫자 형식의 문자열인지 확인하는 것\n",
    "\n",
    "mse = '3'\n",
    "###문자열 3이 들어가 있음\n",
    "\n",
    "result = 'mse' + mse\n",
    "\n",
    "print(\"mse = '3' : \", mse.isdigit())\n",
    "print(\"result = 'mse'+ mse\")"
   ]
  },
  {
   "cell_type": "code",
   "execution_count": 44,
   "id": "851c6946-7aaa-4e06-9330-36a5428a8539",
   "metadata": {},
   "outputs": [
    {
     "name": "stdout",
     "output_type": "stream",
     "text": [
      "True\n",
      "False\n"
     ]
    }
   ],
   "source": [
    "mse = '3'\n",
    "result = 'mse' + mse\n",
    "\n",
    "print(mse.isdigit())\n",
    "print(result.isdigit())"
   ]
  },
  {
   "cell_type": "code",
   "execution_count": 50,
   "id": "434e8b01-ba00-441e-9bc2-22a0b11c53c0",
   "metadata": {},
   "outputs": [
    {
     "ename": "SyntaxError",
     "evalue": "invalid syntax (<ipython-input-50-ad230e51d5f1>, line 2)",
     "output_type": "error",
     "traceback": [
      "\u001b[1;36m  File \u001b[1;32m\"<ipython-input-50-ad230e51d5f1>\"\u001b[1;36m, line \u001b[1;32m2\u001b[0m\n\u001b[1;33m    print('Train Model Acc = {0}', 'Train Model Loss = {1}.'.format(89.123%,0.014)\u001b[0m\n\u001b[1;37m                                                                           ^\u001b[0m\n\u001b[1;31mSyntaxError\u001b[0m\u001b[1;31m:\u001b[0m invalid syntax\n"
     ]
    }
   ],
   "source": [
    "print('Epoch1')\n",
    "print('Train Model Acc = {0}', 'Train Model Loss = {1}.'.format(89.123%,0.014)"
   ]
  },
  {
   "cell_type": "code",
   "execution_count": 51,
   "id": "6a07cec5-2d5d-4377-b03c-383bd9a8efb9",
   "metadata": {},
   "outputs": [],
   "source": [
    "###정답\n",
    "\n",
    "Epoch = 1\n",
    "Train_acc = 89.12345\n",
    "Train_loss = 0.012345\n",
    "Test_acc = 91.123\n",
    "Test_loss = 0.00012"
   ]
  },
  {
   "cell_type": "code",
   "execution_count": null,
   "id": "62362b20-80cf-4cc6-8e7d-ca695baab226",
   "metadata": {},
   "outputs": [],
   "source": [
    "print(\"EPOCH {} \\nTrain_Model_Acc = {:0.3f}%, \\\n",
    "Train_Model_Loss = {:0.3f} \\n Test_Model_Acc \")\n",
    "###print(\"Epoch {}\\nTrain Model Acc = {:0.3f}%, Train Model Loss = {:0.3f} \\n Test Model Acc = {:0.3f}%, Test Model Loss = {:0.3f}\".\\\n",
    "format(epoch, train_acc, train_loss, test_acc, test_loss))"
   ]
  },
  {
   "cell_type": "code",
   "execution_count": 54,
   "id": "28ab87af-f449-43a2-b00c-9eca9d724fb5",
   "metadata": {},
   "outputs": [
    {
     "name": "stdout",
     "output_type": "stream",
     "text": [
      "row_1 :  [[0.1, 0.5, 1.54, 3, 7]]\n",
      "row_1, row_2 : [[0.1, 0.5, 1.54, 3, 7], [0.4, 0.7, 2, 5, 6]]\n"
     ]
    }
   ],
   "source": [
    "###variable = [value_1, value_2, value_3,...,value_n]\n",
    "\n",
    "data = []\n",
    "row_1 = [0.1,0.5,1.54,3,7]\n",
    "row_2 = [0.4,0.7,2,5,6]\n",
    "rows = []\n",
    "\n",
    "###어펜드는 데이터를 담아줄 빈그릇이 하나 필요함\n",
    "\n",
    "rows.append(row_1)\n",
    "print(\"row_1 : \", rows)\n",
    "rows.append(row_2)\n",
    "print(\"row_1, row_2 :\", rows)\n",
    "\n",
    "###리스트에서 행렬 방식으로 바뀌게 됨을 이해하자"
   ]
  },
  {
   "cell_type": "code",
   "execution_count": 55,
   "id": "157ef4fd-db3e-4671-9d65-fb19b55ce365",
   "metadata": {},
   "outputs": [
    {
     "name": "stdout",
     "output_type": "stream",
     "text": [
      "<class 'list'>\n",
      "<class 'list'>\n",
      "<class 'list'>\n",
      "<class 'list'>\n"
     ]
    }
   ],
   "source": [
    "print(type(data))\n",
    "print(type(rows))\n",
    "print(type(row_1))\n",
    "print(type(row_2))"
   ]
  },
  {
   "cell_type": "code",
   "execution_count": 56,
   "id": "362ad745-145d-4c02-b5df-b820aae5fc91",
   "metadata": {},
   "outputs": [
    {
     "name": "stdout",
     "output_type": "stream",
     "text": [
      "<class 'numpy.ndarray'>\n",
      "(2, 5)\n"
     ]
    }
   ],
   "source": [
    "import numpy as np\n",
    "rows = np.array(rows)\n",
    "print(type(rows))\n",
    "print((rows.shape))\n",
    "\n",
    "###2개의 행과 5개의 열, 데이터가 2개 있고 변수가 5개 있다는 것"
   ]
  },
  {
   "cell_type": "code",
   "execution_count": 85,
   "id": "c091d223-4d20-4b73-90cd-881f724fd6bf",
   "metadata": {},
   "outputs": [
    {
     "name": "stdout",
     "output_type": "stream",
     "text": [
      "dataset :  ['hi,', \"i'm\", 'ai', 'bot.', 'what', 'are', 'you', 'doing', 'now?', \"i'm\", 'studing', 'ai', 'for', 'math', 'oh', '~', '!', 'what', 'is', 'ai', '?']\n",
      "dataset :  ['!', '?', 'ai', 'ai', 'ai', 'are', 'bot.', 'doing', 'for', 'hi,', \"i'm\", \"i'm\", 'is', 'math', 'now?', 'oh', 'studing', 'what', 'what', 'you', '~']\n"
     ]
    }
   ],
   "source": [
    "row_1 = \"HI, I'm AI BOT.\"\n",
    "row_2 = 'What are you doing now?'\n",
    "row_3 = \"I'm studing ai for math\"\n",
    "row_4 = \"oh ~ ! What is ai ?\"\n",
    "\n",
    "row_1 = row_1.lower()\n",
    "###print(row_1)\n",
    "row_2 = row_2.lower()\n",
    "row_3 = row_3.lower()\n",
    "row_4 = row_4.lower()\n",
    "\n",
    "row_1 = row_1.split(' ')\n",
    "###print(row_1)\n",
    "row_2 = row_2.split(' ')\n",
    "row_3 = row_3.split(' ')\n",
    "row_4 = row_4.split(' ')\n",
    "\n",
    "dataset = row_1 + row_2 + row_3 + row_4\n",
    "print(\"dataset : \", dataset)\n",
    "\n",
    "\n",
    "dataset.sort()\n",
    "print(\"dataset : \", dataset)\n",
    "\n",
    "\n",
    "###dataset.remove('?')\n",
    "###dataset.remove('!')\n",
    "###dataset.remove('~')\n"
   ]
  },
  {
   "cell_type": "code",
   "execution_count": 87,
   "id": "095fdb0c-db24-4a43-95ed-1fa6b94466b6",
   "metadata": {},
   "outputs": [
    {
     "name": "stdout",
     "output_type": "stream",
     "text": [
      "dataset_value :  [\"i'm\", 'is', 'oh', 'math', 'doing', 'you', '!', 'what', '~', '?', 'ai', 'for', 'studing', 'hi,', 'are', 'bot.', 'now?']\n"
     ]
    }
   ],
   "source": [
    "\n",
    "dataset_value = list(set(dataset))\n",
    "print(\"dataset_value : \", dataset_value)"
   ]
  },
  {
   "cell_type": "code",
   "execution_count": 89,
   "id": "757d285c-839d-4015-8f1d-f8c11fd95846",
   "metadata": {},
   "outputs": [
    {
     "name": "stdout",
     "output_type": "stream",
     "text": [
      "dataset_value_len :  17\n"
     ]
    }
   ],
   "source": [
    "print(\"dataset_value_len : \", len(dataset_value))"
   ]
  },
  {
   "cell_type": "code",
   "execution_count": 90,
   "id": "0020e6b8-4fd7-4007-95fc-6368e5f83ea9",
   "metadata": {},
   "outputs": [
    {
     "name": "stdout",
     "output_type": "stream",
     "text": [
      "dataset_value :  ['!', '?', 'ai', 'are', 'bot.', 'doing', 'for', 'hi,', \"i'm\", 'is', 'math', 'now?', 'oh', 'studing', 'what', 'you', '~']\n"
     ]
    }
   ],
   "source": [
    "dataset_value.sort()\n",
    "print(\"dataset_value : \", dataset_value)"
   ]
  },
  {
   "cell_type": "code",
   "execution_count": 103,
   "id": "8f0af7fc-cd4b-4978-abe6-b45b6af1a659",
   "metadata": {},
   "outputs": [
    {
     "name": "stdout",
     "output_type": "stream",
     "text": [
      "1\n",
      "1\n",
      "3\n",
      "1\n",
      "1\n"
     ]
    }
   ],
   "source": [
    "print(dataset.count(dataset_value[0]))\n",
    "print(dataset.count(dataset_value[1]))\n",
    "print(dataset.count(dataset_value[2]))\n",
    "print(dataset.count(dataset_value[3]))\n",
    "print(dataset.count(dataset_value[4]))\n",
    "\n",
    "###dataset 'ai' 3개 중복으로 보유가 가능한 리스트\n",
    "###dataset_value 는 set으로 집합시켜서 중복되는 것을 제거하여 len해보면 총 17개의 중봅없는 문자열들이 나옴\n"
   ]
  },
  {
   "cell_type": "code",
   "execution_count": 104,
   "id": "f35b20d1-7a2c-4fe1-ad7a-38cb098e82bb",
   "metadata": {},
   "outputs": [
    {
     "name": "stdout",
     "output_type": "stream",
     "text": [
      "count_value :  [1, 1, 3, 1, 1, 1, 1, 1, 2, 1, 1, 1, 1, 1, 2, 1, 1]\n"
     ]
    }
   ],
   "source": [
    "count_value = []\n",
    "for i in range(len(dataset_value)):\n",
    "    dataset_count = dataset.count(dataset_value[i])\n",
    "    count_value.append(dataset_count)\n",
    "print(\"count_value : \", count_value)"
   ]
  },
  {
   "cell_type": "code",
   "execution_count": 100,
   "id": "012a918a-570f-4550-bdfd-da77103a5f7c",
   "metadata": {},
   "outputs": [
    {
     "data": {
      "text/html": [
       "<div>\n",
       "<style scoped>\n",
       "    .dataframe tbody tr th:only-of-type {\n",
       "        vertical-align: middle;\n",
       "    }\n",
       "\n",
       "    .dataframe tbody tr th {\n",
       "        vertical-align: top;\n",
       "    }\n",
       "\n",
       "    .dataframe thead th {\n",
       "        text-align: right;\n",
       "    }\n",
       "</style>\n",
       "<table border=\"1\" class=\"dataframe\">\n",
       "  <thead>\n",
       "    <tr style=\"text-align: right;\">\n",
       "      <th></th>\n",
       "      <th>COUNT</th>\n",
       "    </tr>\n",
       "  </thead>\n",
       "  <tbody>\n",
       "    <tr>\n",
       "      <th>!</th>\n",
       "      <td>1</td>\n",
       "    </tr>\n",
       "    <tr>\n",
       "      <th>?</th>\n",
       "      <td>1</td>\n",
       "    </tr>\n",
       "    <tr>\n",
       "      <th>ai</th>\n",
       "      <td>3</td>\n",
       "    </tr>\n",
       "    <tr>\n",
       "      <th>are</th>\n",
       "      <td>1</td>\n",
       "    </tr>\n",
       "    <tr>\n",
       "      <th>bot.</th>\n",
       "      <td>1</td>\n",
       "    </tr>\n",
       "    <tr>\n",
       "      <th>doing</th>\n",
       "      <td>1</td>\n",
       "    </tr>\n",
       "    <tr>\n",
       "      <th>for</th>\n",
       "      <td>1</td>\n",
       "    </tr>\n",
       "    <tr>\n",
       "      <th>hi,</th>\n",
       "      <td>1</td>\n",
       "    </tr>\n",
       "    <tr>\n",
       "      <th>i'm</th>\n",
       "      <td>2</td>\n",
       "    </tr>\n",
       "    <tr>\n",
       "      <th>is</th>\n",
       "      <td>1</td>\n",
       "    </tr>\n",
       "    <tr>\n",
       "      <th>math</th>\n",
       "      <td>1</td>\n",
       "    </tr>\n",
       "    <tr>\n",
       "      <th>now?</th>\n",
       "      <td>1</td>\n",
       "    </tr>\n",
       "    <tr>\n",
       "      <th>oh</th>\n",
       "      <td>1</td>\n",
       "    </tr>\n",
       "    <tr>\n",
       "      <th>studing</th>\n",
       "      <td>1</td>\n",
       "    </tr>\n",
       "    <tr>\n",
       "      <th>what</th>\n",
       "      <td>2</td>\n",
       "    </tr>\n",
       "    <tr>\n",
       "      <th>you</th>\n",
       "      <td>1</td>\n",
       "    </tr>\n",
       "    <tr>\n",
       "      <th>~</th>\n",
       "      <td>1</td>\n",
       "    </tr>\n",
       "  </tbody>\n",
       "</table>\n",
       "</div>"
      ],
      "text/plain": [
       "         COUNT\n",
       "!            1\n",
       "?            1\n",
       "ai           3\n",
       "are          1\n",
       "bot.         1\n",
       "doing        1\n",
       "for          1\n",
       "hi,          1\n",
       "i'm          2\n",
       "is           1\n",
       "math         1\n",
       "now?         1\n",
       "oh           1\n",
       "studing      1\n",
       "what         2\n",
       "you          1\n",
       "~            1"
      ]
     },
     "execution_count": 100,
     "metadata": {},
     "output_type": "execute_result"
    }
   ],
   "source": [
    "import pandas as pd\n",
    "dataset_table = pd.DataFrame(data = count_value, index = dataset_value,\n",
    "                             columns=['COUNT'])\n",
    "dataset_table\n"
   ]
  },
  {
   "cell_type": "code",
   "execution_count": 102,
   "id": "1e398d16-e975-484e-9101-c983239437bd",
   "metadata": {},
   "outputs": [
    {
     "data": {
      "text/html": [
       "<div>\n",
       "<style scoped>\n",
       "    .dataframe tbody tr th:only-of-type {\n",
       "        vertical-align: middle;\n",
       "    }\n",
       "\n",
       "    .dataframe tbody tr th {\n",
       "        vertical-align: top;\n",
       "    }\n",
       "\n",
       "    .dataframe thead th {\n",
       "        text-align: right;\n",
       "    }\n",
       "</style>\n",
       "<table border=\"1\" class=\"dataframe\">\n",
       "  <thead>\n",
       "    <tr style=\"text-align: right;\">\n",
       "      <th></th>\n",
       "      <th>!</th>\n",
       "      <th>?</th>\n",
       "      <th>ai</th>\n",
       "      <th>are</th>\n",
       "      <th>bot.</th>\n",
       "      <th>doing</th>\n",
       "      <th>for</th>\n",
       "      <th>hi,</th>\n",
       "      <th>i'm</th>\n",
       "      <th>is</th>\n",
       "      <th>math</th>\n",
       "      <th>now?</th>\n",
       "      <th>oh</th>\n",
       "      <th>studing</th>\n",
       "      <th>what</th>\n",
       "      <th>you</th>\n",
       "      <th>~</th>\n",
       "    </tr>\n",
       "  </thead>\n",
       "  <tbody>\n",
       "    <tr>\n",
       "      <th>COUNT</th>\n",
       "      <td>1</td>\n",
       "      <td>1</td>\n",
       "      <td>3</td>\n",
       "      <td>1</td>\n",
       "      <td>1</td>\n",
       "      <td>1</td>\n",
       "      <td>1</td>\n",
       "      <td>1</td>\n",
       "      <td>2</td>\n",
       "      <td>1</td>\n",
       "      <td>1</td>\n",
       "      <td>1</td>\n",
       "      <td>1</td>\n",
       "      <td>1</td>\n",
       "      <td>2</td>\n",
       "      <td>1</td>\n",
       "      <td>1</td>\n",
       "    </tr>\n",
       "  </tbody>\n",
       "</table>\n",
       "</div>"
      ],
      "text/plain": [
       "       !  ?  ai  are  bot.  doing  for  hi,  i'm  is  math  now?  oh  studing  \\\n",
       "COUNT  1  1   3    1     1      1    1    1    2   1     1     1   1        1   \n",
       "\n",
       "       what  you  ~  \n",
       "COUNT     2    1  1  "
      ]
     },
     "execution_count": 102,
     "metadata": {},
     "output_type": "execute_result"
    }
   ],
   "source": [
    "import pandas as pd\n",
    "dataset_table = pd.DataFrame(data = count_value, index = dataset_value,\n",
    "                             columns=['COUNT'])\n",
    "dataset_table.transpose()"
   ]
  },
  {
   "cell_type": "code",
   "execution_count": null,
   "id": "26b16ea0-3c6b-4296-ad26-4eb3c4a4d311",
   "metadata": {},
   "outputs": [],
   "source": []
  }
 ],
 "metadata": {
  "kernelspec": {
   "display_name": "Python 3",
   "language": "python",
   "name": "python3"
  },
  "language_info": {
   "codemirror_mode": {
    "name": "ipython",
    "version": 3
   },
   "file_extension": ".py",
   "mimetype": "text/x-python",
   "name": "python",
   "nbconvert_exporter": "python",
   "pygments_lexer": "ipython3",
   "version": "3.8.10"
  }
 },
 "nbformat": 4,
 "nbformat_minor": 5
}
