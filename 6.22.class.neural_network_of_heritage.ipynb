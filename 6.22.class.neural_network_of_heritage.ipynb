{
 "cells": [
  {
   "cell_type": "code",
   "execution_count": 12,
   "id": "0ecade8a-dcf2-44ec-afa5-5d8d48ca82dc",
   "metadata": {},
   "outputs": [],
   "source": [
    "class Unit:\n",
    "    def __init__(self, name, hp):\n",
    "        self.name = name\n",
    "        self.hp = hp\n",
    "\n",
    "class AttackUnit(Unit):\n",
    "    def __init__(self, name, hp, damage):\n",
    "        self.damage = damage\n",
    "        super(AttackUnit, self).__init__(name, hp)"
   ]
  },
  {
   "cell_type": "code",
   "execution_count": 14,
   "id": "bf217607-ee0f-4565-8790-05a594eb69d0",
   "metadata": {},
   "outputs": [],
   "source": [
    "#외부에서 상속해주는 \n",
    "def outline_attack(self, location):\n",
    "        print('{0} :  {1} 방향으로 공격을 수행하였습니다. [데미지 : {2}]'\\\n",
    "              .format(self.name, location, self.damage))\n",
    "        \n",
    "AttackUnit.attack = outline_attack"
   ]
  },
  {
   "cell_type": "code",
   "execution_count": 15,
   "id": "9d619175-490c-43d6-a80c-704b9ebc0314",
   "metadata": {},
   "outputs": [],
   "source": [
    "BOSS_UNIT = AttackUnit(\"재화\", 9999, 9999)"
   ]
  },
  {
   "cell_type": "code",
   "execution_count": 16,
   "id": "40a68966-24b7-4e45-8dc1-4a4bcb5f528c",
   "metadata": {},
   "outputs": [
    {
     "name": "stdout",
     "output_type": "stream",
     "text": [
      "재화 :  UP 방향으로 공격을 수행하였습니다. [데미지 : 9999]\n"
     ]
    }
   ],
   "source": [
    "BOSS_UNIT.attack(\"UP\")"
   ]
  },
  {
   "cell_type": "code",
   "execution_count": null,
   "id": "b867eefb-07b7-4129-9488-ac6dfd3f903d",
   "metadata": {},
   "outputs": [],
   "source": []
  }
 ],
 "metadata": {
  "kernelspec": {
   "display_name": "Python 3",
   "language": "python",
   "name": "python3"
  },
  "language_info": {
   "codemirror_mode": {
    "name": "ipython",
    "version": 3
   },
   "file_extension": ".py",
   "mimetype": "text/x-python",
   "name": "python",
   "nbconvert_exporter": "python",
   "pygments_lexer": "ipython3",
   "version": "3.8.10"
  }
 },
 "nbformat": 4,
 "nbformat_minor": 5
}
